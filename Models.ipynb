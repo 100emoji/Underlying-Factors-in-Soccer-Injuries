{
  "cells": [
    {
      "cell_type": "markdown",
      "metadata": {
        "id": "view-in-github",
        "colab_type": "text"
      },
      "source": [
        "<a href=\"https://colab.research.google.com/github/100emoji/Underlying-Factors-in-Soccer-Injuries/blob/main/Models.ipynb\" target=\"_parent\"><img src=\"https://colab.research.google.com/assets/colab-badge.svg\" alt=\"Open In Colab\"/></a>"
      ]
    },
    {
      "cell_type": "markdown",
      "metadata": {
        "id": "kHOr4qoF--bF"
      },
      "source": [
        "# Importing final dataframe\n",
        "\n",
        "\n"
      ]
    },
    {
      "cell_type": "code",
      "execution_count": null,
      "metadata": {
        "colab": {
          "background_save": true
        },
        "id": "bDZFOxXRU9nt",
        "outputId": "90ebbc66-b160-4c20-8075-0afc9a7e31b8"
      },
      "outputs": [
        {
          "name": "stdout",
          "output_type": "stream",
          "text": [
            "Looking in indexes: https://pypi.org/simple, https://us-python.pkg.dev/colab-wheels/public/simple/\n",
            "Requirement already satisfied: keras in /usr/local/lib/python3.8/dist-packages (2.9.0)\n"
          ]
        }
      ],
      "source": [
        "import pandas as pd\n",
        "import numpy as np\n",
        "\n",
        "# Imports nessecary for logreg, cart, and RF\n",
        "from sklearn.tree import DecisionTreeClassifier\n",
        "from sklearn.ensemble import RandomForestClassifier\n",
        "from sklearn.linear_model import LogisticRegression\n",
        "\n",
        "# Imports nessecary for the Neural Network \n",
        "import tensorflow as tf\n",
        "tf.__version__\n",
        "!sudo pip3 install keras\n",
        "from tensorflow.python.keras.engine.sequential import Sequential\n",
        "from tensorflow.python.keras.layers import Dense\n",
        "\n",
        "import tensorflow as tf\n",
        "from tensorflow import keras\n",
        "from sklearn.model_selection import train_test_split\n",
        "import matplotlib.pyplot as plt\n",
        "\n",
        "# Import useful packages from sklearn\n",
        "from sklearn.cluster import KMeans\n",
        "from sklearn.ensemble import RandomForestClassifier, VotingClassifier\n",
        "from sklearn.feature_selection import SelectKBest, f_classif\n",
        "from sklearn.linear_model import LogisticRegression\n",
        "from sklearn.metrics import precision_score, recall_score\n",
        "from sklearn.model_selection import GridSearchCV\n",
        "from sklearn.model_selection import train_test_split\n",
        "from sklearn.preprocessing import StandardScaler\n",
        "from sklearn.tree import DecisionTreeClassifier\n",
        "\n",
        "pd.set_option('notebook_repr_html', True)"
      ]
    },
    {
      "cell_type": "code",
      "execution_count": null,
      "metadata": {
        "colab": {
          "base_uri": "https://localhost:8080/"
        },
        "id": "B-EbQjVWg9EG",
        "outputId": "9e853d59-b5a9-45a6-b44d-8801470a7361"
      },
      "outputs": [
        {
          "name": "stdout",
          "output_type": "stream",
          "text": [
            "2657\n"
          ]
        },
        {
          "data": {
            "text/plain": [
              "2383"
            ]
          },
          "execution_count": 2,
          "metadata": {},
          "output_type": "execute_result"
        }
      ],
      "source": [
        "import pandas as pd\n",
        "df_injury=pd.read_csv('https://docs.google.com/spreadsheets/d/1TwWSYiSJviNgr16MH7TLhf53hKHkPhKD1gn261zhJOU/export?format=csv&gid=2070040166')\n",
        "df_outfield=pd.read_csv('https://docs.google.com/spreadsheets/d/17TDSYYY4TEAEHPxTPP87Pn4WKlI2UGChtnRmozz887s/export?format=csv&gid=1112887342', sep=';')\n",
        "print(len(df_injury))\n",
        "len(df_outfield)"
      ]
    },
    {
      "cell_type": "code",
      "execution_count": null,
      "metadata": {
        "colab": {
          "base_uri": "https://localhost:8080/"
        },
        "id": "YGRSLdEjoATj",
        "outputId": "cf7a88ec-95bf-446b-8803-06d1404796f5"
      },
      "outputs": [
        {
          "name": "stdout",
          "output_type": "stream",
          "text": [
            "Brenden Aaronson     1\n",
            "Jamal Musiala        1\n",
            "Álvaro Negredo       1\n",
            "Reiss Nelson         1\n",
            "Ilija Nestorovski    1\n",
            "                    ..\n",
            "Ryan Fraser          1\n",
            "Davide Frattesi      1\n",
            "Fred                 1\n",
            "Ryan Fredericks      1\n",
            "Filip Đuričić        1\n",
            "Name: player, Length: 2330, dtype: int64\n",
            "Ederson                  1\n",
            "Pedro                    1\n",
            "Ciro Immobile            1\n",
            "Pierluigi Gollini        1\n",
            "Pietro Terracciano       1\n",
            "                        ..\n",
            "Amar Abdirahman Ahmed    1\n",
            "Levi Lumeka              1\n",
            "Wilson Odobert           1\n",
            "Rony Lopes               1\n",
            "Roger Martí              1\n",
            "Name: name, Length: 2654, dtype: int64\n"
          ]
        }
      ],
      "source": [
        "df_outfield = df_outfield.drop_duplicates(subset='player')\n",
        "df_injury = df_injury.drop_duplicates(subset='name')\n",
        "print(df_outfield['player'].value_counts())\n",
        "print(df_injury['name'].value_counts())"
      ]
    },
    {
      "cell_type": "markdown",
      "metadata": {
        "id": "AWIc4ksnUKgA"
      },
      "source": [
        "### Merging dataframes\n",
        "\n",
        "We must now merge the Transfermarkt dataframe (containing the injury data) with the FBRef dataframe (containing in-game statistics)."
      ]
    },
    {
      "cell_type": "code",
      "execution_count": null,
      "metadata": {
        "colab": {
          "base_uri": "https://localhost:8080/",
          "height": 424
        },
        "id": "GoMnQL3SWTgK",
        "outputId": "7df7b6b9-8cc8-42d1-e42b-784b450281cb"
      },
      "outputs": [
        {
          "data": {
            "text/html": [
              "\n",
              "  <div id=\"df-ee04a2ea-873e-4d45-ad04-d9084391b598\">\n",
              "    <div class=\"colab-df-container\">\n",
              "      <div>\n",
              "<style scoped>\n",
              "    .dataframe tbody tr th:only-of-type {\n",
              "        vertical-align: middle;\n",
              "    }\n",
              "\n",
              "    .dataframe tbody tr th {\n",
              "        vertical-align: top;\n",
              "    }\n",
              "\n",
              "    .dataframe thead th {\n",
              "        text-align: right;\n",
              "    }\n",
              "</style>\n",
              "<table border=\"1\" class=\"dataframe\">\n",
              "  <thead>\n",
              "    <tr style=\"text-align: right;\">\n",
              "      <th></th>\n",
              "      <th>name</th>\n",
              "      <th>club_x</th>\n",
              "      <th>injuries</th>\n",
              "      <th>Unnamed: 0</th>\n",
              "      <th>nationality</th>\n",
              "      <th>position</th>\n",
              "      <th>club_y</th>\n",
              "      <th>age</th>\n",
              "      <th>birth_year</th>\n",
              "      <th>games</th>\n",
              "      <th>...</th>\n",
              "      <th>touches_live_ball</th>\n",
              "      <th>dribbles</th>\n",
              "      <th>miscontrols</th>\n",
              "      <th>dispossessed</th>\n",
              "      <th>passes_received</th>\n",
              "      <th>fouls</th>\n",
              "      <th>fouled</th>\n",
              "      <th>ball_recoveries</th>\n",
              "      <th>aerials_won</th>\n",
              "      <th>aerials_lost,</th>\n",
              "    </tr>\n",
              "  </thead>\n",
              "  <tbody>\n",
              "    <tr>\n",
              "      <th>0</th>\n",
              "      <td>Ederson</td>\n",
              "      <td>Manchester City</td>\n",
              "      <td>[('20/21', 'Virus Infection', 'Dec 27, 2020', ...</td>\n",
              "      <td>689</td>\n",
              "      <td>br BRA</td>\n",
              "      <td>GK</td>\n",
              "      <td>Manchester City</td>\n",
              "      <td>29-100</td>\n",
              "      <td>1993</td>\n",
              "      <td>14.0</td>\n",
              "      <td>...</td>\n",
              "      <td>547.0</td>\n",
              "      <td>0.0</td>\n",
              "      <td>0.0</td>\n",
              "      <td>0.0</td>\n",
              "      <td>345.0</td>\n",
              "      <td>0.0</td>\n",
              "      <td>2.0</td>\n",
              "      <td>19.0</td>\n",
              "      <td>3.0</td>\n",
              "      <td>0.0,</td>\n",
              "    </tr>\n",
              "    <tr>\n",
              "      <th>1</th>\n",
              "      <td>Rúben Dias</td>\n",
              "      <td>Manchester City</td>\n",
              "      <td>[('21/22', 'Knock', 'Mar 3, 2022', 'Apr 11, 20...</td>\n",
              "      <td>615</td>\n",
              "      <td>pt POR</td>\n",
              "      <td>DF</td>\n",
              "      <td>Manchester City</td>\n",
              "      <td>25-195</td>\n",
              "      <td>1997</td>\n",
              "      <td>12.0</td>\n",
              "      <td>...</td>\n",
              "      <td>972.0</td>\n",
              "      <td>3.0</td>\n",
              "      <td>0.0</td>\n",
              "      <td>0.0</td>\n",
              "      <td>762.0</td>\n",
              "      <td>10.0</td>\n",
              "      <td>3.0</td>\n",
              "      <td>41.0</td>\n",
              "      <td>26.0</td>\n",
              "      <td>13.0,</td>\n",
              "    </tr>\n",
              "    <tr>\n",
              "      <th>2</th>\n",
              "      <td>Aymeric Laporte</td>\n",
              "      <td>Manchester City</td>\n",
              "      <td>[('22/23', 'Knee Surgery', 'Jun 30, 2022', 'Oc...</td>\n",
              "      <td>1232</td>\n",
              "      <td>es ESP</td>\n",
              "      <td>DF</td>\n",
              "      <td>Manchester City</td>\n",
              "      <td>28-182</td>\n",
              "      <td>1994</td>\n",
              "      <td>4.0</td>\n",
              "      <td>...</td>\n",
              "      <td>279.0</td>\n",
              "      <td>2.0</td>\n",
              "      <td>1.0</td>\n",
              "      <td>0.0</td>\n",
              "      <td>216.0</td>\n",
              "      <td>0.0</td>\n",
              "      <td>2.0</td>\n",
              "      <td>11.0</td>\n",
              "      <td>11.0</td>\n",
              "      <td>4.0,</td>\n",
              "    </tr>\n",
              "    <tr>\n",
              "      <th>3</th>\n",
              "      <td>John Stones</td>\n",
              "      <td>Manchester City</td>\n",
              "      <td>[('22/23', 'Hamstring Injury', 'Sep 26, 2022',...</td>\n",
              "      <td>2101</td>\n",
              "      <td>eng ENG</td>\n",
              "      <td>DF</td>\n",
              "      <td>Manchester City</td>\n",
              "      <td>28-181</td>\n",
              "      <td>1994</td>\n",
              "      <td>9.0</td>\n",
              "      <td>...</td>\n",
              "      <td>686.0</td>\n",
              "      <td>5.0</td>\n",
              "      <td>3.0</td>\n",
              "      <td>1.0</td>\n",
              "      <td>541.0</td>\n",
              "      <td>3.0</td>\n",
              "      <td>3.0</td>\n",
              "      <td>37.0</td>\n",
              "      <td>10.0</td>\n",
              "      <td>6.0,</td>\n",
              "    </tr>\n",
              "    <tr>\n",
              "      <th>4</th>\n",
              "      <td>Nathan Aké</td>\n",
              "      <td>Manchester City</td>\n",
              "      <td>[('20/21', 'Hamstring Injury', 'Dec 27, 2020',...</td>\n",
              "      <td>37</td>\n",
              "      <td>nl NED</td>\n",
              "      <td>DF</td>\n",
              "      <td>Manchester City</td>\n",
              "      <td>27-280</td>\n",
              "      <td>1995</td>\n",
              "      <td>8.0</td>\n",
              "      <td>...</td>\n",
              "      <td>648.0</td>\n",
              "      <td>0.0</td>\n",
              "      <td>3.0</td>\n",
              "      <td>0.0</td>\n",
              "      <td>538.0</td>\n",
              "      <td>2.0</td>\n",
              "      <td>4.0</td>\n",
              "      <td>24.0</td>\n",
              "      <td>13.0</td>\n",
              "      <td>10.0,</td>\n",
              "    </tr>\n",
              "    <tr>\n",
              "      <th>...</th>\n",
              "      <td>...</td>\n",
              "      <td>...</td>\n",
              "      <td>...</td>\n",
              "      <td>...</td>\n",
              "      <td>...</td>\n",
              "      <td>...</td>\n",
              "      <td>...</td>\n",
              "      <td>...</td>\n",
              "      <td>...</td>\n",
              "      <td>...</td>\n",
              "      <td>...</td>\n",
              "      <td>...</td>\n",
              "      <td>...</td>\n",
              "      <td>...</td>\n",
              "      <td>...</td>\n",
              "      <td>...</td>\n",
              "      <td>...</td>\n",
              "      <td>...</td>\n",
              "      <td>...</td>\n",
              "      <td>...</td>\n",
              "      <td>...</td>\n",
              "    </tr>\n",
              "    <tr>\n",
              "      <th>1919</th>\n",
              "      <td>Álex Collado</td>\n",
              "      <td>Elche CF</td>\n",
              "      <td>[('20/21', 'Muscular problems', 'Apr 24, 2021'...</td>\n",
              "      <td>472</td>\n",
              "      <td>es ESP</td>\n",
              "      <td>MF,FW</td>\n",
              "      <td>Elche</td>\n",
              "      <td>23-217</td>\n",
              "      <td>1999</td>\n",
              "      <td>8.0</td>\n",
              "      <td>...</td>\n",
              "      <td>282.0</td>\n",
              "      <td>16.0</td>\n",
              "      <td>11.0</td>\n",
              "      <td>7.0</td>\n",
              "      <td>203.0</td>\n",
              "      <td>7.0</td>\n",
              "      <td>6.0</td>\n",
              "      <td>23.0</td>\n",
              "      <td>4.0</td>\n",
              "      <td>5.0</td>\n",
              "    </tr>\n",
              "    <tr>\n",
              "      <th>1920</th>\n",
              "      <td>Josan</td>\n",
              "      <td>Elche CF</td>\n",
              "      <td>[('18/19', 'Tear in the abductor muscle', 'Sep...</td>\n",
              "      <td>1093</td>\n",
              "      <td>es ESP</td>\n",
              "      <td>DF,MF</td>\n",
              "      <td>Elche</td>\n",
              "      <td>32-357</td>\n",
              "      <td>1989</td>\n",
              "      <td>12.0</td>\n",
              "      <td>...</td>\n",
              "      <td>187.0</td>\n",
              "      <td>7.0</td>\n",
              "      <td>11.0</td>\n",
              "      <td>15.0</td>\n",
              "      <td>122.0</td>\n",
              "      <td>6.0</td>\n",
              "      <td>6.0</td>\n",
              "      <td>16.0</td>\n",
              "      <td>3.0</td>\n",
              "      <td>3.0</td>\n",
              "    </tr>\n",
              "    <tr>\n",
              "      <th>1921</th>\n",
              "      <td>Lucas Boyé</td>\n",
              "      <td>Elche CF</td>\n",
              "      <td>[('20/21', 'Knock', 'Oct 14, 2020', 'Oct 28, 2...</td>\n",
              "      <td>307</td>\n",
              "      <td>ar ARG</td>\n",
              "      <td>FW</td>\n",
              "      <td>Elche</td>\n",
              "      <td>26-270</td>\n",
              "      <td>1996</td>\n",
              "      <td>12.0</td>\n",
              "      <td>...</td>\n",
              "      <td>318.0</td>\n",
              "      <td>30.0</td>\n",
              "      <td>52.0</td>\n",
              "      <td>26.0</td>\n",
              "      <td>232.0</td>\n",
              "      <td>17.0</td>\n",
              "      <td>13.0</td>\n",
              "      <td>27.0</td>\n",
              "      <td>8.0</td>\n",
              "      <td>15.0,</td>\n",
              "    </tr>\n",
              "    <tr>\n",
              "      <th>1922</th>\n",
              "      <td>Ezequiel Ponce</td>\n",
              "      <td>Elche CF</td>\n",
              "      <td>[('21/22', 'Torn Meniscus', 'Sep 30, 2021', 'D...</td>\n",
              "      <td>1772</td>\n",
              "      <td>ar ARG</td>\n",
              "      <td>FW</td>\n",
              "      <td>Elche</td>\n",
              "      <td>25-241</td>\n",
              "      <td>1997</td>\n",
              "      <td>13.0</td>\n",
              "      <td>...</td>\n",
              "      <td>183.0</td>\n",
              "      <td>8.0</td>\n",
              "      <td>15.0</td>\n",
              "      <td>17.0</td>\n",
              "      <td>136.0</td>\n",
              "      <td>18.0</td>\n",
              "      <td>3.0</td>\n",
              "      <td>13.0</td>\n",
              "      <td>16.0</td>\n",
              "      <td>19.0,</td>\n",
              "    </tr>\n",
              "    <tr>\n",
              "      <th>1923</th>\n",
              "      <td>Roger Martí</td>\n",
              "      <td>Elche CF</td>\n",
              "      <td>[('20/21', 'Corona virus', 'Nov 6, 2020', 'Nov...</td>\n",
              "      <td>1403</td>\n",
              "      <td>es ESP</td>\n",
              "      <td>FW</td>\n",
              "      <td>Elche</td>\n",
              "      <td>31-326</td>\n",
              "      <td>1991</td>\n",
              "      <td>8.0</td>\n",
              "      <td>...</td>\n",
              "      <td>145.0</td>\n",
              "      <td>5.0</td>\n",
              "      <td>15.0</td>\n",
              "      <td>5.0</td>\n",
              "      <td>88.0</td>\n",
              "      <td>11.0</td>\n",
              "      <td>8.0</td>\n",
              "      <td>19.0</td>\n",
              "      <td>6.0</td>\n",
              "      <td>10.0,</td>\n",
              "    </tr>\n",
              "  </tbody>\n",
              "</table>\n",
              "<p>1924 rows × 51 columns</p>\n",
              "</div>\n",
              "      <button class=\"colab-df-convert\" onclick=\"convertToInteractive('df-ee04a2ea-873e-4d45-ad04-d9084391b598')\"\n",
              "              title=\"Convert this dataframe to an interactive table.\"\n",
              "              style=\"display:none;\">\n",
              "        \n",
              "  <svg xmlns=\"http://www.w3.org/2000/svg\" height=\"24px\"viewBox=\"0 0 24 24\"\n",
              "       width=\"24px\">\n",
              "    <path d=\"M0 0h24v24H0V0z\" fill=\"none\"/>\n",
              "    <path d=\"M18.56 5.44l.94 2.06.94-2.06 2.06-.94-2.06-.94-.94-2.06-.94 2.06-2.06.94zm-11 1L8.5 8.5l.94-2.06 2.06-.94-2.06-.94L8.5 2.5l-.94 2.06-2.06.94zm10 10l.94 2.06.94-2.06 2.06-.94-2.06-.94-.94-2.06-.94 2.06-2.06.94z\"/><path d=\"M17.41 7.96l-1.37-1.37c-.4-.4-.92-.59-1.43-.59-.52 0-1.04.2-1.43.59L10.3 9.45l-7.72 7.72c-.78.78-.78 2.05 0 2.83L4 21.41c.39.39.9.59 1.41.59.51 0 1.02-.2 1.41-.59l7.78-7.78 2.81-2.81c.8-.78.8-2.07 0-2.86zM5.41 20L4 18.59l7.72-7.72 1.47 1.35L5.41 20z\"/>\n",
              "  </svg>\n",
              "      </button>\n",
              "      \n",
              "  <style>\n",
              "    .colab-df-container {\n",
              "      display:flex;\n",
              "      flex-wrap:wrap;\n",
              "      gap: 12px;\n",
              "    }\n",
              "\n",
              "    .colab-df-convert {\n",
              "      background-color: #E8F0FE;\n",
              "      border: none;\n",
              "      border-radius: 50%;\n",
              "      cursor: pointer;\n",
              "      display: none;\n",
              "      fill: #1967D2;\n",
              "      height: 32px;\n",
              "      padding: 0 0 0 0;\n",
              "      width: 32px;\n",
              "    }\n",
              "\n",
              "    .colab-df-convert:hover {\n",
              "      background-color: #E2EBFA;\n",
              "      box-shadow: 0px 1px 2px rgba(60, 64, 67, 0.3), 0px 1px 3px 1px rgba(60, 64, 67, 0.15);\n",
              "      fill: #174EA6;\n",
              "    }\n",
              "\n",
              "    [theme=dark] .colab-df-convert {\n",
              "      background-color: #3B4455;\n",
              "      fill: #D2E3FC;\n",
              "    }\n",
              "\n",
              "    [theme=dark] .colab-df-convert:hover {\n",
              "      background-color: #434B5C;\n",
              "      box-shadow: 0px 1px 3px 1px rgba(0, 0, 0, 0.15);\n",
              "      filter: drop-shadow(0px 1px 2px rgba(0, 0, 0, 0.3));\n",
              "      fill: #FFFFFF;\n",
              "    }\n",
              "  </style>\n",
              "\n",
              "      <script>\n",
              "        const buttonEl =\n",
              "          document.querySelector('#df-ee04a2ea-873e-4d45-ad04-d9084391b598 button.colab-df-convert');\n",
              "        buttonEl.style.display =\n",
              "          google.colab.kernel.accessAllowed ? 'block' : 'none';\n",
              "\n",
              "        async function convertToInteractive(key) {\n",
              "          const element = document.querySelector('#df-ee04a2ea-873e-4d45-ad04-d9084391b598');\n",
              "          const dataTable =\n",
              "            await google.colab.kernel.invokeFunction('convertToInteractive',\n",
              "                                                     [key], {});\n",
              "          if (!dataTable) return;\n",
              "\n",
              "          const docLinkHtml = 'Like what you see? Visit the ' +\n",
              "            '<a target=\"_blank\" href=https://colab.research.google.com/notebooks/data_table.ipynb>data table notebook</a>'\n",
              "            + ' to learn more about interactive tables.';\n",
              "          element.innerHTML = '';\n",
              "          dataTable['output_type'] = 'display_data';\n",
              "          await google.colab.output.renderOutput(dataTable, element);\n",
              "          const docLink = document.createElement('div');\n",
              "          docLink.innerHTML = docLinkHtml;\n",
              "          element.appendChild(docLink);\n",
              "        }\n",
              "      </script>\n",
              "    </div>\n",
              "  </div>\n",
              "  "
            ],
            "text/plain": [
              "                 name           club_x  \\\n",
              "0             Ederson  Manchester City   \n",
              "1          Rúben Dias  Manchester City   \n",
              "2     Aymeric Laporte  Manchester City   \n",
              "3         John Stones  Manchester City   \n",
              "4          Nathan Aké  Manchester City   \n",
              "...               ...              ...   \n",
              "1919     Álex Collado         Elche CF   \n",
              "1920            Josan         Elche CF   \n",
              "1921       Lucas Boyé         Elche CF   \n",
              "1922   Ezequiel Ponce         Elche CF   \n",
              "1923      Roger Martí         Elche CF   \n",
              "\n",
              "                                               injuries  Unnamed: 0  \\\n",
              "0     [('20/21', 'Virus Infection', 'Dec 27, 2020', ...         689   \n",
              "1     [('21/22', 'Knock', 'Mar 3, 2022', 'Apr 11, 20...         615   \n",
              "2     [('22/23', 'Knee Surgery', 'Jun 30, 2022', 'Oc...        1232   \n",
              "3     [('22/23', 'Hamstring Injury', 'Sep 26, 2022',...        2101   \n",
              "4     [('20/21', 'Hamstring Injury', 'Dec 27, 2020',...          37   \n",
              "...                                                 ...         ...   \n",
              "1919  [('20/21', 'Muscular problems', 'Apr 24, 2021'...         472   \n",
              "1920  [('18/19', 'Tear in the abductor muscle', 'Sep...        1093   \n",
              "1921  [('20/21', 'Knock', 'Oct 14, 2020', 'Oct 28, 2...         307   \n",
              "1922  [('21/22', 'Torn Meniscus', 'Sep 30, 2021', 'D...        1772   \n",
              "1923  [('20/21', 'Corona virus', 'Nov 6, 2020', 'Nov...        1403   \n",
              "\n",
              "     nationality position           club_y     age  birth_year  games  ...  \\\n",
              "0         br BRA       GK  Manchester City  29-100        1993   14.0  ...   \n",
              "1         pt POR       DF  Manchester City  25-195        1997   12.0  ...   \n",
              "2         es ESP       DF  Manchester City  28-182        1994    4.0  ...   \n",
              "3        eng ENG       DF  Manchester City  28-181        1994    9.0  ...   \n",
              "4         nl NED       DF  Manchester City  27-280        1995    8.0  ...   \n",
              "...          ...      ...              ...     ...         ...    ...  ...   \n",
              "1919      es ESP    MF,FW            Elche  23-217        1999    8.0  ...   \n",
              "1920      es ESP    DF,MF            Elche  32-357        1989   12.0  ...   \n",
              "1921      ar ARG       FW            Elche  26-270        1996   12.0  ...   \n",
              "1922      ar ARG       FW            Elche  25-241        1997   13.0  ...   \n",
              "1923      es ESP       FW            Elche  31-326        1991    8.0  ...   \n",
              "\n",
              "      touches_live_ball  dribbles  miscontrols  dispossessed  passes_received  \\\n",
              "0                 547.0       0.0          0.0           0.0            345.0   \n",
              "1                 972.0       3.0          0.0           0.0            762.0   \n",
              "2                 279.0       2.0          1.0           0.0            216.0   \n",
              "3                 686.0       5.0          3.0           1.0            541.0   \n",
              "4                 648.0       0.0          3.0           0.0            538.0   \n",
              "...                 ...       ...          ...           ...              ...   \n",
              "1919              282.0      16.0         11.0           7.0            203.0   \n",
              "1920              187.0       7.0         11.0          15.0            122.0   \n",
              "1921              318.0      30.0         52.0          26.0            232.0   \n",
              "1922              183.0       8.0         15.0          17.0            136.0   \n",
              "1923              145.0       5.0         15.0           5.0             88.0   \n",
              "\n",
              "      fouls  fouled  ball_recoveries  aerials_won  aerials_lost,  \n",
              "0       0.0     2.0             19.0          3.0           0.0,  \n",
              "1      10.0     3.0             41.0         26.0          13.0,  \n",
              "2       0.0     2.0             11.0         11.0           4.0,  \n",
              "3       3.0     3.0             37.0         10.0           6.0,  \n",
              "4       2.0     4.0             24.0         13.0          10.0,  \n",
              "...     ...     ...              ...          ...            ...  \n",
              "1919    7.0     6.0             23.0          4.0            5.0  \n",
              "1920    6.0     6.0             16.0          3.0            3.0  \n",
              "1921   17.0    13.0             27.0          8.0          15.0,  \n",
              "1922   18.0     3.0             13.0         16.0          19.0,  \n",
              "1923   11.0     8.0             19.0          6.0          10.0,  \n",
              "\n",
              "[1924 rows x 51 columns]"
            ]
          },
          "execution_count": 4,
          "metadata": {},
          "output_type": "execute_result"
        }
      ],
      "source": [
        "df_outfield = df_outfield.rename(columns={\"player\": \"name\", \"team\": \"club\"})\n",
        "df_injury = pd.merge(df_injury, df_outfield, how='inner', on='name')\n",
        "df_injury"
      ]
    },
    {
      "cell_type": "code",
      "execution_count": null,
      "metadata": {
        "colab": {
          "base_uri": "https://localhost:8080/"
        },
        "id": "jMn287w9Hj4y",
        "outputId": "e997936a-0b4a-4765-ab77-7af52add0117"
      },
      "outputs": [
        {
          "data": {
            "text/plain": [
              "1924"
            ]
          },
          "execution_count": 6,
          "metadata": {},
          "output_type": "execute_result"
        }
      ],
      "source": [
        "# from google.colab import files\n",
        "\n",
        "# df_injury.to_csv('df.csv')\n",
        "# files.download('df.csv')\n",
        "len(df_injury)"
      ]
    },
    {
      "cell_type": "markdown",
      "metadata": {
        "id": "WVfvh50XUNrC"
      },
      "source": [
        "# Data Cleansing\n",
        "\n",
        "In this section, we will outline the steps we took to clean the data obtained from Transfermarkt / FBRef and make it usable to train our model."
      ]
    },
    {
      "cell_type": "markdown",
      "metadata": {
        "id": "Ftyi34_mUQ1v"
      },
      "source": [
        "### Unpacking arrays\n",
        "\n",
        "There are certain columns containing arrays of tuples (historical data) that cannot be used as features.\n",
        "\n",
        "Therefore, we must unpack the values within these arrays to make usable features for the model."
      ]
    },
    {
      "cell_type": "code",
      "execution_count": null,
      "metadata": {
        "id": "6HRNW1zRarpD"
      },
      "outputs": [],
      "source": [
        "# INJURIES COLUMN\n",
        "import ast\n",
        "import numpy as np\n",
        "df_injury['injuries'] = df_injury['injuries'].apply(lambda arr: ast.literal_eval(arr)) # only run this once to transform into array (currently held as string)\n",
        "df_injury['n_injuries'] = df_injury['injuries'].apply(lambda arr: len(arr)) # total number of injuries suffered\n",
        "df_injury['n_severe_injuries'] = df_injury['injuries'].apply(lambda arr: sum([1 for x in arr if int(x[4]) > 60])) # total number of severe injuries suffered (defined as 60 days missed or greater)"
      ]
    },
    {
      "cell_type": "markdown",
      "metadata": {
        "id": "EIxE_3GMnGzL"
      },
      "source": [
        "### Target column\n",
        "\n",
        "In the cell below we create our target variable column."
      ]
    },
    {
      "cell_type": "code",
      "execution_count": null,
      "metadata": {
        "id": "30X999MhavBt"
      },
      "outputs": [],
      "source": [
        "from datetime import datetime\n",
        "df_injury['currently_injured'] = df_injury['injuries'].apply(lambda arr: sum([1 for x in arr if x[3] == '-' or datetime.strptime(x[3], \"%b %d, %Y\") > datetime.now()])) # currently injured players"
      ]
    },
    {
      "cell_type": "markdown",
      "metadata": {
        "id": "hpkAVShmUtHE"
      },
      "source": [
        "### Datatype conversions, non-usable features and dummy variables"
      ]
    },
    {
      "cell_type": "code",
      "execution_count": null,
      "metadata": {
        "id": "yZce7whWTZ5q"
      },
      "outputs": [],
      "source": [
        "# players who have not stepped foot onto the field, will have 0s for 90% of columns\n",
        "# we will remove these rows from the dataset (total of 24, 1 injured)\n",
        "df_injury = df_injury[df_injury['minutes_90s'] != 0]"
      ]
    },
    {
      "cell_type": "code",
      "execution_count": null,
      "metadata": {
        "colab": {
          "base_uri": "https://localhost:8080/"
        },
        "id": "izeFsGvoUx1Q",
        "outputId": "9e023a4d-adaa-43a4-bafa-a36576974b5a"
      },
      "outputs": [
        {
          "name": "stderr",
          "output_type": "stream",
          "text": [
            "/usr/local/lib/python3.8/dist-packages/pandas/core/frame.py:4906: SettingWithCopyWarning: \n",
            "A value is trying to be set on a copy of a slice from a DataFrame\n",
            "\n",
            "See the caveats in the documentation: https://pandas.pydata.org/pandas-docs/stable/user_guide/indexing.html#returning-a-view-versus-a-copy\n",
            "  return super().drop(\n",
            "<ipython-input-45-b7632250f8b3>:9: SettingWithCopyWarning: \n",
            "A value is trying to be set on a copy of a slice from a DataFrame.\n",
            "Try using .loc[row_indexer,col_indexer] = value instead\n",
            "\n",
            "See the caveats in the documentation: https://pandas.pydata.org/pandas-docs/stable/user_guide/indexing.html#returning-a-view-versus-a-copy\n",
            "  df_injury['age'] = df_injury['age'].apply(lambda row : float(row[0:2])+(float(row[3:6])/365))\n",
            "<ipython-input-45-b7632250f8b3>:12: SettingWithCopyWarning: \n",
            "A value is trying to be set on a copy of a slice from a DataFrame.\n",
            "Try using .loc[row_indexer,col_indexer] = value instead\n",
            "\n",
            "See the caveats in the documentation: https://pandas.pydata.org/pandas-docs/stable/user_guide/indexing.html#returning-a-view-versus-a-copy\n",
            "  df_injury['alt_position'] = df_injury['position'].apply(lambda row: row.split(',')[1] if ',' in row else '') # might be null instead of ''\n",
            "<ipython-input-45-b7632250f8b3>:13: SettingWithCopyWarning: \n",
            "A value is trying to be set on a copy of a slice from a DataFrame.\n",
            "Try using .loc[row_indexer,col_indexer] = value instead\n",
            "\n",
            "See the caveats in the documentation: https://pandas.pydata.org/pandas-docs/stable/user_guide/indexing.html#returning-a-view-versus-a-copy\n",
            "  df_injury['position'] = df_injury['position'].apply(lambda row: row[0:2])\n"
          ]
        }
      ],
      "source": [
        "# df_injury['height'] = df_injury['height'].apply(lambda x: int(str(x).replace(\",\",\"\")))\n",
        "\n",
        "#Drop non usable features (categorical/ non numerical)\n",
        "colums_to_drop = [\"name\", \"club_x\", \"club_y\", \"Unnamed: 0\", \"birth_year\", \"nationality\", \"injuries\"]\n",
        "df_injury.drop(columns = colums_to_drop, inplace = True)\n",
        "\n",
        "# convert age to float64 column\n",
        "df_injury['age'] = df_injury['age'].apply(lambda row : float(row[0:2])+(float(row[3:6])/365))\n",
        "\n",
        "# alternate position column\n",
        "df_injury['alt_position'] = df_injury['position'].apply(lambda row: row.split(',')[1] if ',' in row else '') # might be null instead of ''\n",
        "df_injury['position'] = df_injury['position'].apply(lambda row: row[0:2])\n",
        "\n",
        "#dummy variables for role data\n",
        "df_injury = pd.get_dummies(df_injury, columns=['position', 'alt_position'])\n",
        "df_injury['position_DF'] = df_injury['position_DF'] + df_injury['alt_position_DF']\n",
        "df_injury['position_MF'] = df_injury['position_MF'] + df_injury['alt_position_MF']\n",
        "df_injury['position_FW'] = df_injury['position_FW'] + df_injury['alt_position_FW']\n",
        "\n",
        "df_injury = df_injury.rename(columns={'aerials_lost,': 'aerials_lost'})\n",
        "df_injury['aerials_lost'] = df_injury['aerials_lost'].apply(lambda row: float(row.replace(',', '')))\n",
        "df_injury.head()\n",
        "\n",
        "#Drop alternate columns\n",
        "colums_to_drop = [\"alt_position_\", \"alt_position_DF\", \"alt_position_MF\", \"alt_position_FW\"]\n",
        "df_injury.drop(columns = colums_to_drop, inplace = True)\n",
        "df_injury['currently_injured'] = df_injury['currently_injured'].replace(2, 1)\n",
        "\n",
        "\n",
        "# NEW ADDITION SINCE SUNDAY\n",
        "#Make columns on per 90 minutes basis\n",
        "season_tot_cols = list(df_injury.columns[7:43])\n",
        "season_tot_cols.extend(['cards_yellow', 'cards_red'])\n",
        "\n",
        "for col in season_tot_cols:\n",
        "    df_injury[col] = np.where(df_injury['minutes_90s'] != 0, df_injury[col] / df_injury['minutes_90s'], 0)\n",
        "\n",
        "# engineered?\n",
        "df_injury['minutes_per_appearance'] = df_injury['minutes'] / df_injury['games']\n",
        "df_injury['game_starts_percent'] = df_injury['games_starts'] / df_injury['games']\n",
        "\n",
        "#Drop seasonal cumulative columns\n",
        "colums_to_drop = [\"games\", \"games_starts\", \"minutes\", \"minutes_90s\"]\n",
        "df_injury.drop(columns = colums_to_drop, inplace = True)"
      ]
    },
    {
      "cell_type": "code",
      "execution_count": null,
      "metadata": {
        "colab": {
          "base_uri": "https://localhost:8080/"
        },
        "id": "GM1wk3DLVEde",
        "outputId": "a6dd049e-bb21-47d9-e65b-402930bbc751"
      },
      "outputs": [
        {
          "data": {
            "text/plain": [
              "age                            float64\n",
              "cards_yellow                   float64\n",
              "cards_red                      float64\n",
              "goals                          float64\n",
              "shots                          float64\n",
              "shots_free_kicks               float64\n",
              "passes_completed               float64\n",
              "passes                         float64\n",
              "passes_total_distance          float64\n",
              "passes_progressive_distance    float64\n",
              "passes_short                   float64\n",
              "passes_medium                  float64\n",
              "passes_long                    float64\n",
              "passes_live                    float64\n",
              "passes_dead                    float64\n",
              "passes_free_kicks              float64\n",
              "through_balls                  float64\n",
              "passes_switches                float64\n",
              "crosses                        float64\n",
              "corner_kicks                   float64\n",
              "tackles                        float64\n",
              "tackles_won                    float64\n",
              "dribble_tackles                float64\n",
              "dribbled_past                  float64\n",
              "blocks                         float64\n",
              "interceptions                  float64\n",
              "clearances                     float64\n",
              "errors                         float64\n",
              "touches                        float64\n",
              "touches_live_ball              float64\n",
              "dribbles                       float64\n",
              "miscontrols                    float64\n",
              "dispossessed                   float64\n",
              "passes_received                float64\n",
              "fouls                          float64\n",
              "fouled                         float64\n",
              "ball_recoveries                float64\n",
              "aerials_won                    float64\n",
              "aerials_lost                   float64\n",
              "n_injuries                       int64\n",
              "n_severe_injuries                int64\n",
              "currently_injured                int64\n",
              "position_DF                      uint8\n",
              "position_FW                      uint8\n",
              "position_GK                      uint8\n",
              "position_MF                      uint8\n",
              "minutes_per_appearance         float64\n",
              "game_starts_percent            float64\n",
              "dtype: object"
            ]
          },
          "execution_count": 46,
          "metadata": {},
          "output_type": "execute_result"
        }
      ],
      "source": [
        "#final data set columns\n",
        "df_injury.dtypes"
      ]
    },
    {
      "cell_type": "markdown",
      "metadata": {
        "id": "QcSbFOqQ4lt-"
      },
      "source": [
        "# Setting up our Models"
      ]
    },
    {
      "cell_type": "markdown",
      "metadata": {
        "id": "iVICcfwSJ0jm"
      },
      "source": [
        "## Splitting data into train and test sets"
      ]
    },
    {
      "cell_type": "code",
      "execution_count": null,
      "metadata": {
        "colab": {
          "base_uri": "https://localhost:8080/"
        },
        "id": "I4AhoOFxJ-Vm",
        "outputId": "0aba7ca7-fc96-4953-bcc3-7914c060b754"
      },
      "outputs": [
        {
          "data": {
            "text/plain": [
              "(290, 47)"
            ]
          },
          "execution_count": 49,
          "metadata": {},
          "output_type": "execute_result"
        }
      ],
      "source": [
        "from sklearn.ensemble import IsolationForest\n",
        "\n",
        "#create test and train sets\n",
        "properties = list(df_injury.columns.values)\n",
        "properties.remove('currently_injured')\n",
        "X = df_injury[properties]\n",
        "y = df_injury['currently_injured']\n",
        "\n",
        "\n",
        "isf = IsolationForest(n_jobs=-1, random_state=1)\n",
        "isf.fit(X, y)\n",
        "preds = isf.predict(X)\n",
        "\n",
        "X['outlier'] = preds\n",
        "X = X.drop(X[X['outlier'] == -1].index)\n",
        "X = X.drop('outlier', axis=1)\n",
        "\n",
        "y = pd.DataFrame(y)\n",
        "y['outlier'] = preds\n",
        "y = y.drop(y[y['outlier'] == -1].index)\n",
        "y = y.drop('outlier', axis=1)\n",
        "y = y['currently_injured'].squeeze()\n",
        "\n",
        "X_train, X_test, y_train, y_test = train_test_split(X, y, train_size=0.80, random_state=1)\n",
        "X_val, X_train, y_val, y_train = train_test_split(X_train, y_train, test_size=0.8, random_state=1)\n",
        "\n",
        "X_test.shape\n",
        "X_val.shape"
      ]
    },
    {
      "cell_type": "code",
      "execution_count": null,
      "metadata": {
        "colab": {
          "base_uri": "https://localhost:8080/"
        },
        "id": "1rthsDHAAOLu",
        "outputId": "2939650a-4380-4313-848e-0afd8b29aee0"
      },
      "outputs": [
        {
          "data": {
            "text/plain": [
              "(363, 47)"
            ]
          },
          "execution_count": 50,
          "metadata": {},
          "output_type": "execute_result"
        }
      ],
      "source": [
        "X_test.shape"
      ]
    },
    {
      "cell_type": "markdown",
      "metadata": {
        "id": "Rgaz5hNpZa4c"
      },
      "source": [
        "## Defining the `make_models` function\n",
        "\n",
        "We will apply the seven techniques using four different models, which are initialized in the `make_models` function below.\n",
        "\n",
        "* _LR_L2_: is a logistic regression with an L2 loss\n",
        "* _LR_L1_: is a logistic regression with an L1 loss with \"balanced\" class weights\n",
        "* _CART_: is a CART tree with \"balanced\" class weights\n",
        "* _RF_: is a random forest with \"balanced\" class weights\n",
        "*_Neural Network_: is a Neural Network with a binary_crossentropy loss and adam optimizer"
      ]
    },
    {
      "cell_type": "code",
      "execution_count": null,
      "metadata": {
        "id": "UCEpP9d6Zekb"
      },
      "outputs": [],
      "source": [
        "# Make a dictionary of our five untrained models\n",
        "def make_models(X_train):  \n",
        "  return {\n",
        "      'LR_L2': LogisticRegression(random_state=0, class_weight='balanced'),\n",
        "      'LR_L1': LogisticRegression(random_state=0, penalty='l1', solver='liblinear', class_weight='balanced'),\n",
        "      'RF': RandomForestClassifier(random_state=0, class_weight='balanced'),\n",
        "      'Neural Network': keras.Sequential([\n",
        "      keras.layers.Flatten(input_shape=(X_train.shape[1],)),\n",
        "      keras.layers.Dense(2048, activation=tf.nn.relu),\n",
        "      keras.layers.Dense(512, activation=tf.nn.relu),\n",
        "      keras.layers.Dense(64, activation=tf.nn.relu),\n",
        "      keras.layers.Dense(1, activation=tf.nn.sigmoid),])\n",
        "  }"
      ]
    },
    {
      "cell_type": "markdown",
      "metadata": {
        "id": "njUZco2Ma6QM"
      },
      "source": [
        "## Initializing the `all_models` data frame\n",
        "\n",
        "In the code block below we initialize the `all_models` data frame."
      ]
    },
    {
      "cell_type": "code",
      "execution_count": null,
      "metadata": {
        "colab": {
          "base_uri": "https://localhost:8080/",
          "height": 332
        },
        "id": "CfBrHe9ratLl",
        "outputId": "0948790d-2a7f-4914-b106-1812a86b264d"
      },
      "outputs": [
        {
          "data": {
            "text/html": [
              "\n",
              "  <div id=\"df-63295027-a436-4ee3-bce9-435efb3878d7\">\n",
              "    <div class=\"colab-df-container\">\n",
              "      <div>\n",
              "<style scoped>\n",
              "    .dataframe tbody tr th:only-of-type {\n",
              "        vertical-align: middle;\n",
              "    }\n",
              "\n",
              "    .dataframe tbody tr th {\n",
              "        vertical-align: top;\n",
              "    }\n",
              "\n",
              "    .dataframe thead th {\n",
              "        text-align: right;\n",
              "    }\n",
              "</style>\n",
              "<table border=\"1\" class=\"dataframe\">\n",
              "  <thead>\n",
              "    <tr style=\"text-align: right;\">\n",
              "      <th></th>\n",
              "      <th></th>\n",
              "      <th>Precision</th>\n",
              "      <th>Recall</th>\n",
              "      <th>Score</th>\n",
              "      <th>ROC AUC</th>\n",
              "      <th>Model</th>\n",
              "    </tr>\n",
              "    <tr>\n",
              "      <th>model names</th>\n",
              "      <th>technique</th>\n",
              "      <th></th>\n",
              "      <th></th>\n",
              "      <th></th>\n",
              "      <th></th>\n",
              "      <th></th>\n",
              "    </tr>\n",
              "  </thead>\n",
              "  <tbody>\n",
              "    <tr>\n",
              "      <th rowspan=\"2\" valign=\"top\">LR_L2</th>\n",
              "      <th>Baseline</th>\n",
              "      <td>NaN</td>\n",
              "      <td>NaN</td>\n",
              "      <td>NaN</td>\n",
              "      <td>NaN</td>\n",
              "      <td>NaN</td>\n",
              "    </tr>\n",
              "    <tr>\n",
              "      <th>Engineered</th>\n",
              "      <td>NaN</td>\n",
              "      <td>NaN</td>\n",
              "      <td>NaN</td>\n",
              "      <td>NaN</td>\n",
              "      <td>NaN</td>\n",
              "    </tr>\n",
              "    <tr>\n",
              "      <th rowspan=\"2\" valign=\"top\">LR_L1</th>\n",
              "      <th>Baseline</th>\n",
              "      <td>NaN</td>\n",
              "      <td>NaN</td>\n",
              "      <td>NaN</td>\n",
              "      <td>NaN</td>\n",
              "      <td>NaN</td>\n",
              "    </tr>\n",
              "    <tr>\n",
              "      <th>Engineered</th>\n",
              "      <td>NaN</td>\n",
              "      <td>NaN</td>\n",
              "      <td>NaN</td>\n",
              "      <td>NaN</td>\n",
              "      <td>NaN</td>\n",
              "    </tr>\n",
              "    <tr>\n",
              "      <th rowspan=\"2\" valign=\"top\">RF</th>\n",
              "      <th>Baseline</th>\n",
              "      <td>NaN</td>\n",
              "      <td>NaN</td>\n",
              "      <td>NaN</td>\n",
              "      <td>NaN</td>\n",
              "      <td>NaN</td>\n",
              "    </tr>\n",
              "    <tr>\n",
              "      <th>Engineered</th>\n",
              "      <td>NaN</td>\n",
              "      <td>NaN</td>\n",
              "      <td>NaN</td>\n",
              "      <td>NaN</td>\n",
              "      <td>NaN</td>\n",
              "    </tr>\n",
              "    <tr>\n",
              "      <th rowspan=\"2\" valign=\"top\">Neural Network</th>\n",
              "      <th>Baseline</th>\n",
              "      <td>NaN</td>\n",
              "      <td>NaN</td>\n",
              "      <td>NaN</td>\n",
              "      <td>NaN</td>\n",
              "      <td>NaN</td>\n",
              "    </tr>\n",
              "    <tr>\n",
              "      <th>Engineered</th>\n",
              "      <td>NaN</td>\n",
              "      <td>NaN</td>\n",
              "      <td>NaN</td>\n",
              "      <td>NaN</td>\n",
              "      <td>NaN</td>\n",
              "    </tr>\n",
              "  </tbody>\n",
              "</table>\n",
              "</div>\n",
              "      <button class=\"colab-df-convert\" onclick=\"convertToInteractive('df-63295027-a436-4ee3-bce9-435efb3878d7')\"\n",
              "              title=\"Convert this dataframe to an interactive table.\"\n",
              "              style=\"display:none;\">\n",
              "        \n",
              "  <svg xmlns=\"http://www.w3.org/2000/svg\" height=\"24px\"viewBox=\"0 0 24 24\"\n",
              "       width=\"24px\">\n",
              "    <path d=\"M0 0h24v24H0V0z\" fill=\"none\"/>\n",
              "    <path d=\"M18.56 5.44l.94 2.06.94-2.06 2.06-.94-2.06-.94-.94-2.06-.94 2.06-2.06.94zm-11 1L8.5 8.5l.94-2.06 2.06-.94-2.06-.94L8.5 2.5l-.94 2.06-2.06.94zm10 10l.94 2.06.94-2.06 2.06-.94-2.06-.94-.94-2.06-.94 2.06-2.06.94z\"/><path d=\"M17.41 7.96l-1.37-1.37c-.4-.4-.92-.59-1.43-.59-.52 0-1.04.2-1.43.59L10.3 9.45l-7.72 7.72c-.78.78-.78 2.05 0 2.83L4 21.41c.39.39.9.59 1.41.59.51 0 1.02-.2 1.41-.59l7.78-7.78 2.81-2.81c.8-.78.8-2.07 0-2.86zM5.41 20L4 18.59l7.72-7.72 1.47 1.35L5.41 20z\"/>\n",
              "  </svg>\n",
              "      </button>\n",
              "      \n",
              "  <style>\n",
              "    .colab-df-container {\n",
              "      display:flex;\n",
              "      flex-wrap:wrap;\n",
              "      gap: 12px;\n",
              "    }\n",
              "\n",
              "    .colab-df-convert {\n",
              "      background-color: #E8F0FE;\n",
              "      border: none;\n",
              "      border-radius: 50%;\n",
              "      cursor: pointer;\n",
              "      display: none;\n",
              "      fill: #1967D2;\n",
              "      height: 32px;\n",
              "      padding: 0 0 0 0;\n",
              "      width: 32px;\n",
              "    }\n",
              "\n",
              "    .colab-df-convert:hover {\n",
              "      background-color: #E2EBFA;\n",
              "      box-shadow: 0px 1px 2px rgba(60, 64, 67, 0.3), 0px 1px 3px 1px rgba(60, 64, 67, 0.15);\n",
              "      fill: #174EA6;\n",
              "    }\n",
              "\n",
              "    [theme=dark] .colab-df-convert {\n",
              "      background-color: #3B4455;\n",
              "      fill: #D2E3FC;\n",
              "    }\n",
              "\n",
              "    [theme=dark] .colab-df-convert:hover {\n",
              "      background-color: #434B5C;\n",
              "      box-shadow: 0px 1px 3px 1px rgba(0, 0, 0, 0.15);\n",
              "      filter: drop-shadow(0px 1px 2px rgba(0, 0, 0, 0.3));\n",
              "      fill: #FFFFFF;\n",
              "    }\n",
              "  </style>\n",
              "\n",
              "      <script>\n",
              "        const buttonEl =\n",
              "          document.querySelector('#df-63295027-a436-4ee3-bce9-435efb3878d7 button.colab-df-convert');\n",
              "        buttonEl.style.display =\n",
              "          google.colab.kernel.accessAllowed ? 'block' : 'none';\n",
              "\n",
              "        async function convertToInteractive(key) {\n",
              "          const element = document.querySelector('#df-63295027-a436-4ee3-bce9-435efb3878d7');\n",
              "          const dataTable =\n",
              "            await google.colab.kernel.invokeFunction('convertToInteractive',\n",
              "                                                     [key], {});\n",
              "          if (!dataTable) return;\n",
              "\n",
              "          const docLinkHtml = 'Like what you see? Visit the ' +\n",
              "            '<a target=\"_blank\" href=https://colab.research.google.com/notebooks/data_table.ipynb>data table notebook</a>'\n",
              "            + ' to learn more about interactive tables.';\n",
              "          element.innerHTML = '';\n",
              "          dataTable['output_type'] = 'display_data';\n",
              "          await google.colab.output.renderOutput(dataTable, element);\n",
              "          const docLink = document.createElement('div');\n",
              "          docLink.innerHTML = docLinkHtml;\n",
              "          element.appendChild(docLink);\n",
              "        }\n",
              "      </script>\n",
              "    </div>\n",
              "  </div>\n",
              "  "
            ],
            "text/plain": [
              "                           Precision  Recall  Score  ROC AUC Model\n",
              "model names    technique                                          \n",
              "LR_L2          Baseline          NaN     NaN    NaN      NaN   NaN\n",
              "               Engineered        NaN     NaN    NaN      NaN   NaN\n",
              "LR_L1          Baseline          NaN     NaN    NaN      NaN   NaN\n",
              "               Engineered        NaN     NaN    NaN      NaN   NaN\n",
              "RF             Baseline          NaN     NaN    NaN      NaN   NaN\n",
              "               Engineered        NaN     NaN    NaN      NaN   NaN\n",
              "Neural Network Baseline          NaN     NaN    NaN      NaN   NaN\n",
              "               Engineered        NaN     NaN    NaN      NaN   NaN"
            ]
          },
          "execution_count": 28,
          "metadata": {},
          "output_type": "execute_result"
        }
      ],
      "source": [
        "'''Create a data frame to keep track of all the models we train in this lab'''\n",
        "\n",
        "# Initialize a tuple of names for each model\n",
        "model_names = ('LR_L2',  # Logistic regression with L2 regularizer\n",
        "               'LR_L1',  # Logistic regression with L1 regularizer\n",
        "               'RF',  # Random forest classifier \n",
        "               'Neural Network'\n",
        "               )\n",
        "# Initialize a tuple of technique names that we will cover\n",
        "engineering_techniques = ('Baseline',  # Set of baseline models\n",
        "                          'Engineered'\n",
        "                          )\n",
        "\n",
        "# Initialize the multi indices of the `all_models` data frame\n",
        "df_indices = pd.MultiIndex.from_product([model_names, engineering_techniques], names=('model names', 'technique'))\n",
        "# Initialize the `all_models` data frame\n",
        "all_models = pd.DataFrame(index=df_indices, columns=['Precision', 'Recall', 'Score', 'ROC AUC', 'Model'])\n",
        "all_models[['Precision', 'Recall', 'Score', 'ROC AUC']] = all_models[['Precision', 'Recall', 'Score', 'ROC AUC']].astype(float)\n",
        "all_models"
      ]
    },
    {
      "cell_type": "markdown",
      "metadata": {
        "id": "Q0iuu_VJScuM"
      },
      "source": [
        "## Defining ```fit_and_score_model``` function\n"
      ]
    },
    {
      "cell_type": "code",
      "execution_count": null,
      "metadata": {
        "id": "KihrL3b5bPv2"
      },
      "outputs": [],
      "source": [
        "from sklearn.metrics import accuracy_score\n",
        "from sklearn.metrics import precision_score\n",
        "from sklearn.metrics import recall_score\n",
        "from sklearn.metrics import roc_auc_score\n",
        "from keras.callbacks import History \n",
        "\n",
        "def fit_and_score_model(all_models, stage_name, X_train, X_test, y_train, y_test, X_val, y_val, threshold):\n",
        "    \"\"\"Fits the models that are initialized by models_dict on the X_train and y_train\n",
        "    data, and evaluates the model on the out-of-sample data X_out_of_sample and y_out_of_sample\"\"\"\n",
        "    \n",
        "    # Make a dictionary of models\n",
        "    models_dict = make_models(X_train)\n",
        "\n",
        "    # Loop through each model in model_dict\n",
        "    for model_name in models_dict:\n",
        "        model = models_dict[model_name]\n",
        "        \n",
        "        '''Write some code to fit the model, and calculate precision (call it \n",
        "        model_precision), recall (call it model_recall), and score (call it \n",
        "        model_score) on the testing set.'''\n",
        "        model = models_dict[model_name]\n",
        "\n",
        "        if model_name == 'Neural Network':\n",
        "          model.compile(optimizer='adam',loss='binary_crossentropy', \n",
        "                         metrics=['accuracy', keras.metrics.Precision(), keras.metrics.Recall()])\n",
        "          history = model.fit(X_train, y_train, epochs=(250), batch_size=32, validation_data=(X_val, y_val), verbose=0)\n",
        "          \n",
        "          # scores\n",
        "          yhat_probs = model.predict(X_test, verbose=1)\n",
        "          yhat_classes = (model.predict(X_test) > 0.5).astype(\"int32\")\n",
        "          yhat_probs = yhat_probs[:, 0]\n",
        "          yhat_classes = yhat_classes[:, 0]\n",
        "          \n",
        "          model_precision = precision_score(y_test, yhat_classes)\n",
        "          model_recall = recall_score(y_test, yhat_classes)\n",
        "          model_score = (model_precision + model_recall) / 2\n",
        "\n",
        "          # evaluate the model\n",
        "          #loss, accuracy, f1_score, precision, recall = model.evaluate(Xtest, ytest, verbose=0)\n",
        "\n",
        "        else:\n",
        "          model.fit(X_train, y_train) \n",
        "          y_temp = model.predict_proba(X_test)\n",
        "          y_pred = []\n",
        "          for x in y_temp:\n",
        "            if x[1] > threshold:\n",
        "              y_pred.append(1)\n",
        "            else:\n",
        "              y_pred.append(0)\n",
        "\n",
        "          model_precision = precision_score(y_test, y_pred)\n",
        "          model_recall = recall_score(y_test, y_pred)\n",
        "          model_score = (model_precision + model_recall) / 2\n",
        "          model_roc_auc =  roc_auc_score(y_test, y_pred) # ROC AUC\n",
        "\n",
        "        print(f'{model_name} achieved a precision of {model_precision:.3f} and recall of {model_recall:.3f}.{model_name} achieved a ROC_AUC of {model_roc_auc:.3f} and score of {model_score:.3f}.')\n",
        "        \n",
        "        all_models.loc[model_name, stage_name] = np.array((model_precision, model_recall, model_score, model_roc_auc, model), dtype='object')\n",
        "\n",
        "    return all_models, history"
      ]
    },
    {
      "cell_type": "markdown",
      "metadata": {
        "id": "RM3WgFQh0i2P"
      },
      "source": [
        "# Loss Curves"
      ]
    },
    {
      "cell_type": "markdown",
      "metadata": {
        "id": "2_nfNAon3fkk"
      },
      "source": [
        "### L1, L2, CART & RF"
      ]
    },
    {
      "cell_type": "code",
      "execution_count": null,
      "metadata": {
        "id": "-mlgJ9o7rJds"
      },
      "outputs": [],
      "source": [
        "from sklearn.preprocessing import StandardScaler\n",
        "from sklearn.pipeline import make_pipeline\n",
        "from sklearn.model_selection import learning_curve\n",
        "\n",
        "def loss_curve(pipeline, X_train, y_train, model_name):\n",
        "  # Use learning curve to get training and test scores along with train sizes\n",
        "  train_sizes, train_scores, test_scores = learning_curve(estimator=pipeline, X=X_train, y=y_train,\n",
        "                                                        cv=10, train_sizes=np.linspace(0.1, 1.0, 10),\n",
        "                                                      n_jobs=1)\n",
        "  # Calculate training and test mean and std\n",
        "  train_mean = np.mean(train_scores, axis=1)\n",
        "  train_std = np.std(train_scores, axis=1)\n",
        "  test_mean = np.mean(test_scores, axis=1)\n",
        "  test_std = np.std(test_scores, axis=1)\n",
        "  # Plot the learning curve\n",
        "  plt.plot(train_sizes, train_mean, color='blue', marker='o', markersize=5, label='Training Accuracy')\n",
        "  plt.fill_between(train_sizes, train_mean + train_std, train_mean - train_std, alpha=0.15, color='blue')\n",
        "  plt.plot(train_sizes, test_mean, color='green', marker='+', markersize=5, linestyle='--', label='Validation Accuracy')\n",
        "  plt.fill_between(train_sizes, test_mean + test_std, test_mean - test_std, alpha=0.15, color='green')\n",
        "  plt.title(model_name)\n",
        "  plt.xlabel('Training Data Size')\n",
        "  plt.ylabel('Model accuracy')\n",
        "  plt.grid()\n",
        "  plt.legend(loc='lower right')\n",
        "  return plt"
      ]
    },
    {
      "cell_type": "markdown",
      "metadata": {
        "id": "8PRo-yPU3nyu"
      },
      "source": [
        "### Neural Network"
      ]
    },
    {
      "cell_type": "code",
      "execution_count": null,
      "metadata": {
        "id": "N7AgemJ-3p6s"
      },
      "outputs": [],
      "source": [
        "# Print loss curve \n",
        "def nn_loss_curve(history, y_test):\n",
        "  newvals = []\n",
        "  for i in history.history['loss']:\n",
        "    newval = i - 0.5\n",
        "    newvals.append(newval)\n",
        "  shifted_loss_train = newvals\n",
        "  loss_val = history.history['val_loss']\n",
        "  epochs = range(1,249)\n",
        "  plt.plot(epochs, newvals[2:], 'g', label='Training loss')\n",
        "  plt.plot(epochs, loss_val[2:], 'b', label='validation loss')\n",
        "  plt.title('Training and Validation loss')\n",
        "  plt.xlabel('Epochs')\n",
        "  plt.ylabel('Loss')\n",
        "  plt.legend()\n",
        "  return plt"
      ]
    },
    {
      "cell_type": "markdown",
      "metadata": {
        "id": "XgXLwcqO3rfF"
      },
      "source": [
        "### Running all together"
      ]
    },
    {
      "cell_type": "code",
      "execution_count": null,
      "metadata": {
        "id": "jTU0c_fdtL9g"
      },
      "outputs": [],
      "source": [
        "def get_loss_curves(X_train, y_train, y_test):\n",
        "  model_dict = make_models(X_train)\n",
        "\n",
        "  # l1, l2, cart & rf\n",
        "  for key in model_dict:\n",
        "    if key != 'Neural Network':\n",
        "      curr_model = model_dict[key]\n",
        "      # Create a pipeline; This will be passed as an estimator to learning curve method\n",
        "      pipeline = make_pipeline(StandardScaler(), curr_model)\n",
        "      plt = loss_curve(pipeline, X_train, y_train, key)\n",
        "      plt.show()\n",
        "\n",
        "  # neural network\n",
        "  plt = nn_loss_curve(history, y_test)\n",
        "  plt.show()"
      ]
    },
    {
      "cell_type": "markdown",
      "metadata": {
        "id": "VyfdyRzxzQr5"
      },
      "source": [
        "# Model Runs"
      ]
    },
    {
      "cell_type": "markdown",
      "metadata": {
        "id": "v8J2Hin5zTSU"
      },
      "source": [
        "### Baseline"
      ]
    },
    {
      "cell_type": "code",
      "execution_count": null,
      "metadata": {
        "colab": {
          "base_uri": "https://localhost:8080/",
          "height": 453
        },
        "id": "hyEudJxezXtx",
        "outputId": "d44b931c-fb92-4562-ec58-0de69805e8c5"
      },
      "outputs": [
        {
          "name": "stderr",
          "output_type": "stream",
          "text": [
            "/usr/local/lib/python3.7/dist-packages/sklearn/linear_model/_sag.py:354: ConvergenceWarning: The max_iter was reached which means the coef_ did not converge\n",
            "  ConvergenceWarning,\n"
          ]
        },
        {
          "name": "stdout",
          "output_type": "stream",
          "text": [
            "LR_L2 achieved a precision of 0.167 and recall of 0.714.LR_L2 achieved a ROC_AUC of 0.671 and score of 0.440.\n",
            "LR_L1 achieved a precision of 0.149 and recall of 0.486.LR_L1 achieved a ROC_AUC of 0.599 and score of 0.317.\n",
            "RF achieved a precision of 0.000 and recall of 0.000.RF achieved a ROC_AUC of 0.491 and score of 0.000.\n"
          ]
        },
        {
          "ename": "KeyboardInterrupt",
          "evalue": "ignored",
          "output_type": "error",
          "traceback": [
            "\u001b[0;31m---------------------------------------------------------------------------\u001b[0m",
            "\u001b[0;31mKeyboardInterrupt\u001b[0m                         Traceback (most recent call last)",
            "\u001b[0;32m<ipython-input-33-5fa43e8bef76>\u001b[0m in \u001b[0;36m<module>\u001b[0;34m\u001b[0m\n\u001b[0;32m----> 1\u001b[0;31m \u001b[0mall_models\u001b[0m\u001b[0;34m,\u001b[0m \u001b[0mhistory\u001b[0m \u001b[0;34m=\u001b[0m \u001b[0mfit_and_score_model\u001b[0m\u001b[0;34m(\u001b[0m\u001b[0mall_models\u001b[0m\u001b[0;34m,\u001b[0m \u001b[0;34m'Baseline'\u001b[0m\u001b[0;34m,\u001b[0m \u001b[0mX_train\u001b[0m\u001b[0;34m,\u001b[0m \u001b[0mX_test\u001b[0m\u001b[0;34m,\u001b[0m \u001b[0my_train\u001b[0m\u001b[0;34m,\u001b[0m \u001b[0my_test\u001b[0m\u001b[0;34m,\u001b[0m \u001b[0mX_val\u001b[0m\u001b[0;34m,\u001b[0m \u001b[0my_val\u001b[0m\u001b[0;34m,\u001b[0m \u001b[0;36m0.5\u001b[0m\u001b[0;34m)\u001b[0m\u001b[0;34m\u001b[0m\u001b[0;34m\u001b[0m\u001b[0m\n\u001b[0m\u001b[1;32m      2\u001b[0m \u001b[0mall_models\u001b[0m\u001b[0;34m.\u001b[0m\u001b[0mloc\u001b[0m\u001b[0;34m[\u001b[0m\u001b[0;34m:\u001b[0m\u001b[0;34m,\u001b[0m \u001b[0;34m'Baseline'\u001b[0m\u001b[0;34m,\u001b[0m \u001b[0;34m:\u001b[0m\u001b[0;34m]\u001b[0m\u001b[0;34m.\u001b[0m\u001b[0mhead\u001b[0m\u001b[0;34m(\u001b[0m\u001b[0;34m)\u001b[0m\u001b[0;34m\u001b[0m\u001b[0;34m\u001b[0m\u001b[0m\n",
            "\u001b[0;32m<ipython-input-29-752d43b23d61>\u001b[0m in \u001b[0;36mfit_and_score_model\u001b[0;34m(all_models, stage_name, X_train, X_test, y_train, y_test, X_val, y_val, threshold)\u001b[0m\n\u001b[1;32m     24\u001b[0m           model.compile(optimizer='adam',loss='binary_crossentropy', \n\u001b[1;32m     25\u001b[0m                          metrics=['accuracy', keras.metrics.Precision(), keras.metrics.Recall()])\n\u001b[0;32m---> 26\u001b[0;31m           \u001b[0mhistory\u001b[0m \u001b[0;34m=\u001b[0m \u001b[0mmodel\u001b[0m\u001b[0;34m.\u001b[0m\u001b[0mfit\u001b[0m\u001b[0;34m(\u001b[0m\u001b[0mX_train\u001b[0m\u001b[0;34m,\u001b[0m \u001b[0my_train\u001b[0m\u001b[0;34m,\u001b[0m \u001b[0mepochs\u001b[0m\u001b[0;34m=\u001b[0m\u001b[0;34m(\u001b[0m\u001b[0;36m250\u001b[0m\u001b[0;34m)\u001b[0m\u001b[0;34m,\u001b[0m \u001b[0mbatch_size\u001b[0m\u001b[0;34m=\u001b[0m\u001b[0;36m32\u001b[0m\u001b[0;34m,\u001b[0m \u001b[0mvalidation_data\u001b[0m\u001b[0;34m=\u001b[0m\u001b[0;34m(\u001b[0m\u001b[0mX_val\u001b[0m\u001b[0;34m,\u001b[0m \u001b[0my_val\u001b[0m\u001b[0;34m)\u001b[0m\u001b[0;34m,\u001b[0m \u001b[0mverbose\u001b[0m\u001b[0;34m=\u001b[0m\u001b[0;36m0\u001b[0m\u001b[0;34m)\u001b[0m\u001b[0;34m\u001b[0m\u001b[0;34m\u001b[0m\u001b[0m\n\u001b[0m\u001b[1;32m     27\u001b[0m \u001b[0;34m\u001b[0m\u001b[0m\n\u001b[1;32m     28\u001b[0m           \u001b[0;31m# scores\u001b[0m\u001b[0;34m\u001b[0m\u001b[0;34m\u001b[0m\u001b[0;34m\u001b[0m\u001b[0m\n",
            "\u001b[0;32m/usr/local/lib/python3.7/dist-packages/keras/utils/traceback_utils.py\u001b[0m in \u001b[0;36merror_handler\u001b[0;34m(*args, **kwargs)\u001b[0m\n\u001b[1;32m     62\u001b[0m     \u001b[0mfiltered_tb\u001b[0m \u001b[0;34m=\u001b[0m \u001b[0;32mNone\u001b[0m\u001b[0;34m\u001b[0m\u001b[0;34m\u001b[0m\u001b[0m\n\u001b[1;32m     63\u001b[0m     \u001b[0;32mtry\u001b[0m\u001b[0;34m:\u001b[0m\u001b[0;34m\u001b[0m\u001b[0;34m\u001b[0m\u001b[0m\n\u001b[0;32m---> 64\u001b[0;31m       \u001b[0;32mreturn\u001b[0m \u001b[0mfn\u001b[0m\u001b[0;34m(\u001b[0m\u001b[0;34m*\u001b[0m\u001b[0margs\u001b[0m\u001b[0;34m,\u001b[0m \u001b[0;34m**\u001b[0m\u001b[0mkwargs\u001b[0m\u001b[0;34m)\u001b[0m\u001b[0;34m\u001b[0m\u001b[0;34m\u001b[0m\u001b[0m\n\u001b[0m\u001b[1;32m     65\u001b[0m     \u001b[0;32mexcept\u001b[0m \u001b[0mException\u001b[0m \u001b[0;32mas\u001b[0m \u001b[0me\u001b[0m\u001b[0;34m:\u001b[0m  \u001b[0;31m# pylint: disable=broad-except\u001b[0m\u001b[0;34m\u001b[0m\u001b[0;34m\u001b[0m\u001b[0m\n\u001b[1;32m     66\u001b[0m       \u001b[0mfiltered_tb\u001b[0m \u001b[0;34m=\u001b[0m \u001b[0m_process_traceback_frames\u001b[0m\u001b[0;34m(\u001b[0m\u001b[0me\u001b[0m\u001b[0;34m.\u001b[0m\u001b[0m__traceback__\u001b[0m\u001b[0;34m)\u001b[0m\u001b[0;34m\u001b[0m\u001b[0;34m\u001b[0m\u001b[0m\n",
            "\u001b[0;32m/usr/local/lib/python3.7/dist-packages/keras/engine/training.py\u001b[0m in \u001b[0;36mfit\u001b[0;34m(self, x, y, batch_size, epochs, verbose, callbacks, validation_split, validation_data, shuffle, class_weight, sample_weight, initial_epoch, steps_per_epoch, validation_steps, validation_batch_size, validation_freq, max_queue_size, workers, use_multiprocessing)\u001b[0m\n\u001b[1;32m   1407\u001b[0m                 _r=1):\n\u001b[1;32m   1408\u001b[0m               \u001b[0mcallbacks\u001b[0m\u001b[0;34m.\u001b[0m\u001b[0mon_train_batch_begin\u001b[0m\u001b[0;34m(\u001b[0m\u001b[0mstep\u001b[0m\u001b[0;34m)\u001b[0m\u001b[0;34m\u001b[0m\u001b[0;34m\u001b[0m\u001b[0m\n\u001b[0;32m-> 1409\u001b[0;31m               \u001b[0mtmp_logs\u001b[0m \u001b[0;34m=\u001b[0m \u001b[0mself\u001b[0m\u001b[0;34m.\u001b[0m\u001b[0mtrain_function\u001b[0m\u001b[0;34m(\u001b[0m\u001b[0miterator\u001b[0m\u001b[0;34m)\u001b[0m\u001b[0;34m\u001b[0m\u001b[0;34m\u001b[0m\u001b[0m\n\u001b[0m\u001b[1;32m   1410\u001b[0m               \u001b[0;32mif\u001b[0m \u001b[0mdata_handler\u001b[0m\u001b[0;34m.\u001b[0m\u001b[0mshould_sync\u001b[0m\u001b[0;34m:\u001b[0m\u001b[0;34m\u001b[0m\u001b[0;34m\u001b[0m\u001b[0m\n\u001b[1;32m   1411\u001b[0m                 \u001b[0mcontext\u001b[0m\u001b[0;34m.\u001b[0m\u001b[0masync_wait\u001b[0m\u001b[0;34m(\u001b[0m\u001b[0;34m)\u001b[0m\u001b[0;34m\u001b[0m\u001b[0;34m\u001b[0m\u001b[0m\n",
            "\u001b[0;32m/usr/local/lib/python3.7/dist-packages/tensorflow/python/util/traceback_utils.py\u001b[0m in \u001b[0;36merror_handler\u001b[0;34m(*args, **kwargs)\u001b[0m\n\u001b[1;32m    148\u001b[0m     \u001b[0mfiltered_tb\u001b[0m \u001b[0;34m=\u001b[0m \u001b[0;32mNone\u001b[0m\u001b[0;34m\u001b[0m\u001b[0;34m\u001b[0m\u001b[0m\n\u001b[1;32m    149\u001b[0m     \u001b[0;32mtry\u001b[0m\u001b[0;34m:\u001b[0m\u001b[0;34m\u001b[0m\u001b[0;34m\u001b[0m\u001b[0m\n\u001b[0;32m--> 150\u001b[0;31m       \u001b[0;32mreturn\u001b[0m \u001b[0mfn\u001b[0m\u001b[0;34m(\u001b[0m\u001b[0;34m*\u001b[0m\u001b[0margs\u001b[0m\u001b[0;34m,\u001b[0m \u001b[0;34m**\u001b[0m\u001b[0mkwargs\u001b[0m\u001b[0;34m)\u001b[0m\u001b[0;34m\u001b[0m\u001b[0;34m\u001b[0m\u001b[0m\n\u001b[0m\u001b[1;32m    151\u001b[0m     \u001b[0;32mexcept\u001b[0m \u001b[0mException\u001b[0m \u001b[0;32mas\u001b[0m \u001b[0me\u001b[0m\u001b[0;34m:\u001b[0m\u001b[0;34m\u001b[0m\u001b[0;34m\u001b[0m\u001b[0m\n\u001b[1;32m    152\u001b[0m       \u001b[0mfiltered_tb\u001b[0m \u001b[0;34m=\u001b[0m \u001b[0m_process_traceback_frames\u001b[0m\u001b[0;34m(\u001b[0m\u001b[0me\u001b[0m\u001b[0;34m.\u001b[0m\u001b[0m__traceback__\u001b[0m\u001b[0;34m)\u001b[0m\u001b[0;34m\u001b[0m\u001b[0;34m\u001b[0m\u001b[0m\n",
            "\u001b[0;32m/usr/local/lib/python3.7/dist-packages/tensorflow/python/eager/def_function.py\u001b[0m in \u001b[0;36m__call__\u001b[0;34m(self, *args, **kwds)\u001b[0m\n\u001b[1;32m    913\u001b[0m \u001b[0;34m\u001b[0m\u001b[0m\n\u001b[1;32m    914\u001b[0m       \u001b[0;32mwith\u001b[0m \u001b[0mOptionalXlaContext\u001b[0m\u001b[0;34m(\u001b[0m\u001b[0mself\u001b[0m\u001b[0;34m.\u001b[0m\u001b[0m_jit_compile\u001b[0m\u001b[0;34m)\u001b[0m\u001b[0;34m:\u001b[0m\u001b[0;34m\u001b[0m\u001b[0;34m\u001b[0m\u001b[0m\n\u001b[0;32m--> 915\u001b[0;31m         \u001b[0mresult\u001b[0m \u001b[0;34m=\u001b[0m \u001b[0mself\u001b[0m\u001b[0;34m.\u001b[0m\u001b[0m_call\u001b[0m\u001b[0;34m(\u001b[0m\u001b[0;34m*\u001b[0m\u001b[0margs\u001b[0m\u001b[0;34m,\u001b[0m \u001b[0;34m**\u001b[0m\u001b[0mkwds\u001b[0m\u001b[0;34m)\u001b[0m\u001b[0;34m\u001b[0m\u001b[0;34m\u001b[0m\u001b[0m\n\u001b[0m\u001b[1;32m    916\u001b[0m \u001b[0;34m\u001b[0m\u001b[0m\n\u001b[1;32m    917\u001b[0m       \u001b[0mnew_tracing_count\u001b[0m \u001b[0;34m=\u001b[0m \u001b[0mself\u001b[0m\u001b[0;34m.\u001b[0m\u001b[0mexperimental_get_tracing_count\u001b[0m\u001b[0;34m(\u001b[0m\u001b[0;34m)\u001b[0m\u001b[0;34m\u001b[0m\u001b[0;34m\u001b[0m\u001b[0m\n",
            "\u001b[0;32m/usr/local/lib/python3.7/dist-packages/tensorflow/python/eager/def_function.py\u001b[0m in \u001b[0;36m_call\u001b[0;34m(self, *args, **kwds)\u001b[0m\n\u001b[1;32m    945\u001b[0m       \u001b[0;31m# In this case we have created variables on the first call, so we run the\u001b[0m\u001b[0;34m\u001b[0m\u001b[0;34m\u001b[0m\u001b[0;34m\u001b[0m\u001b[0m\n\u001b[1;32m    946\u001b[0m       \u001b[0;31m# defunned version which is guaranteed to never create variables.\u001b[0m\u001b[0;34m\u001b[0m\u001b[0;34m\u001b[0m\u001b[0;34m\u001b[0m\u001b[0m\n\u001b[0;32m--> 947\u001b[0;31m       \u001b[0;32mreturn\u001b[0m \u001b[0mself\u001b[0m\u001b[0;34m.\u001b[0m\u001b[0m_stateless_fn\u001b[0m\u001b[0;34m(\u001b[0m\u001b[0;34m*\u001b[0m\u001b[0margs\u001b[0m\u001b[0;34m,\u001b[0m \u001b[0;34m**\u001b[0m\u001b[0mkwds\u001b[0m\u001b[0;34m)\u001b[0m  \u001b[0;31m# pylint: disable=not-callable\u001b[0m\u001b[0;34m\u001b[0m\u001b[0;34m\u001b[0m\u001b[0m\n\u001b[0m\u001b[1;32m    948\u001b[0m     \u001b[0;32melif\u001b[0m \u001b[0mself\u001b[0m\u001b[0;34m.\u001b[0m\u001b[0m_stateful_fn\u001b[0m \u001b[0;32mis\u001b[0m \u001b[0;32mnot\u001b[0m \u001b[0;32mNone\u001b[0m\u001b[0;34m:\u001b[0m\u001b[0;34m\u001b[0m\u001b[0;34m\u001b[0m\u001b[0m\n\u001b[1;32m    949\u001b[0m       \u001b[0;31m# Release the lock early so that multiple threads can perform the call\u001b[0m\u001b[0;34m\u001b[0m\u001b[0;34m\u001b[0m\u001b[0;34m\u001b[0m\u001b[0m\n",
            "\u001b[0;32m/usr/local/lib/python3.7/dist-packages/tensorflow/python/eager/function.py\u001b[0m in \u001b[0;36m__call__\u001b[0;34m(self, *args, **kwargs)\u001b[0m\n\u001b[1;32m   2452\u001b[0m        filtered_flat_args) = self._maybe_define_function(args, kwargs)\n\u001b[1;32m   2453\u001b[0m     return graph_function._call_flat(\n\u001b[0;32m-> 2454\u001b[0;31m         filtered_flat_args, captured_inputs=graph_function.captured_inputs)  # pylint: disable=protected-access\n\u001b[0m\u001b[1;32m   2455\u001b[0m \u001b[0;34m\u001b[0m\u001b[0m\n\u001b[1;32m   2456\u001b[0m   \u001b[0;34m@\u001b[0m\u001b[0mproperty\u001b[0m\u001b[0;34m\u001b[0m\u001b[0;34m\u001b[0m\u001b[0m\n",
            "\u001b[0;32m/usr/local/lib/python3.7/dist-packages/tensorflow/python/eager/function.py\u001b[0m in \u001b[0;36m_call_flat\u001b[0;34m(self, args, captured_inputs, cancellation_manager)\u001b[0m\n\u001b[1;32m   1859\u001b[0m       \u001b[0;31m# No tape is watching; skip to running the function.\u001b[0m\u001b[0;34m\u001b[0m\u001b[0;34m\u001b[0m\u001b[0;34m\u001b[0m\u001b[0m\n\u001b[1;32m   1860\u001b[0m       return self._build_call_outputs(self._inference_function.call(\n\u001b[0;32m-> 1861\u001b[0;31m           ctx, args, cancellation_manager=cancellation_manager))\n\u001b[0m\u001b[1;32m   1862\u001b[0m     forward_backward = self._select_forward_and_backward_functions(\n\u001b[1;32m   1863\u001b[0m         \u001b[0margs\u001b[0m\u001b[0;34m,\u001b[0m\u001b[0;34m\u001b[0m\u001b[0;34m\u001b[0m\u001b[0m\n",
            "\u001b[0;32m/usr/local/lib/python3.7/dist-packages/tensorflow/python/eager/function.py\u001b[0m in \u001b[0;36mcall\u001b[0;34m(self, ctx, args, cancellation_manager)\u001b[0m\n\u001b[1;32m    500\u001b[0m               \u001b[0minputs\u001b[0m\u001b[0;34m=\u001b[0m\u001b[0margs\u001b[0m\u001b[0;34m,\u001b[0m\u001b[0;34m\u001b[0m\u001b[0;34m\u001b[0m\u001b[0m\n\u001b[1;32m    501\u001b[0m               \u001b[0mattrs\u001b[0m\u001b[0;34m=\u001b[0m\u001b[0mattrs\u001b[0m\u001b[0;34m,\u001b[0m\u001b[0;34m\u001b[0m\u001b[0;34m\u001b[0m\u001b[0m\n\u001b[0;32m--> 502\u001b[0;31m               ctx=ctx)\n\u001b[0m\u001b[1;32m    503\u001b[0m         \u001b[0;32melse\u001b[0m\u001b[0;34m:\u001b[0m\u001b[0;34m\u001b[0m\u001b[0;34m\u001b[0m\u001b[0m\n\u001b[1;32m    504\u001b[0m           outputs = execute.execute_with_cancellation(\n",
            "\u001b[0;32m/usr/local/lib/python3.7/dist-packages/tensorflow/python/eager/execute.py\u001b[0m in \u001b[0;36mquick_execute\u001b[0;34m(op_name, num_outputs, inputs, attrs, ctx, name)\u001b[0m\n\u001b[1;32m     53\u001b[0m     \u001b[0mctx\u001b[0m\u001b[0;34m.\u001b[0m\u001b[0mensure_initialized\u001b[0m\u001b[0;34m(\u001b[0m\u001b[0;34m)\u001b[0m\u001b[0;34m\u001b[0m\u001b[0;34m\u001b[0m\u001b[0m\n\u001b[1;32m     54\u001b[0m     tensors = pywrap_tfe.TFE_Py_Execute(ctx._handle, device_name, op_name,\n\u001b[0;32m---> 55\u001b[0;31m                                         inputs, attrs, num_outputs)\n\u001b[0m\u001b[1;32m     56\u001b[0m   \u001b[0;32mexcept\u001b[0m \u001b[0mcore\u001b[0m\u001b[0;34m.\u001b[0m\u001b[0m_NotOkStatusException\u001b[0m \u001b[0;32mas\u001b[0m \u001b[0me\u001b[0m\u001b[0;34m:\u001b[0m\u001b[0;34m\u001b[0m\u001b[0;34m\u001b[0m\u001b[0m\n\u001b[1;32m     57\u001b[0m     \u001b[0;32mif\u001b[0m \u001b[0mname\u001b[0m \u001b[0;32mis\u001b[0m \u001b[0;32mnot\u001b[0m \u001b[0;32mNone\u001b[0m\u001b[0;34m:\u001b[0m\u001b[0;34m\u001b[0m\u001b[0;34m\u001b[0m\u001b[0m\n",
            "\u001b[0;31mKeyboardInterrupt\u001b[0m: "
          ]
        }
      ],
      "source": [
        "all_models, history = fit_and_score_model(all_models, 'Baseline', X_train, X_test, y_train, y_test, X_val, y_val, 0.5)\n",
        "all_models.loc[:, 'Baseline', :].head()"
      ]
    },
    {
      "cell_type": "code",
      "execution_count": null,
      "metadata": {
        "colab": {
          "base_uri": "https://localhost:8080/",
          "height": 1000
        },
        "id": "CJ67q0vLKK98",
        "outputId": "7febe969-d79c-47c1-da31-b5176ce30962"
      },
      "outputs": [
        {
          "name": "stderr",
          "output_type": "stream",
          "text": [
            "/usr/local/lib/python3.7/dist-packages/sklearn/linear_model/_logistic.py:818: ConvergenceWarning: lbfgs failed to converge (status=1):\n",
            "STOP: TOTAL NO. of ITERATIONS REACHED LIMIT.\n",
            "\n",
            "Increase the number of iterations (max_iter) or scale the data as shown in:\n",
            "    https://scikit-learn.org/stable/modules/preprocessing.html\n",
            "Please also refer to the documentation for alternative solver options:\n",
            "    https://scikit-learn.org/stable/modules/linear_model.html#logistic-regression\n",
            "  extra_warning_msg=_LOGISTIC_SOLVER_CONVERGENCE_MSG,\n",
            "/usr/local/lib/python3.7/dist-packages/sklearn/linear_model/_logistic.py:818: ConvergenceWarning: lbfgs failed to converge (status=1):\n",
            "STOP: TOTAL NO. of ITERATIONS REACHED LIMIT.\n",
            "\n",
            "Increase the number of iterations (max_iter) or scale the data as shown in:\n",
            "    https://scikit-learn.org/stable/modules/preprocessing.html\n",
            "Please also refer to the documentation for alternative solver options:\n",
            "    https://scikit-learn.org/stable/modules/linear_model.html#logistic-regression\n",
            "  extra_warning_msg=_LOGISTIC_SOLVER_CONVERGENCE_MSG,\n",
            "/usr/local/lib/python3.7/dist-packages/sklearn/linear_model/_logistic.py:818: ConvergenceWarning: lbfgs failed to converge (status=1):\n",
            "STOP: TOTAL NO. of ITERATIONS REACHED LIMIT.\n",
            "\n",
            "Increase the number of iterations (max_iter) or scale the data as shown in:\n",
            "    https://scikit-learn.org/stable/modules/preprocessing.html\n",
            "Please also refer to the documentation for alternative solver options:\n",
            "    https://scikit-learn.org/stable/modules/linear_model.html#logistic-regression\n",
            "  extra_warning_msg=_LOGISTIC_SOLVER_CONVERGENCE_MSG,\n",
            "/usr/local/lib/python3.7/dist-packages/sklearn/linear_model/_logistic.py:818: ConvergenceWarning: lbfgs failed to converge (status=1):\n",
            "STOP: TOTAL NO. of ITERATIONS REACHED LIMIT.\n",
            "\n",
            "Increase the number of iterations (max_iter) or scale the data as shown in:\n",
            "    https://scikit-learn.org/stable/modules/preprocessing.html\n",
            "Please also refer to the documentation for alternative solver options:\n",
            "    https://scikit-learn.org/stable/modules/linear_model.html#logistic-regression\n",
            "  extra_warning_msg=_LOGISTIC_SOLVER_CONVERGENCE_MSG,\n",
            "/usr/local/lib/python3.7/dist-packages/sklearn/linear_model/_logistic.py:818: ConvergenceWarning: lbfgs failed to converge (status=1):\n",
            "STOP: TOTAL NO. of ITERATIONS REACHED LIMIT.\n",
            "\n",
            "Increase the number of iterations (max_iter) or scale the data as shown in:\n",
            "    https://scikit-learn.org/stable/modules/preprocessing.html\n",
            "Please also refer to the documentation for alternative solver options:\n",
            "    https://scikit-learn.org/stable/modules/linear_model.html#logistic-regression\n",
            "  extra_warning_msg=_LOGISTIC_SOLVER_CONVERGENCE_MSG,\n",
            "/usr/local/lib/python3.7/dist-packages/sklearn/linear_model/_logistic.py:818: ConvergenceWarning: lbfgs failed to converge (status=1):\n",
            "STOP: TOTAL NO. of ITERATIONS REACHED LIMIT.\n",
            "\n",
            "Increase the number of iterations (max_iter) or scale the data as shown in:\n",
            "    https://scikit-learn.org/stable/modules/preprocessing.html\n",
            "Please also refer to the documentation for alternative solver options:\n",
            "    https://scikit-learn.org/stable/modules/linear_model.html#logistic-regression\n",
            "  extra_warning_msg=_LOGISTIC_SOLVER_CONVERGENCE_MSG,\n",
            "/usr/local/lib/python3.7/dist-packages/sklearn/linear_model/_logistic.py:818: ConvergenceWarning: lbfgs failed to converge (status=1):\n",
            "STOP: TOTAL NO. of ITERATIONS REACHED LIMIT.\n",
            "\n",
            "Increase the number of iterations (max_iter) or scale the data as shown in:\n",
            "    https://scikit-learn.org/stable/modules/preprocessing.html\n",
            "Please also refer to the documentation for alternative solver options:\n",
            "    https://scikit-learn.org/stable/modules/linear_model.html#logistic-regression\n",
            "  extra_warning_msg=_LOGISTIC_SOLVER_CONVERGENCE_MSG,\n",
            "/usr/local/lib/python3.7/dist-packages/sklearn/linear_model/_logistic.py:818: ConvergenceWarning: lbfgs failed to converge (status=1):\n",
            "STOP: TOTAL NO. of ITERATIONS REACHED LIMIT.\n",
            "\n",
            "Increase the number of iterations (max_iter) or scale the data as shown in:\n",
            "    https://scikit-learn.org/stable/modules/preprocessing.html\n",
            "Please also refer to the documentation for alternative solver options:\n",
            "    https://scikit-learn.org/stable/modules/linear_model.html#logistic-regression\n",
            "  extra_warning_msg=_LOGISTIC_SOLVER_CONVERGENCE_MSG,\n",
            "/usr/local/lib/python3.7/dist-packages/sklearn/linear_model/_logistic.py:818: ConvergenceWarning: lbfgs failed to converge (status=1):\n",
            "STOP: TOTAL NO. of ITERATIONS REACHED LIMIT.\n",
            "\n",
            "Increase the number of iterations (max_iter) or scale the data as shown in:\n",
            "    https://scikit-learn.org/stable/modules/preprocessing.html\n",
            "Please also refer to the documentation for alternative solver options:\n",
            "    https://scikit-learn.org/stable/modules/linear_model.html#logistic-regression\n",
            "  extra_warning_msg=_LOGISTIC_SOLVER_CONVERGENCE_MSG,\n",
            "/usr/local/lib/python3.7/dist-packages/sklearn/linear_model/_logistic.py:818: ConvergenceWarning: lbfgs failed to converge (status=1):\n",
            "STOP: TOTAL NO. of ITERATIONS REACHED LIMIT.\n",
            "\n",
            "Increase the number of iterations (max_iter) or scale the data as shown in:\n",
            "    https://scikit-learn.org/stable/modules/preprocessing.html\n",
            "Please also refer to the documentation for alternative solver options:\n",
            "    https://scikit-learn.org/stable/modules/linear_model.html#logistic-regression\n",
            "  extra_warning_msg=_LOGISTIC_SOLVER_CONVERGENCE_MSG,\n",
            "/usr/local/lib/python3.7/dist-packages/sklearn/linear_model/_logistic.py:818: ConvergenceWarning: lbfgs failed to converge (status=1):\n",
            "STOP: TOTAL NO. of ITERATIONS REACHED LIMIT.\n",
            "\n",
            "Increase the number of iterations (max_iter) or scale the data as shown in:\n",
            "    https://scikit-learn.org/stable/modules/preprocessing.html\n",
            "Please also refer to the documentation for alternative solver options:\n",
            "    https://scikit-learn.org/stable/modules/linear_model.html#logistic-regression\n",
            "  extra_warning_msg=_LOGISTIC_SOLVER_CONVERGENCE_MSG,\n",
            "/usr/local/lib/python3.7/dist-packages/sklearn/linear_model/_logistic.py:818: ConvergenceWarning: lbfgs failed to converge (status=1):\n",
            "STOP: TOTAL NO. of ITERATIONS REACHED LIMIT.\n",
            "\n",
            "Increase the number of iterations (max_iter) or scale the data as shown in:\n",
            "    https://scikit-learn.org/stable/modules/preprocessing.html\n",
            "Please also refer to the documentation for alternative solver options:\n",
            "    https://scikit-learn.org/stable/modules/linear_model.html#logistic-regression\n",
            "  extra_warning_msg=_LOGISTIC_SOLVER_CONVERGENCE_MSG,\n",
            "/usr/local/lib/python3.7/dist-packages/sklearn/linear_model/_logistic.py:818: ConvergenceWarning: lbfgs failed to converge (status=1):\n",
            "STOP: TOTAL NO. of ITERATIONS REACHED LIMIT.\n",
            "\n",
            "Increase the number of iterations (max_iter) or scale the data as shown in:\n",
            "    https://scikit-learn.org/stable/modules/preprocessing.html\n",
            "Please also refer to the documentation for alternative solver options:\n",
            "    https://scikit-learn.org/stable/modules/linear_model.html#logistic-regression\n",
            "  extra_warning_msg=_LOGISTIC_SOLVER_CONVERGENCE_MSG,\n",
            "/usr/local/lib/python3.7/dist-packages/sklearn/linear_model/_logistic.py:818: ConvergenceWarning: lbfgs failed to converge (status=1):\n",
            "STOP: TOTAL NO. of ITERATIONS REACHED LIMIT.\n",
            "\n",
            "Increase the number of iterations (max_iter) or scale the data as shown in:\n",
            "    https://scikit-learn.org/stable/modules/preprocessing.html\n",
            "Please also refer to the documentation for alternative solver options:\n",
            "    https://scikit-learn.org/stable/modules/linear_model.html#logistic-regression\n",
            "  extra_warning_msg=_LOGISTIC_SOLVER_CONVERGENCE_MSG,\n",
            "/usr/local/lib/python3.7/dist-packages/sklearn/linear_model/_logistic.py:818: ConvergenceWarning: lbfgs failed to converge (status=1):\n",
            "STOP: TOTAL NO. of ITERATIONS REACHED LIMIT.\n",
            "\n",
            "Increase the number of iterations (max_iter) or scale the data as shown in:\n",
            "    https://scikit-learn.org/stable/modules/preprocessing.html\n",
            "Please also refer to the documentation for alternative solver options:\n",
            "    https://scikit-learn.org/stable/modules/linear_model.html#logistic-regression\n",
            "  extra_warning_msg=_LOGISTIC_SOLVER_CONVERGENCE_MSG,\n"
          ]
        },
        {
          "data": {
            "image/png": "[encoded data removed]",
            "text/plain": [
              "<Figure size 432x288 with 1 Axes>"
            ]
          },
          "metadata": {},
          "output_type": "display_data"
        },
        {
          "name": "stderr",
          "output_type": "stream",
          "text": [
            "/usr/local/lib/python3.7/dist-packages/sklearn/svm/_base.py:1208: ConvergenceWarning: Liblinear failed to converge, increase the number of iterations.\n",
            "  ConvergenceWarning,\n"
          ]
        },
        {
          "data": {
            "image/png": "[encoded data removed]",
            "text/plain": [
              "<Figure size 432x288 with 1 Axes>"
            ]
          },
          "metadata": {},
          "output_type": "display_data"
        },
        {
          "data": {
            "image/png": "[encoded data removed]",
            "text/plain": [
              "<Figure size 432x288 with 1 Axes>"
            ]
          },
          "metadata": {},
          "output_type": "display_data"
        },
        {
          "data": {
            "image/png": "[encoded data removed]",
            "text/plain": [
              "<Figure size 432x288 with 1 Axes>"
            ]
          },
          "metadata": {},
          "output_type": "display_data"
        }
      ],
      "source": [
        "get_loss_curves(X_train, y_train, y_test)"
      ]
    },
    {
      "cell_type": "markdown",
      "metadata": {
        "id": "FxFn3MkeVa5G"
      },
      "source": [
        "### Class Imbalance"
      ]
    },
    {
      "cell_type": "code",
      "execution_count": null,
      "metadata": {
        "id": "Y-Pgu24JVg8s"
      },
      "outputs": [],
      "source": [
        "from imblearn.over_sampling import SMOTE\n",
        "smote = SMOTE(sampling_strategy='auto', n_jobs=-1)\n",
        "X_train, y_train = smote.fit_resample(X_train, y_train)"
      ]
    },
    {
      "cell_type": "markdown",
      "metadata": {
        "id": "LNejV2zSOaIr"
      },
      "source": [
        "### Model Engineering Techniques"
      ]
    },
    {
      "cell_type": "markdown",
      "metadata": {
        "id": "UQYBe3Z-kn0i"
      },
      "source": [
        "#### Grid Search"
      ]
    },
    {
      "cell_type": "code",
      "execution_count": null,
      "metadata": {
        "id": "HlTOtEvakpKE"
      },
      "outputs": [],
      "source": [
        "# Make a dictionary of our five untrained models\n",
        "def make_models(X_train):  \n",
        "  return {\n",
        "      'LR_L2': LogisticRegression(random_state=0, C=10.0, class_weight='balanced', penalty=\"l1\", solver = \"saga\"),\n",
        "      'LR_L1': LogisticRegression(random_state=0, C=1.0, class_weight='balanced', penalty=\"l2\", solver = \"newton-cg\"),\n",
        "      'RF': RandomForestClassifier(n_estimators=40, min_samples_split=6, min_samples_leaf=5, max_features='sqrt', max_depth=10, criterion='entropy', class_weight='balanced'),\n",
        "      'Neural Network': keras.Sequential([\n",
        "      keras.layers.Flatten(input_shape=(X_train.shape[1],)),\n",
        "      keras.layers.Dense(2048, activation=tf.nn.relu),\n",
        "      keras.layers.Dense(512, activation=tf.nn.relu),\n",
        "      keras.layers.Dense(64, activation=tf.nn.relu),\n",
        "      keras.layers.Dense(1, activation=tf.nn.sigmoid),])\n",
        "  }"
      ]
    },
    {
      "cell_type": "markdown",
      "metadata": {
        "id": "97bSPbOvCecJ"
      },
      "source": [
        "#### Feature Engineering"
      ]
    },
    {
      "cell_type": "markdown",
      "metadata": {
        "id": "dkENKPBKFyyc"
      },
      "source": [
        "##### Algorithmic method"
      ]
    },
    {
      "cell_type": "code",
      "execution_count": null,
      "metadata": {
        "colab": {
          "base_uri": "https://localhost:8080/"
        },
        "id": "XelTf4HiCiEa",
        "outputId": "d1407fd0-85e9-4a9d-bea0-17cea8d7f862"
      },
      "outputs": [
        {
          "name": "stdout",
          "output_type": "stream",
          "text": [
            "age + n_injuries has an F-score of 155.32\n",
            "\tBetter by a factor of 213.39 over features in isolation\n",
            "\tThe result is significant (p = [1.69142631e-34])\n",
            "age + position_MF has an F-score of 336.17\n",
            "\tBetter by a factor of 7.08 over features in isolation\n",
            "\tThe result is significant (p = [5.44679001e-70])\n"
          ]
        },
        {
          "name": "stderr",
          "output_type": "stream",
          "text": [
            "/usr/local/lib/python3.7/dist-packages/sklearn/feature_selection/_univariate_selection.py:112: UserWarning: Features [0] are constant.\n",
            "  warnings.warn(\"Features %s are constant.\" % constant_features_idx, UserWarning)\n",
            "/usr/local/lib/python3.7/dist-packages/sklearn/feature_selection/_univariate_selection.py:113: RuntimeWarning: invalid value encountered in true_divide\n",
            "  f = msb / msw\n",
            "/usr/local/lib/python3.7/dist-packages/sklearn/feature_selection/_univariate_selection.py:112: UserWarning: Features [0] are constant.\n",
            "  warnings.warn(\"Features %s are constant.\" % constant_features_idx, UserWarning)\n",
            "/usr/local/lib/python3.7/dist-packages/sklearn/feature_selection/_univariate_selection.py:113: RuntimeWarning: invalid value encountered in true_divide\n",
            "  f = msb / msw\n"
          ]
        },
        {
          "name": "stdout",
          "output_type": "stream",
          "text": [
            "goals + position_MF has an F-score of 123.23\n",
            "\tBetter by a factor of 3.67 over features in isolation\n",
            "\tThe result is significant (p = [6.74473744e-28])\n",
            "passes_completed + through_balls has an F-score of 94.92\n",
            "\tBetter by a factor of 1.78 over features in isolation\n",
            "\tThe result is significant (p = [5.47105917e-22])\n",
            "passes_completed + position_MF has an F-score of 318.29\n",
            "\tBetter by a factor of 16.78 over features in isolation\n",
            "\tThe result is significant (p = [1.34091481e-66])\n",
            "passes + through_balls has an F-score of 93.38\n",
            "\tBetter by a factor of 2.72 over features in isolation\n",
            "\tThe result is significant (p = [1.15641079e-21])\n",
            "passes + n_injuries has an F-score of 81.29\n",
            "\tBetter by a factor of 1.78 over features in isolation\n",
            "\tThe result is significant (p = [4.12853777e-19])\n",
            "passes + position_MF has an F-score of 327.25\n",
            "\tBetter by a factor of 10.86 over features in isolation\n",
            "\tThe result is significant (p = [2.65809149e-68])\n",
            "passes_total_distance + through_balls has an F-score of 103.35\n",
            "\tBetter by a factor of 3.01 over features in isolation\n",
            "\tThe result is significant (p = [9.34046252e-24])\n",
            "passes_total_distance + position_MF has an F-score of 322.71\n",
            "\tBetter by a factor of 9.40 over features in isolation\n",
            "\tThe result is significant (p = [1.93412553e-67])\n",
            "passes_progressive_distance + through_balls has an F-score of 117.37\n",
            "\tBetter by a factor of 2.21 over features in isolation\n",
            "\tThe result is significant (p = [1.10919551e-26])\n",
            "passes_progressive_distance + position_MF has an F-score of 320.71\n",
            "\tBetter by a factor of 6.03 over features in isolation\n",
            "\tThe result is significant (p = [4.635108e-67])\n",
            "passes_short + through_balls has an F-score of 78.87\n",
            "\tBetter by a factor of 21.71 over features in isolation\n",
            "\tThe result is significant (p = [1.3455992e-18])\n",
            "passes_short + n_injuries has an F-score of 92.65\n",
            "\tBetter by a factor of 5.43 over features in isolation\n",
            "\tThe result is significant (p = [1.64798692e-21])\n",
            "passes_short + position_MF has an F-score of 296.58\n",
            "\tBetter by a factor of 29.26 over features in isolation\n",
            "\tThe result is significant (p = [1.88713458e-62])\n",
            "passes_medium + through_balls has an F-score of 100.41\n",
            "\tBetter by a factor of 9.36 over features in isolation\n",
            "\tThe result is significant (p = [3.84419728e-23])\n",
            "passes_medium + position_MF has an F-score of 328.62\n",
            "\tBetter by a factor of 17.52 over features in isolation\n",
            "\tThe result is significant (p = [1.46220925e-68])\n",
            "passes_long + through_balls has an F-score of 120.00\n",
            "\tBetter by a factor of 2.54 over features in isolation\n",
            "\tThe result is significant (p = [3.15764341e-27])\n",
            "passes_long + position_MF has an F-score of 279.02\n",
            "\tBetter by a factor of 5.90 over features in isolation\n",
            "\tThe result is significant (p = [4.57810853e-59])\n",
            "passes_live + through_balls has an F-score of 92.09\n",
            "\tBetter by a factor of 1.59 over features in isolation\n",
            "\tThe result is significant (p = [2.16164432e-21])\n",
            "passes_live + position_MF has an F-score of 323.72\n",
            "\tBetter by a factor of 13.66 over features in isolation\n",
            "\tThe result is significant (p = [1.24670131e-67])\n",
            "passes_dead + position_MF has an F-score of 164.75\n",
            "\tBetter by a factor of 9.75 over features in isolation\n",
            "\tThe result is significant (p = [2.03566148e-36])\n",
            "passes_free_kicks + position_MF has an F-score of 131.41\n",
            "\tBetter by a factor of 7.70 over features in isolation\n",
            "\tThe result is significant (p = [1.36716274e-29])\n",
            "passes_switches + position_MF has an F-score of 137.86\n",
            "\tBetter by a factor of 8.45 over features in isolation\n",
            "\tThe result is significant (p = [6.40387906e-31])\n",
            "crosses + position_MF has an F-score of 124.49\n",
            "\tBetter by a factor of 9.40 over features in isolation\n",
            "\tThe result is significant (p = [3.69556891e-28])\n",
            "tackles + n_injuries has an F-score of 162.96\n",
            "\tBetter by a factor of 21.87 over features in isolation\n",
            "\tThe result is significant (p = [4.70096951e-36])\n",
            "tackles + position_MF has an F-score of 186.49\n",
            "\tBetter by a factor of 25.02 over features in isolation\n",
            "\tThe result is significant (p = [8.16619037e-41])\n"
          ]
        },
        {
          "name": "stderr",
          "output_type": "stream",
          "text": [
            "/usr/local/lib/python3.7/dist-packages/sklearn/feature_selection/_univariate_selection.py:112: UserWarning: Features [0] are constant.\n",
            "  warnings.warn(\"Features %s are constant.\" % constant_features_idx, UserWarning)\n",
            "/usr/local/lib/python3.7/dist-packages/sklearn/feature_selection/_univariate_selection.py:113: RuntimeWarning: invalid value encountered in true_divide\n",
            "  f = msb / msw\n",
            "/usr/local/lib/python3.7/dist-packages/sklearn/feature_selection/_univariate_selection.py:112: UserWarning: Features [0] are constant.\n",
            "  warnings.warn(\"Features %s are constant.\" % constant_features_idx, UserWarning)\n",
            "/usr/local/lib/python3.7/dist-packages/sklearn/feature_selection/_univariate_selection.py:113: RuntimeWarning: invalid value encountered in true_divide\n",
            "  f = msb / msw\n"
          ]
        },
        {
          "name": "stdout",
          "output_type": "stream",
          "text": [
            "tackles_won + n_injuries has an F-score of 197.99\n",
            "\tBetter by a factor of 6.20 over features in isolation\n",
            "\tThe result is significant (p = [4.01059851e-43])\n",
            "tackles_won + position_MF has an F-score of 134.22\n",
            "\tBetter by a factor of 4.21 over features in isolation\n",
            "\tThe result is significant (p = [3.60113461e-30])\n",
            "dribble_tackles + position_MF has an F-score of 157.33\n",
            "\tBetter by a factor of 4.93 over features in isolation\n",
            "\tThe result is significant (p = [6.5781682e-35])\n",
            "dribbled_past + position_MF has an F-score of 200.33\n",
            "\tBetter by a factor of 26.88 over features in isolation\n",
            "\tThe result is significant (p = [1.36563457e-43])\n",
            "blocks + position_MF has an F-score of 218.72\n",
            "\tBetter by a factor of 12.88 over features in isolation\n",
            "\tThe result is significant (p = [2.96176276e-47])\n",
            "interceptions + position_MF has an F-score of 234.74\n",
            "\tBetter by a factor of 17.73 over features in isolation\n",
            "\tThe result is significant (p = [2.01324435e-50])\n",
            "clearances + position_MF has an F-score of 212.61\n",
            "\tBetter by a factor of 13.03 over features in isolation\n",
            "\tThe result is significant (p = [4.85206121e-46])\n",
            "touches + n_injuries has an F-score of 106.35\n",
            "\tBetter by a factor of 6.23 over features in isolation\n",
            "\tThe result is significant (p = [2.19288462e-24])\n",
            "touches + position_MF has an F-score of 342.02\n",
            "\tBetter by a factor of 20.04 over features in isolation\n",
            "\tThe result is significant (p = [4.28918639e-71])\n",
            "touches_live_ball + n_injuries has an F-score of 106.54\n",
            "\tBetter by a factor of 2.00 over features in isolation\n",
            "\tThe result is significant (p = [2.00671067e-24])\n",
            "touches_live_ball + position_MF has an F-score of 341.85\n",
            "\tBetter by a factor of 20.22 over features in isolation\n",
            "\tThe result is significant (p = [4.62171712e-71])\n",
            "dribbles + n_injuries has an F-score of 138.82\n",
            "\tBetter by a factor of 4.04 over features in isolation\n",
            "\tThe result is significant (p = [4.07686256e-31])\n",
            "dribbles + position_MF has an F-score of 144.78\n",
            "\tBetter by a factor of 6.11 over features in isolation\n",
            "\tThe result is significant (p = [2.42952339e-32])\n",
            "miscontrols + n_injuries has an F-score of 181.60\n",
            "\tBetter by a factor of 3.99 over features in isolation\n",
            "\tThe result is significant (p = [7.88202478e-40])\n",
            "miscontrols + position_MF has an F-score of 152.56\n",
            "\tBetter by a factor of 3.22 over features in isolation\n",
            "\tThe result is significant (p = [6.19135599e-34])\n",
            "dispossessed + n_injuries has an F-score of 97.04\n",
            "\tBetter by a factor of 5.12 over features in isolation\n",
            "\tThe result is significant (p = [1.95850987e-22])\n",
            "dispossessed + position_MF has an F-score of 182.13\n",
            "\tBetter by a factor of 9.71 over features in isolation\n",
            "\tThe result is significant (p = [6.14997787e-40])\n",
            "passes_received + n_injuries has an F-score of 93.77\n",
            "\tBetter by a factor of 9.25 over features in isolation\n",
            "\tThe result is significant (p = [9.5674214e-22])\n",
            "passes_received + position_MF has an F-score of 326.91\n",
            "\tBetter by a factor of 32.25 over features in isolation\n",
            "\tThe result is significant (p = [3.08374797e-68])\n",
            "fouls + n_injuries has an F-score of 195.27\n",
            "\tBetter by a factor of 6.00 over features in isolation\n",
            "\tThe result is significant (p = [1.40587695e-42])\n",
            "fouls + position_MF has an F-score of 161.19\n",
            "\tBetter by a factor of 3.03 over features in isolation\n",
            "\tThe result is significant (p = [1.07427075e-35])\n",
            "fouled + n_injuries has an F-score of 113.64\n",
            "\tBetter by a factor of 24.94 over features in isolation\n",
            "\tThe result is significant (p = [6.62063714e-26])\n",
            "fouled + position_MF has an F-score of 240.79\n",
            "\tBetter by a factor of 7.01 over features in isolation\n",
            "\tThe result is significant (p = [1.30052552e-51])\n",
            "ball_recoveries + position_MF has an F-score of 359.38\n",
            "\tBetter by a factor of 11.93 over features in isolation\n",
            "\tThe result is significant (p = [2.35558878e-74])\n",
            "aerials_won + position_MF has an F-score of 135.64\n",
            "\tBetter by a factor of 7.15 over features in isolation\n",
            "\tThe result is significant (p = [1.84023278e-30])\n",
            "aerials_lost + position_MF has an F-score of 187.48\n",
            "\tBetter by a factor of 257.57 over features in isolation\n",
            "\tThe result is significant (p = [5.1647103e-41])\n",
            "position_FW + position_MF has an F-score of 114.74\n",
            "\tBetter by a factor of 20.71 over features in isolation\n",
            "\tThe result is significant (p = [3.9054143e-26])\n"
          ]
        },
        {
          "name": "stderr",
          "output_type": "stream",
          "text": [
            "/usr/local/lib/python3.7/dist-packages/sklearn/feature_selection/_univariate_selection.py:112: UserWarning: Features [0] are constant.\n",
            "  warnings.warn(\"Features %s are constant.\" % constant_features_idx, UserWarning)\n",
            "/usr/local/lib/python3.7/dist-packages/sklearn/feature_selection/_univariate_selection.py:113: RuntimeWarning: invalid value encountered in true_divide\n",
            "  f = msb / msw\n",
            "/usr/local/lib/python3.7/dist-packages/sklearn/feature_selection/_univariate_selection.py:112: UserWarning: Features [0] are constant.\n",
            "  warnings.warn(\"Features %s are constant.\" % constant_features_idx, UserWarning)\n",
            "/usr/local/lib/python3.7/dist-packages/sklearn/feature_selection/_univariate_selection.py:113: RuntimeWarning: invalid value encountered in true_divide\n",
            "  f = msb / msw\n",
            "/usr/local/lib/python3.7/dist-packages/sklearn/feature_selection/_univariate_selection.py:112: UserWarning: Features [0] are constant.\n",
            "  warnings.warn(\"Features %s are constant.\" % constant_features_idx, UserWarning)\n",
            "/usr/local/lib/python3.7/dist-packages/sklearn/feature_selection/_univariate_selection.py:113: RuntimeWarning: invalid value encountered in true_divide\n",
            "  f = msb / msw\n"
          ]
        }
      ],
      "source": [
        "# from sklearn.feature_selection import f_classif\n",
        "# Create a list of F-values for the existing features\n",
        "feature_F_scores, _ = f_classif(X_train, y_train)\n",
        "\n",
        "# Iterate through each combination of features\n",
        "for f1_index, f1 in enumerate(X_train.columns):\n",
        "  for f2_index, f2 in enumerate(X_train.columns[f1_index + 1:]):\n",
        "    # Multiply the two features to create a new feature\n",
        "    new_feature = X_train[[f1]].multiply(X_train[f2], axis=0)\n",
        "    # Evaluate F-value of new feature\n",
        "    F_Score_new, p_value_new = f_classif(new_feature, y_train)\n",
        "    # Evaluate the relative improvement of the new feature\n",
        "    F_score_improvement = F_Score_new[0] / max(feature_F_scores[[f1_index, f2_index]])\n",
        "    # Print out features that is sufficiently improved \n",
        "    if F_score_improvement >= 1.5 and F_Score_new[0] >= 75 and p_value_new < 0.05:\n",
        "        '''Note that F_score_improvement >= 1.5 and F_Score_new[0] >= 75 is\n",
        "         relatively arbitrary, and that other values could be used.'''\n",
        "        print(f'{f1} + {f2} has an F-score of {F_Score_new[0]:.2f}')\n",
        "        print(f'\\tBetter by a factor of {F_score_improvement:.2f} over features in isolation')\n",
        "        print(f'\\tThe result is significant (p = {p_value_new})')\n"
      ]
    },
    {
      "cell_type": "code",
      "execution_count": null,
      "metadata": {
        "colab": {
          "base_uri": "https://localhost:8080/"
        },
        "id": "DSn-BTHjF6Mk",
        "outputId": "5f167cf9-5b3c-4de5-95c9-f3c624e6d6e9"
      },
      "outputs": [
        {
          "name": "stdout",
          "output_type": "stream",
          "text": [
            "age + n_injuries has a correlation of 0.30 with the target feature\n",
            "\tThe result is significant (p = [1.79982159e-48])\n",
            "age + n_severe_injuries has a correlation of 0.25 with the target feature\n",
            "\tThe result is significant (p = [5.20690426e-33])\n"
          ]
        },
        {
          "name": "stderr",
          "output_type": "stream",
          "text": [
            "/usr/local/lib/python3.7/dist-packages/sklearn/feature_selection/_univariate_selection.py:112: UserWarning: Features [0] are constant.\n",
            "  warnings.warn(\"Features %s are constant.\" % constant_features_idx, UserWarning)\n",
            "/usr/local/lib/python3.7/dist-packages/sklearn/feature_selection/_univariate_selection.py:113: RuntimeWarning: invalid value encountered in true_divide\n",
            "  f = msb / msw\n"
          ]
        },
        {
          "name": "stdout",
          "output_type": "stream",
          "text": [
            "shots + n_injuries has a correlation of 0.22 with the target feature\n",
            "\tThe result is significant (p = [7.24495281e-28])\n"
          ]
        },
        {
          "name": "stderr",
          "output_type": "stream",
          "text": [
            "/usr/local/lib/python3.7/dist-packages/sklearn/feature_selection/_univariate_selection.py:112: UserWarning: Features [0] are constant.\n",
            "  warnings.warn(\"Features %s are constant.\" % constant_features_idx, UserWarning)\n",
            "/usr/local/lib/python3.7/dist-packages/sklearn/feature_selection/_univariate_selection.py:113: RuntimeWarning: invalid value encountered in true_divide\n",
            "  f = msb / msw\n"
          ]
        },
        {
          "name": "stdout",
          "output_type": "stream",
          "text": [
            "passes_completed + n_injuries has a correlation of 0.23 with the target feature\n",
            "\tThe result is significant (p = [2.44912207e-28])\n",
            "passes + n_injuries has a correlation of 0.25 with the target feature\n",
            "\tThe result is significant (p = [8.30549028e-35])\n",
            "passes + n_severe_injuries has a correlation of 0.22 with the target feature\n",
            "\tThe result is significant (p = [4.7607806e-27])\n",
            "passes_short + n_injuries has a correlation of 0.27 with the target feature\n",
            "\tThe result is significant (p = [2.70536573e-41])\n",
            "passes_short + n_severe_injuries has a correlation of 0.24 with the target feature\n",
            "\tThe result is significant (p = [2.93754762e-32])\n",
            "passes_live + n_injuries has a correlation of 0.24 with the target feature\n",
            "\tThe result is significant (p = [2.41587475e-31])\n",
            "passes_live + n_severe_injuries has a correlation of 0.22 with the target feature\n",
            "\tThe result is significant (p = [1.14075677e-25])\n",
            "passes_dead + n_injuries has a correlation of 0.24 with the target feature\n",
            "\tThe result is significant (p = [7.95803306e-31])\n"
          ]
        },
        {
          "name": "stderr",
          "output_type": "stream",
          "text": [
            "/usr/local/lib/python3.7/dist-packages/sklearn/feature_selection/_univariate_selection.py:112: UserWarning: Features [0] are constant.\n",
            "  warnings.warn(\"Features %s are constant.\" % constant_features_idx, UserWarning)\n",
            "/usr/local/lib/python3.7/dist-packages/sklearn/feature_selection/_univariate_selection.py:113: RuntimeWarning: invalid value encountered in true_divide\n",
            "  f = msb / msw\n"
          ]
        },
        {
          "name": "stdout",
          "output_type": "stream",
          "text": [
            "tackles + n_injuries has a correlation of 0.26 with the target feature\n",
            "\tThe result is significant (p = [3.94922129e-36])\n",
            "tackles + n_severe_injuries has a correlation of 0.23 with the target feature\n",
            "\tThe result is significant (p = [4.16188594e-29])\n",
            "tackles_won + n_injuries has a correlation of 0.25 with the target feature\n",
            "\tThe result is significant (p = [2.03079506e-34])\n",
            "tackles_won + n_severe_injuries has a correlation of 0.23 with the target feature\n",
            "\tThe result is significant (p = [1.75047402e-28])\n",
            "touches + n_injuries has a correlation of 0.28 with the target feature\n",
            "\tThe result is significant (p = [5.39319008e-42])\n",
            "touches + n_severe_injuries has a correlation of 0.24 with the target feature\n",
            "\tThe result is significant (p = [4.81540837e-32])\n",
            "touches_live_ball + n_injuries has a correlation of 0.28 with the target feature\n",
            "\tThe result is significant (p = [5.36728247e-42])\n",
            "touches_live_ball + n_severe_injuries has a correlation of 0.24 with the target feature\n",
            "\tThe result is significant (p = [4.79733466e-32])\n",
            "dribbles + n_injuries has a correlation of 0.24 with the target feature\n",
            "\tThe result is significant (p = [1.04457173e-31])\n",
            "dribbles + n_severe_injuries has a correlation of 0.20 with the target feature\n",
            "\tThe result is significant (p = [1.04704734e-22])\n",
            "miscontrols + n_injuries has a correlation of 0.29 with the target feature\n",
            "\tThe result is significant (p = [1.33976293e-46])\n",
            "miscontrols + n_severe_injuries has a correlation of 0.25 with the target feature\n",
            "\tThe result is significant (p = [7.05124972e-34])\n",
            "passes_received + n_injuries has a correlation of 0.27 with the target feature\n",
            "\tThe result is significant (p = [8.56891621e-40])\n",
            "passes_received + n_severe_injuries has a correlation of 0.24 with the target feature\n",
            "\tThe result is significant (p = [3.93068856e-31])\n",
            "fouls + n_injuries has a correlation of 0.24 with the target feature\n",
            "\tThe result is significant (p = [1.8850673e-32])\n",
            "fouls + n_severe_injuries has a correlation of 0.21 with the target feature\n",
            "\tThe result is significant (p = [4.47656566e-25])\n",
            "fouled + n_injuries has a correlation of 0.26 with the target feature\n",
            "\tThe result is significant (p = [6.181139e-37])\n",
            "fouled + n_severe_injuries has a correlation of 0.20 with the target feature\n",
            "\tThe result is significant (p = [1.99773624e-22])\n",
            "ball_recoveries + n_severe_injuries has a correlation of 0.20 with the target feature\n",
            "\tThe result is significant (p = [1.75618895e-22])\n",
            "n_injuries + n_severe_injuries has a correlation of 0.26 with the target feature\n",
            "\tThe result is significant (p = [2.96932031e-36])\n",
            "n_injuries + minutes_per_appearance has a correlation of 0.27 with the target feature\n",
            "\tThe result is significant (p = [1.24849784e-40])\n",
            "n_injuries + game_starts_percent has a correlation of 0.25 with the target feature\n",
            "\tThe result is significant (p = [1.60194126e-33])\n",
            "n_severe_injuries + minutes_per_appearance has a correlation of 0.23 with the target feature\n",
            "\tThe result is significant (p = [5.27185782e-29])\n",
            "n_severe_injuries + game_starts_percent has a correlation of 0.21 with the target feature\n",
            "\tThe result is significant (p = [2.23858611e-25])\n"
          ]
        },
        {
          "name": "stderr",
          "output_type": "stream",
          "text": [
            "/usr/local/lib/python3.7/dist-packages/sklearn/feature_selection/_univariate_selection.py:112: UserWarning: Features [0] are constant.\n",
            "  warnings.warn(\"Features %s are constant.\" % constant_features_idx, UserWarning)\n",
            "/usr/local/lib/python3.7/dist-packages/sklearn/feature_selection/_univariate_selection.py:113: RuntimeWarning: invalid value encountered in true_divide\n",
            "  f = msb / msw\n",
            "/usr/local/lib/python3.7/dist-packages/sklearn/feature_selection/_univariate_selection.py:112: UserWarning: Features [0] are constant.\n",
            "  warnings.warn(\"Features %s are constant.\" % constant_features_idx, UserWarning)\n",
            "/usr/local/lib/python3.7/dist-packages/sklearn/feature_selection/_univariate_selection.py:113: RuntimeWarning: invalid value encountered in true_divide\n",
            "  f = msb / msw\n",
            "/usr/local/lib/python3.7/dist-packages/sklearn/feature_selection/_univariate_selection.py:112: UserWarning: Features [0] are constant.\n",
            "  warnings.warn(\"Features %s are constant.\" % constant_features_idx, UserWarning)\n",
            "/usr/local/lib/python3.7/dist-packages/sklearn/feature_selection/_univariate_selection.py:113: RuntimeWarning: invalid value encountered in true_divide\n",
            "  f = msb / msw\n"
          ]
        }
      ],
      "source": [
        "# Iterate through each combination of features\n",
        "for f1_index, f1 in enumerate(X_train.columns):\n",
        "  for f2_index, f2 in enumerate(X_train.columns[f1_index + 1:]):\n",
        "    # Multiply the two features to create a new feature\n",
        "    new_feature = X_train[[f1]].multiply(X_train[f2], axis=0)\n",
        "    \n",
        "    new_feature_ser = new_feature.iloc[:,0]\n",
        "    corr_val = new_feature_ser.corr(y_train)\n",
        "\n",
        "    # Evaluate F-value of new feature\n",
        "    F_Score_new, p_value_new = f_classif(new_feature, y_train)\n",
        "    if corr_val > 0.2 and p_value_new < 0.05:\n",
        "        print(f'{f1} + {f2} has a correlation of {corr_val:.2f} with the target feature')\n",
        "        print(f'\\tThe result is significant (p = {p_value_new})')\n"
      ]
    },
    {
      "cell_type": "markdown",
      "metadata": {
        "id": "cetg4FyCOSEQ"
      },
      "source": [
        "##### Final selection"
      ]
    },
    {
      "cell_type": "code",
      "execution_count": null,
      "metadata": {
        "id": "dtbgQqahMcrc"
      },
      "outputs": [],
      "source": [
        "def new_feature_combos(X):\n",
        "    X_new = X.copy()\n",
        "    \n",
        "    # Correlation of 0.3\n",
        "    X_new['n_injuries * age'] = X_new.n_injuries * X_new.age\n",
        "\n",
        "    # Correlation of 0.28\n",
        "    X_new['n_injuries * touches'] = X_new.n_injuries * X_new.touches\n",
        "    \n",
        "    # Correlation of 0.29\n",
        "    X_new['n_injuries * miscontrols'] = X_new.n_injuries * X_new.miscontrols\n",
        "\n",
        "    return X_new\n",
        "\n",
        "X_train = new_feature_combos(X_train)\n",
        "X_test = new_feature_combos(X_test)\n",
        "X_val = new_feature_combos(X_val)"
      ]
    },
    {
      "cell_type": "markdown",
      "metadata": {
        "id": "KyIdGdYcz9j6"
      },
      "source": [
        "#### Feature Selection"
      ]
    },
    {
      "cell_type": "code",
      "execution_count": null,
      "metadata": {
        "id": "ZlteOgT60Bhi"
      },
      "outputs": [],
      "source": [
        "from sklearn.feature_selection import SelectKBest, f_classif\n",
        "\n",
        "selectk = SelectKBest(k=15)\n",
        "X_new_train = selectk.fit(X_train, y_train)\n",
        "X_new_train.transform(X_train)\n",
        "new_cols = X_new_train.get_feature_names_out()\n",
        "\n",
        "\n",
        "X_train = X_train[new_cols]\n",
        "X_test = X_test[new_cols]\n",
        "X_val = X_val[new_cols]\n",
        "\n",
        "# select_features = SelectKBest(f_classif, k=15)\n",
        "# select_features = select_features.fit(X_train_scaled, y_train)\n",
        "\n",
        "# # Get mask of columns that have good features\n",
        "# feature_mask = select_features.get_support()\n",
        "# X_train_fe.columns[feature_mask]\n",
        "\n",
        "# # select features\n",
        "# X_train_scaled_fs = X_train_scaled.iloc[:, feature_mask]\n",
        "# X_test_scaled_fs = X_test_scaled.iloc[:, feature_mask]\n",
        "# X_val_scaled_fs = X_val_scaled.iloc[:, feature_mask]"
      ]
    },
    {
      "cell_type": "code",
      "execution_count": null,
      "metadata": {
        "colab": {
          "base_uri": "https://localhost:8080/",
          "height": 430
        },
        "id": "a7Pifcm9TIzd",
        "outputId": "f3d93de9-e1c0-4d2b-da17-3fb08f6918af"
      },
      "outputs": [
        {
          "name": "stderr",
          "output_type": "stream",
          "text": [
            "/usr/local/lib/python3.7/dist-packages/sklearn/linear_model/_sag.py:354: ConvergenceWarning: The max_iter was reached which means the coef_ did not converge\n",
            "  ConvergenceWarning,\n"
          ]
        },
        {
          "name": "stdout",
          "output_type": "stream",
          "text": [
            "LR_L2 achieved a precision of 0.181 and recall of 0.857.LR_L2 achieved a ROC_AUC of 0.726 and score of 0.519.\n",
            "LR_L1 achieved a precision of 0.182 and recall of 0.571.LR_L1 achieved a ROC_AUC of 0.652 and score of 0.377.\n",
            "RF achieved a precision of 0.184 and recall of 0.400.RF achieved a ROC_AUC of 0.608 and score of 0.292.\n",
            "12/12 [==============================] - 0s 4ms/step\n",
            "12/12 [==============================] - 0s 4ms/step\n",
            "Neural Network achieved a precision of 0.161 and recall of 0.286.Neural Network achieved a ROC_AUC of 0.608 and score of 0.224.\n"
          ]
        },
        {
          "data": {
            "text/html": [
              "\n",
              "  <div id=\"df-bf3a7d88-e4f0-4c3c-bbf1-17314effd1ae\">\n",
              "    <div class=\"colab-df-container\">\n",
              "      <div>\n",
              "<style scoped>\n",
              "    .dataframe tbody tr th:only-of-type {\n",
              "        vertical-align: middle;\n",
              "    }\n",
              "\n",
              "    .dataframe tbody tr th {\n",
              "        vertical-align: top;\n",
              "    }\n",
              "\n",
              "    .dataframe thead th {\n",
              "        text-align: right;\n",
              "    }\n",
              "</style>\n",
              "<table border=\"1\" class=\"dataframe\">\n",
              "  <thead>\n",
              "    <tr style=\"text-align: right;\">\n",
              "      <th></th>\n",
              "      <th></th>\n",
              "      <th>Precision</th>\n",
              "      <th>Recall</th>\n",
              "      <th>Score</th>\n",
              "      <th>ROC AUC</th>\n",
              "      <th>Model</th>\n",
              "    </tr>\n",
              "    <tr>\n",
              "      <th>model names</th>\n",
              "      <th>technique</th>\n",
              "      <th></th>\n",
              "      <th></th>\n",
              "      <th></th>\n",
              "      <th></th>\n",
              "      <th></th>\n",
              "    </tr>\n",
              "  </thead>\n",
              "  <tbody>\n",
              "    <tr>\n",
              "      <th>LR_L2</th>\n",
              "      <th>Engineered</th>\n",
              "      <td>0.180723</td>\n",
              "      <td>0.857143</td>\n",
              "      <td>0.518933</td>\n",
              "      <td>0.726190</td>\n",
              "      <td>LogisticRegression(C=10.0, class_weight='balan...</td>\n",
              "    </tr>\n",
              "    <tr>\n",
              "      <th>LR_L1</th>\n",
              "      <th>Engineered</th>\n",
              "      <td>0.181818</td>\n",
              "      <td>0.571429</td>\n",
              "      <td>0.376623</td>\n",
              "      <td>0.651786</td>\n",
              "      <td>LogisticRegression(class_weight='balanced', ra...</td>\n",
              "    </tr>\n",
              "    <tr>\n",
              "      <th>RF</th>\n",
              "      <th>Engineered</th>\n",
              "      <td>0.184211</td>\n",
              "      <td>0.400000</td>\n",
              "      <td>0.292105</td>\n",
              "      <td>0.607738</td>\n",
              "      <td>(DecisionTreeClassifier(criterion='entropy', m...</td>\n",
              "    </tr>\n",
              "    <tr>\n",
              "      <th>Neural Network</th>\n",
              "      <th>Engineered</th>\n",
              "      <td>0.161290</td>\n",
              "      <td>0.285714</td>\n",
              "      <td>0.223502</td>\n",
              "      <td>0.607738</td>\n",
              "      <td>&lt;keras.engine.sequential.Sequential object at ...</td>\n",
              "    </tr>\n",
              "  </tbody>\n",
              "</table>\n",
              "</div>\n",
              "      <button class=\"colab-df-convert\" onclick=\"convertToInteractive('df-bf3a7d88-e4f0-4c3c-bbf1-17314effd1ae')\"\n",
              "              title=\"Convert this dataframe to an interactive table.\"\n",
              "              style=\"display:none;\">\n",
              "        \n",
              "  <svg xmlns=\"http://www.w3.org/2000/svg\" height=\"24px\"viewBox=\"0 0 24 24\"\n",
              "       width=\"24px\">\n",
              "    <path d=\"M0 0h24v24H0V0z\" fill=\"none\"/>\n",
              "    <path d=\"M18.56 5.44l.94 2.06.94-2.06 2.06-.94-2.06-.94-.94-2.06-.94 2.06-2.06.94zm-11 1L8.5 8.5l.94-2.06 2.06-.94-2.06-.94L8.5 2.5l-.94 2.06-2.06.94zm10 10l.94 2.06.94-2.06 2.06-.94-2.06-.94-.94-2.06-.94 2.06-2.06.94z\"/><path d=\"M17.41 7.96l-1.37-1.37c-.4-.4-.92-.59-1.43-.59-.52 0-1.04.2-1.43.59L10.3 9.45l-7.72 7.72c-.78.78-.78 2.05 0 2.83L4 21.41c.39.39.9.59 1.41.59.51 0 1.02-.2 1.41-.59l7.78-7.78 2.81-2.81c.8-.78.8-2.07 0-2.86zM5.41 20L4 18.59l7.72-7.72 1.47 1.35L5.41 20z\"/>\n",
              "  </svg>\n",
              "      </button>\n",
              "      \n",
              "  <style>\n",
              "    .colab-df-container {\n",
              "      display:flex;\n",
              "      flex-wrap:wrap;\n",
              "      gap: 12px;\n",
              "    }\n",
              "\n",
              "    .colab-df-convert {\n",
              "      background-color: #E8F0FE;\n",
              "      border: none;\n",
              "      border-radius: 50%;\n",
              "      cursor: pointer;\n",
              "      display: none;\n",
              "      fill: #1967D2;\n",
              "      height: 32px;\n",
              "      padding: 0 0 0 0;\n",
              "      width: 32px;\n",
              "    }\n",
              "\n",
              "    .colab-df-convert:hover {\n",
              "      background-color: #E2EBFA;\n",
              "      box-shadow: 0px 1px 2px rgba(60, 64, 67, 0.3), 0px 1px 3px 1px rgba(60, 64, 67, 0.15);\n",
              "      fill: #174EA6;\n",
              "    }\n",
              "\n",
              "    [theme=dark] .colab-df-convert {\n",
              "      background-color: #3B4455;\n",
              "      fill: #D2E3FC;\n",
              "    }\n",
              "\n",
              "    [theme=dark] .colab-df-convert:hover {\n",
              "      background-color: #434B5C;\n",
              "      box-shadow: 0px 1px 3px 1px rgba(0, 0, 0, 0.15);\n",
              "      filter: drop-shadow(0px 1px 2px rgba(0, 0, 0, 0.3));\n",
              "      fill: #FFFFFF;\n",
              "    }\n",
              "  </style>\n",
              "\n",
              "      <script>\n",
              "        const buttonEl =\n",
              "          document.querySelector('#df-bf3a7d88-e4f0-4c3c-bbf1-17314effd1ae button.colab-df-convert');\n",
              "        buttonEl.style.display =\n",
              "          google.colab.kernel.accessAllowed ? 'block' : 'none';\n",
              "\n",
              "        async function convertToInteractive(key) {\n",
              "          const element = document.querySelector('#df-bf3a7d88-e4f0-4c3c-bbf1-17314effd1ae');\n",
              "          const dataTable =\n",
              "            await google.colab.kernel.invokeFunction('convertToInteractive',\n",
              "                                                     [key], {});\n",
              "          if (!dataTable) return;\n",
              "\n",
              "          const docLinkHtml = 'Like what you see? Visit the ' +\n",
              "            '<a target=\"_blank\" href=https://colab.research.google.com/notebooks/data_table.ipynb>data table notebook</a>'\n",
              "            + ' to learn more about interactive tables.';\n",
              "          element.innerHTML = '';\n",
              "          dataTable['output_type'] = 'display_data';\n",
              "          await google.colab.output.renderOutput(dataTable, element);\n",
              "          const docLink = document.createElement('div');\n",
              "          docLink.innerHTML = docLinkHtml;\n",
              "          element.appendChild(docLink);\n",
              "        }\n",
              "      </script>\n",
              "    </div>\n",
              "  </div>\n",
              "  "
            ],
            "text/plain": [
              "                           Precision    Recall     Score   ROC AUC  \\\n",
              "model names    technique                                             \n",
              "LR_L2          Engineered   0.180723  0.857143  0.518933  0.726190   \n",
              "LR_L1          Engineered   0.181818  0.571429  0.376623  0.651786   \n",
              "RF             Engineered   0.184211  0.400000  0.292105  0.607738   \n",
              "Neural Network Engineered   0.161290  0.285714  0.223502  0.607738   \n",
              "\n",
              "                                                                       Model  \n",
              "model names    technique                                                      \n",
              "LR_L2          Engineered  LogisticRegression(C=10.0, class_weight='balan...  \n",
              "LR_L1          Engineered  LogisticRegression(class_weight='balanced', ra...  \n",
              "RF             Engineered  (DecisionTreeClassifier(criterion='entropy', m...  \n",
              "Neural Network Engineered  <keras.engine.sequential.Sequential object at ...  "
            ]
          },
          "execution_count": 23,
          "metadata": {},
          "output_type": "execute_result"
        }
      ],
      "source": [
        "all_models, history = fit_and_score_model(all_models, 'Engineered', X_train, X_test, y_train, y_test, X_val, y_val, 0.5)\n",
        "all_models.loc[:, 'Engineered', :].head()"
      ]
    },
    {
      "cell_type": "markdown",
      "metadata": {
        "id": "A8v5MwxlmV-h"
      },
      "source": [
        "#### Feature Scaling (yields worse results for some reason, don't run this)"
      ]
    },
    {
      "cell_type": "code",
      "execution_count": null,
      "metadata": {
        "id": "hYrP_JTTmY1W"
      },
      "outputs": [],
      "source": [
        "from sklearn.preprocessing import StandardScaler\n",
        "\n",
        "technique_name = 'Scaling'\n",
        "\n",
        "def standardize_data(X_train, X_out_of_sample, X_val):\n",
        "    \"\"\"standardizes all of the data in X_train and X_out_of_sample. The mean and\n",
        "    standard deviation of each feature (i.e., each column) from the X_train\n",
        "    data is used to standardize both the X_train and X_out_of sample.\"\"\"\n",
        "\n",
        "    X_train_standardized = X_train.copy()\n",
        "    X_out_of_sample_standardized = X_out_of_sample.copy()\n",
        "    X_val_standardized = X_val.copy() \n",
        "\n",
        "    scaler = StandardScaler()\n",
        "    \n",
        "    '''Use scaler to standardize your data. You'll need to fit scaler with your\n",
        "    training data (use the fit method) and standardize your training and \n",
        "    out-of-sample data (use the transform method)'''\n",
        "\n",
        "    scaler.fit(X_train) \n",
        "    X_train_standardized = scaler.transform(X_train_standardized)\n",
        "    X_out_of_sample_standardized = scaler.transform(X_out_of_sample_standardized)\n",
        "    X_val_standardized = scaler.transform(X_val_standardized)\n",
        "\n",
        "    return X_train_standardized, X_out_of_sample_standardized, X_val_standardized, scaler\n",
        "\n",
        "# Make new data that is scaled\n",
        "X_train, X_test, X_val, scaler = standardize_data(X_train, X_test, X_val)"
      ]
    },
    {
      "cell_type": "markdown",
      "metadata": {
        "id": "KLbmi-UHOUEV"
      },
      "source": [
        "### Final Engineered Model"
      ]
    },
    {
      "cell_type": "code",
      "execution_count": null,
      "metadata": {
        "colab": {
          "base_uri": "https://localhost:8080/",
          "height": 373
        },
        "id": "cqojaM-dDMc7",
        "outputId": "891ff735-ce66-49fe-b14f-49f943ccc971"
      },
      "outputs": [
        {
          "name": "stderr",
          "output_type": "stream",
          "text": [
            "/usr/local/lib/python3.7/dist-packages/sklearn/linear_model/_sag.py:354: ConvergenceWarning: The max_iter was reached which means the coef_ did not converge\n",
            "  ConvergenceWarning,\n"
          ]
        },
        {
          "name": "stdout",
          "output_type": "stream",
          "text": [
            "LR_L2 achieved a precision of 0.187 and recall of 0.657.LR_L2 achieved a ROC_AUC of 0.680 and score of 0.422.\n",
            "LR_L1 achieved a precision of 0.189 and recall of 0.657.LR_L1 achieved a ROC_AUC of 0.681 and score of 0.423.\n",
            "RF achieved a precision of 0.333 and recall of 0.200.RF achieved a ROC_AUC of 0.579 and score of 0.267.\n",
            "12/12 [==============================] - 0s 7ms/step\n",
            "12/12 [==============================] - 0s 4ms/step\n",
            "Neural Network achieved a precision of 0.154 and recall of 0.057.Neural Network achieved a ROC_AUC of 0.579 and score of 0.105.\n"
          ]
        },
        {
          "data": {
            "text/html": [
              "\n",
              "  <div id=\"df-62581c9b-dd00-4672-8cf6-1cbb900edd83\">\n",
              "    <div class=\"colab-df-container\">\n",
              "      <div>\n",
              "<style scoped>\n",
              "    .dataframe tbody tr th:only-of-type {\n",
              "        vertical-align: middle;\n",
              "    }\n",
              "\n",
              "    .dataframe tbody tr th {\n",
              "        vertical-align: top;\n",
              "    }\n",
              "\n",
              "    .dataframe thead th {\n",
              "        text-align: right;\n",
              "    }\n",
              "</style>\n",
              "<table border=\"1\" class=\"dataframe\">\n",
              "  <thead>\n",
              "    <tr style=\"text-align: right;\">\n",
              "      <th></th>\n",
              "      <th></th>\n",
              "      <th>Precision</th>\n",
              "      <th>Recall</th>\n",
              "      <th>Score</th>\n",
              "      <th>ROC AUC</th>\n",
              "      <th>Model</th>\n",
              "    </tr>\n",
              "    <tr>\n",
              "      <th>model names</th>\n",
              "      <th>technique</th>\n",
              "      <th></th>\n",
              "      <th></th>\n",
              "      <th></th>\n",
              "      <th></th>\n",
              "      <th></th>\n",
              "    </tr>\n",
              "  </thead>\n",
              "  <tbody>\n",
              "    <tr>\n",
              "      <th>LR_L2</th>\n",
              "      <th>Engineered</th>\n",
              "      <td>0.186992</td>\n",
              "      <td>0.657143</td>\n",
              "      <td>0.422067</td>\n",
              "      <td>0.679762</td>\n",
              "      <td>LogisticRegression(C=10.0, class_weight='balan...</td>\n",
              "    </tr>\n",
              "    <tr>\n",
              "      <th>LR_L1</th>\n",
              "      <th>Engineered</th>\n",
              "      <td>0.188525</td>\n",
              "      <td>0.657143</td>\n",
              "      <td>0.422834</td>\n",
              "      <td>0.681250</td>\n",
              "      <td>LogisticRegression(class_weight='balanced', ra...</td>\n",
              "    </tr>\n",
              "    <tr>\n",
              "      <th>RF</th>\n",
              "      <th>Engineered</th>\n",
              "      <td>0.333333</td>\n",
              "      <td>0.200000</td>\n",
              "      <td>0.266667</td>\n",
              "      <td>0.579167</td>\n",
              "      <td>(DecisionTreeClassifier(criterion='entropy', m...</td>\n",
              "    </tr>\n",
              "    <tr>\n",
              "      <th>Neural Network</th>\n",
              "      <th>Engineered</th>\n",
              "      <td>0.153846</td>\n",
              "      <td>0.057143</td>\n",
              "      <td>0.105495</td>\n",
              "      <td>0.579167</td>\n",
              "      <td>&lt;keras.engine.sequential.Sequential object at ...</td>\n",
              "    </tr>\n",
              "  </tbody>\n",
              "</table>\n",
              "</div>\n",
              "      <button class=\"colab-df-convert\" onclick=\"convertToInteractive('df-62581c9b-dd00-4672-8cf6-1cbb900edd83')\"\n",
              "              title=\"Convert this dataframe to an interactive table.\"\n",
              "              style=\"display:none;\">\n",
              "        \n",
              "  <svg xmlns=\"http://www.w3.org/2000/svg\" height=\"24px\"viewBox=\"0 0 24 24\"\n",
              "       width=\"24px\">\n",
              "    <path d=\"M0 0h24v24H0V0z\" fill=\"none\"/>\n",
              "    <path d=\"M18.56 5.44l.94 2.06.94-2.06 2.06-.94-2.06-.94-.94-2.06-.94 2.06-2.06.94zm-11 1L8.5 8.5l.94-2.06 2.06-.94-2.06-.94L8.5 2.5l-.94 2.06-2.06.94zm10 10l.94 2.06.94-2.06 2.06-.94-2.06-.94-.94-2.06-.94 2.06-2.06.94z\"/><path d=\"M17.41 7.96l-1.37-1.37c-.4-.4-.92-.59-1.43-.59-.52 0-1.04.2-1.43.59L10.3 9.45l-7.72 7.72c-.78.78-.78 2.05 0 2.83L4 21.41c.39.39.9.59 1.41.59.51 0 1.02-.2 1.41-.59l7.78-7.78 2.81-2.81c.8-.78.8-2.07 0-2.86zM5.41 20L4 18.59l7.72-7.72 1.47 1.35L5.41 20z\"/>\n",
              "  </svg>\n",
              "      </button>\n",
              "      \n",
              "  <style>\n",
              "    .colab-df-container {\n",
              "      display:flex;\n",
              "      flex-wrap:wrap;\n",
              "      gap: 12px;\n",
              "    }\n",
              "\n",
              "    .colab-df-convert {\n",
              "      background-color: #E8F0FE;\n",
              "      border: none;\n",
              "      border-radius: 50%;\n",
              "      cursor: pointer;\n",
              "      display: none;\n",
              "      fill: #1967D2;\n",
              "      height: 32px;\n",
              "      padding: 0 0 0 0;\n",
              "      width: 32px;\n",
              "    }\n",
              "\n",
              "    .colab-df-convert:hover {\n",
              "      background-color: #E2EBFA;\n",
              "      box-shadow: 0px 1px 2px rgba(60, 64, 67, 0.3), 0px 1px 3px 1px rgba(60, 64, 67, 0.15);\n",
              "      fill: #174EA6;\n",
              "    }\n",
              "\n",
              "    [theme=dark] .colab-df-convert {\n",
              "      background-color: #3B4455;\n",
              "      fill: #D2E3FC;\n",
              "    }\n",
              "\n",
              "    [theme=dark] .colab-df-convert:hover {\n",
              "      background-color: #434B5C;\n",
              "      box-shadow: 0px 1px 3px 1px rgba(0, 0, 0, 0.15);\n",
              "      filter: drop-shadow(0px 1px 2px rgba(0, 0, 0, 0.3));\n",
              "      fill: #FFFFFF;\n",
              "    }\n",
              "  </style>\n",
              "\n",
              "      <script>\n",
              "        const buttonEl =\n",
              "          document.querySelector('#df-62581c9b-dd00-4672-8cf6-1cbb900edd83 button.colab-df-convert');\n",
              "        buttonEl.style.display =\n",
              "          google.colab.kernel.accessAllowed ? 'block' : 'none';\n",
              "\n",
              "        async function convertToInteractive(key) {\n",
              "          const element = document.querySelector('#df-62581c9b-dd00-4672-8cf6-1cbb900edd83');\n",
              "          const dataTable =\n",
              "            await google.colab.kernel.invokeFunction('convertToInteractive',\n",
              "                                                     [key], {});\n",
              "          if (!dataTable) return;\n",
              "\n",
              "          const docLinkHtml = 'Like what you see? Visit the ' +\n",
              "            '<a target=\"_blank\" href=https://colab.research.google.com/notebooks/data_table.ipynb>data table notebook</a>'\n",
              "            + ' to learn more about interactive tables.';\n",
              "          element.innerHTML = '';\n",
              "          dataTable['output_type'] = 'display_data';\n",
              "          await google.colab.output.renderOutput(dataTable, element);\n",
              "          const docLink = document.createElement('div');\n",
              "          docLink.innerHTML = docLinkHtml;\n",
              "          element.appendChild(docLink);\n",
              "        }\n",
              "      </script>\n",
              "    </div>\n",
              "  </div>\n",
              "  "
            ],
            "text/plain": [
              "                           Precision    Recall     Score   ROC AUC  \\\n",
              "model names    technique                                             \n",
              "LR_L2          Engineered   0.186992  0.657143  0.422067  0.679762   \n",
              "LR_L1          Engineered   0.188525  0.657143  0.422834  0.681250   \n",
              "RF             Engineered   0.333333  0.200000  0.266667  0.579167   \n",
              "Neural Network Engineered   0.153846  0.057143  0.105495  0.579167   \n",
              "\n",
              "                                                                       Model  \n",
              "model names    technique                                                      \n",
              "LR_L2          Engineered  LogisticRegression(C=10.0, class_weight='balan...  \n",
              "LR_L1          Engineered  LogisticRegression(class_weight='balanced', ra...  \n",
              "RF             Engineered  (DecisionTreeClassifier(criterion='entropy', m...  \n",
              "Neural Network Engineered  <keras.engine.sequential.Sequential object at ...  "
            ]
          },
          "execution_count": 38,
          "metadata": {},
          "output_type": "execute_result"
        }
      ],
      "source": [
        "all_models, history = fit_and_score_model(all_models, 'Engineered', X_train, X_test, y_train, y_test, X_val, y_val, 0.5)\n",
        "all_models.loc[:, 'Engineered', :].head()"
      ]
    },
    {
      "cell_type": "code",
      "execution_count": null,
      "metadata": {
        "colab": {
          "base_uri": "https://localhost:8080/",
          "height": 1000
        },
        "id": "wt0vgHslmxPf",
        "outputId": "eca3468c-c18c-4c3d-d8cf-58382bb71c2b"
      },
      "outputs": [
        {
          "name": "stderr",
          "output_type": "stream",
          "text": [
            "/usr/local/lib/python3.7/dist-packages/sklearn/linear_model/_sag.py:354: ConvergenceWarning: The max_iter was reached which means the coef_ did not converge\n",
            "  ConvergenceWarning,\n",
            "/usr/local/lib/python3.7/dist-packages/sklearn/linear_model/_sag.py:354: ConvergenceWarning: The max_iter was reached which means the coef_ did not converge\n",
            "  ConvergenceWarning,\n",
            "/usr/local/lib/python3.7/dist-packages/sklearn/linear_model/_sag.py:354: ConvergenceWarning: The max_iter was reached which means the coef_ did not converge\n",
            "  ConvergenceWarning,\n",
            "/usr/local/lib/python3.7/dist-packages/sklearn/linear_model/_sag.py:354: ConvergenceWarning: The max_iter was reached which means the coef_ did not converge\n",
            "  ConvergenceWarning,\n",
            "/usr/local/lib/python3.7/dist-packages/sklearn/linear_model/_sag.py:354: ConvergenceWarning: The max_iter was reached which means the coef_ did not converge\n",
            "  ConvergenceWarning,\n",
            "/usr/local/lib/python3.7/dist-packages/sklearn/linear_model/_sag.py:354: ConvergenceWarning: The max_iter was reached which means the coef_ did not converge\n",
            "  ConvergenceWarning,\n",
            "/usr/local/lib/python3.7/dist-packages/sklearn/linear_model/_sag.py:354: ConvergenceWarning: The max_iter was reached which means the coef_ did not converge\n",
            "  ConvergenceWarning,\n",
            "/usr/local/lib/python3.7/dist-packages/sklearn/linear_model/_sag.py:354: ConvergenceWarning: The max_iter was reached which means the coef_ did not converge\n",
            "  ConvergenceWarning,\n",
            "/usr/local/lib/python3.7/dist-packages/sklearn/linear_model/_sag.py:354: ConvergenceWarning: The max_iter was reached which means the coef_ did not converge\n",
            "  ConvergenceWarning,\n",
            "/usr/local/lib/python3.7/dist-packages/sklearn/linear_model/_sag.py:354: ConvergenceWarning: The max_iter was reached which means the coef_ did not converge\n",
            "  ConvergenceWarning,\n",
            "/usr/local/lib/python3.7/dist-packages/sklearn/linear_model/_sag.py:354: ConvergenceWarning: The max_iter was reached which means the coef_ did not converge\n",
            "  ConvergenceWarning,\n",
            "/usr/local/lib/python3.7/dist-packages/sklearn/linear_model/_sag.py:354: ConvergenceWarning: The max_iter was reached which means the coef_ did not converge\n",
            "  ConvergenceWarning,\n",
            "/usr/local/lib/python3.7/dist-packages/sklearn/linear_model/_sag.py:354: ConvergenceWarning: The max_iter was reached which means the coef_ did not converge\n",
            "  ConvergenceWarning,\n",
            "/usr/local/lib/python3.7/dist-packages/sklearn/linear_model/_sag.py:354: ConvergenceWarning: The max_iter was reached which means the coef_ did not converge\n",
            "  ConvergenceWarning,\n",
            "/usr/local/lib/python3.7/dist-packages/sklearn/linear_model/_sag.py:354: ConvergenceWarning: The max_iter was reached which means the coef_ did not converge\n",
            "  ConvergenceWarning,\n",
            "/usr/local/lib/python3.7/dist-packages/sklearn/linear_model/_sag.py:354: ConvergenceWarning: The max_iter was reached which means the coef_ did not converge\n",
            "  ConvergenceWarning,\n",
            "/usr/local/lib/python3.7/dist-packages/sklearn/linear_model/_sag.py:354: ConvergenceWarning: The max_iter was reached which means the coef_ did not converge\n",
            "  ConvergenceWarning,\n",
            "/usr/local/lib/python3.7/dist-packages/sklearn/linear_model/_sag.py:354: ConvergenceWarning: The max_iter was reached which means the coef_ did not converge\n",
            "  ConvergenceWarning,\n",
            "/usr/local/lib/python3.7/dist-packages/sklearn/linear_model/_sag.py:354: ConvergenceWarning: The max_iter was reached which means the coef_ did not converge\n",
            "  ConvergenceWarning,\n",
            "/usr/local/lib/python3.7/dist-packages/sklearn/linear_model/_sag.py:354: ConvergenceWarning: The max_iter was reached which means the coef_ did not converge\n",
            "  ConvergenceWarning,\n",
            "/usr/local/lib/python3.7/dist-packages/sklearn/linear_model/_sag.py:354: ConvergenceWarning: The max_iter was reached which means the coef_ did not converge\n",
            "  ConvergenceWarning,\n",
            "/usr/local/lib/python3.7/dist-packages/sklearn/linear_model/_sag.py:354: ConvergenceWarning: The max_iter was reached which means the coef_ did not converge\n",
            "  ConvergenceWarning,\n",
            "/usr/local/lib/python3.7/dist-packages/sklearn/linear_model/_sag.py:354: ConvergenceWarning: The max_iter was reached which means the coef_ did not converge\n",
            "  ConvergenceWarning,\n",
            "/usr/local/lib/python3.7/dist-packages/sklearn/linear_model/_sag.py:354: ConvergenceWarning: The max_iter was reached which means the coef_ did not converge\n",
            "  ConvergenceWarning,\n",
            "/usr/local/lib/python3.7/dist-packages/sklearn/linear_model/_sag.py:354: ConvergenceWarning: The max_iter was reached which means the coef_ did not converge\n",
            "  ConvergenceWarning,\n",
            "/usr/local/lib/python3.7/dist-packages/sklearn/linear_model/_sag.py:354: ConvergenceWarning: The max_iter was reached which means the coef_ did not converge\n",
            "  ConvergenceWarning,\n",
            "/usr/local/lib/python3.7/dist-packages/sklearn/linear_model/_sag.py:354: ConvergenceWarning: The max_iter was reached which means the coef_ did not converge\n",
            "  ConvergenceWarning,\n",
            "/usr/local/lib/python3.7/dist-packages/sklearn/linear_model/_sag.py:354: ConvergenceWarning: The max_iter was reached which means the coef_ did not converge\n",
            "  ConvergenceWarning,\n",
            "/usr/local/lib/python3.7/dist-packages/sklearn/linear_model/_sag.py:354: ConvergenceWarning: The max_iter was reached which means the coef_ did not converge\n",
            "  ConvergenceWarning,\n",
            "/usr/local/lib/python3.7/dist-packages/sklearn/linear_model/_sag.py:354: ConvergenceWarning: The max_iter was reached which means the coef_ did not converge\n",
            "  ConvergenceWarning,\n",
            "/usr/local/lib/python3.7/dist-packages/sklearn/linear_model/_sag.py:354: ConvergenceWarning: The max_iter was reached which means the coef_ did not converge\n",
            "  ConvergenceWarning,\n",
            "/usr/local/lib/python3.7/dist-packages/sklearn/linear_model/_sag.py:354: ConvergenceWarning: The max_iter was reached which means the coef_ did not converge\n",
            "  ConvergenceWarning,\n",
            "/usr/local/lib/python3.7/dist-packages/sklearn/linear_model/_sag.py:354: ConvergenceWarning: The max_iter was reached which means the coef_ did not converge\n",
            "  ConvergenceWarning,\n",
            "/usr/local/lib/python3.7/dist-packages/sklearn/linear_model/_sag.py:354: ConvergenceWarning: The max_iter was reached which means the coef_ did not converge\n",
            "  ConvergenceWarning,\n",
            "/usr/local/lib/python3.7/dist-packages/sklearn/linear_model/_sag.py:354: ConvergenceWarning: The max_iter was reached which means the coef_ did not converge\n",
            "  ConvergenceWarning,\n",
            "/usr/local/lib/python3.7/dist-packages/sklearn/linear_model/_sag.py:354: ConvergenceWarning: The max_iter was reached which means the coef_ did not converge\n",
            "  ConvergenceWarning,\n",
            "/usr/local/lib/python3.7/dist-packages/sklearn/linear_model/_sag.py:354: ConvergenceWarning: The max_iter was reached which means the coef_ did not converge\n",
            "  ConvergenceWarning,\n",
            "/usr/local/lib/python3.7/dist-packages/sklearn/linear_model/_sag.py:354: ConvergenceWarning: The max_iter was reached which means the coef_ did not converge\n",
            "  ConvergenceWarning,\n",
            "/usr/local/lib/python3.7/dist-packages/sklearn/linear_model/_sag.py:354: ConvergenceWarning: The max_iter was reached which means the coef_ did not converge\n",
            "  ConvergenceWarning,\n",
            "/usr/local/lib/python3.7/dist-packages/sklearn/linear_model/_sag.py:354: ConvergenceWarning: The max_iter was reached which means the coef_ did not converge\n",
            "  ConvergenceWarning,\n",
            "/usr/local/lib/python3.7/dist-packages/sklearn/linear_model/_sag.py:354: ConvergenceWarning: The max_iter was reached which means the coef_ did not converge\n",
            "  ConvergenceWarning,\n",
            "/usr/local/lib/python3.7/dist-packages/sklearn/linear_model/_sag.py:354: ConvergenceWarning: The max_iter was reached which means the coef_ did not converge\n",
            "  ConvergenceWarning,\n",
            "/usr/local/lib/python3.7/dist-packages/sklearn/linear_model/_sag.py:354: ConvergenceWarning: The max_iter was reached which means the coef_ did not converge\n",
            "  ConvergenceWarning,\n",
            "/usr/local/lib/python3.7/dist-packages/sklearn/linear_model/_sag.py:354: ConvergenceWarning: The max_iter was reached which means the coef_ did not converge\n",
            "  ConvergenceWarning,\n",
            "/usr/local/lib/python3.7/dist-packages/sklearn/linear_model/_sag.py:354: ConvergenceWarning: The max_iter was reached which means the coef_ did not converge\n",
            "  ConvergenceWarning,\n",
            "/usr/local/lib/python3.7/dist-packages/sklearn/linear_model/_sag.py:354: ConvergenceWarning: The max_iter was reached which means the coef_ did not converge\n",
            "  ConvergenceWarning,\n",
            "/usr/local/lib/python3.7/dist-packages/sklearn/linear_model/_sag.py:354: ConvergenceWarning: The max_iter was reached which means the coef_ did not converge\n",
            "  ConvergenceWarning,\n",
            "/usr/local/lib/python3.7/dist-packages/sklearn/linear_model/_sag.py:354: ConvergenceWarning: The max_iter was reached which means the coef_ did not converge\n",
            "  ConvergenceWarning,\n",
            "/usr/local/lib/python3.7/dist-packages/sklearn/linear_model/_sag.py:354: ConvergenceWarning: The max_iter was reached which means the coef_ did not converge\n",
            "  ConvergenceWarning,\n",
            "/usr/local/lib/python3.7/dist-packages/sklearn/linear_model/_sag.py:354: ConvergenceWarning: The max_iter was reached which means the coef_ did not converge\n",
            "  ConvergenceWarning,\n",
            "/usr/local/lib/python3.7/dist-packages/sklearn/linear_model/_sag.py:354: ConvergenceWarning: The max_iter was reached which means the coef_ did not converge\n",
            "  ConvergenceWarning,\n",
            "/usr/local/lib/python3.7/dist-packages/sklearn/linear_model/_sag.py:354: ConvergenceWarning: The max_iter was reached which means the coef_ did not converge\n",
            "  ConvergenceWarning,\n",
            "/usr/local/lib/python3.7/dist-packages/sklearn/linear_model/_sag.py:354: ConvergenceWarning: The max_iter was reached which means the coef_ did not converge\n",
            "  ConvergenceWarning,\n",
            "/usr/local/lib/python3.7/dist-packages/sklearn/linear_model/_sag.py:354: ConvergenceWarning: The max_iter was reached which means the coef_ did not converge\n",
            "  ConvergenceWarning,\n",
            "/usr/local/lib/python3.7/dist-packages/sklearn/linear_model/_sag.py:354: ConvergenceWarning: The max_iter was reached which means the coef_ did not converge\n",
            "  ConvergenceWarning,\n",
            "/usr/local/lib/python3.7/dist-packages/sklearn/linear_model/_sag.py:354: ConvergenceWarning: The max_iter was reached which means the coef_ did not converge\n",
            "  ConvergenceWarning,\n",
            "/usr/local/lib/python3.7/dist-packages/sklearn/linear_model/_sag.py:354: ConvergenceWarning: The max_iter was reached which means the coef_ did not converge\n",
            "  ConvergenceWarning,\n",
            "/usr/local/lib/python3.7/dist-packages/sklearn/linear_model/_sag.py:354: ConvergenceWarning: The max_iter was reached which means the coef_ did not converge\n",
            "  ConvergenceWarning,\n",
            "/usr/local/lib/python3.7/dist-packages/sklearn/linear_model/_sag.py:354: ConvergenceWarning: The max_iter was reached which means the coef_ did not converge\n",
            "  ConvergenceWarning,\n",
            "/usr/local/lib/python3.7/dist-packages/sklearn/linear_model/_sag.py:354: ConvergenceWarning: The max_iter was reached which means the coef_ did not converge\n",
            "  ConvergenceWarning,\n",
            "/usr/local/lib/python3.7/dist-packages/sklearn/linear_model/_sag.py:354: ConvergenceWarning: The max_iter was reached which means the coef_ did not converge\n",
            "  ConvergenceWarning,\n",
            "/usr/local/lib/python3.7/dist-packages/sklearn/linear_model/_sag.py:354: ConvergenceWarning: The max_iter was reached which means the coef_ did not converge\n",
            "  ConvergenceWarning,\n",
            "/usr/local/lib/python3.7/dist-packages/sklearn/linear_model/_sag.py:354: ConvergenceWarning: The max_iter was reached which means the coef_ did not converge\n",
            "  ConvergenceWarning,\n",
            "/usr/local/lib/python3.7/dist-packages/sklearn/linear_model/_sag.py:354: ConvergenceWarning: The max_iter was reached which means the coef_ did not converge\n",
            "  ConvergenceWarning,\n",
            "/usr/local/lib/python3.7/dist-packages/sklearn/linear_model/_sag.py:354: ConvergenceWarning: The max_iter was reached which means the coef_ did not converge\n",
            "  ConvergenceWarning,\n",
            "/usr/local/lib/python3.7/dist-packages/sklearn/linear_model/_sag.py:354: ConvergenceWarning: The max_iter was reached which means the coef_ did not converge\n",
            "  ConvergenceWarning,\n",
            "/usr/local/lib/python3.7/dist-packages/sklearn/linear_model/_sag.py:354: ConvergenceWarning: The max_iter was reached which means the coef_ did not converge\n",
            "  ConvergenceWarning,\n",
            "/usr/local/lib/python3.7/dist-packages/sklearn/linear_model/_sag.py:354: ConvergenceWarning: The max_iter was reached which means the coef_ did not converge\n",
            "  ConvergenceWarning,\n",
            "/usr/local/lib/python3.7/dist-packages/sklearn/linear_model/_sag.py:354: ConvergenceWarning: The max_iter was reached which means the coef_ did not converge\n",
            "  ConvergenceWarning,\n",
            "/usr/local/lib/python3.7/dist-packages/sklearn/linear_model/_sag.py:354: ConvergenceWarning: The max_iter was reached which means the coef_ did not converge\n",
            "  ConvergenceWarning,\n",
            "/usr/local/lib/python3.7/dist-packages/sklearn/linear_model/_sag.py:354: ConvergenceWarning: The max_iter was reached which means the coef_ did not converge\n",
            "  ConvergenceWarning,\n",
            "/usr/local/lib/python3.7/dist-packages/sklearn/linear_model/_sag.py:354: ConvergenceWarning: The max_iter was reached which means the coef_ did not converge\n",
            "  ConvergenceWarning,\n",
            "/usr/local/lib/python3.7/dist-packages/sklearn/linear_model/_sag.py:354: ConvergenceWarning: The max_iter was reached which means the coef_ did not converge\n",
            "  ConvergenceWarning,\n",
            "/usr/local/lib/python3.7/dist-packages/sklearn/linear_model/_sag.py:354: ConvergenceWarning: The max_iter was reached which means the coef_ did not converge\n",
            "  ConvergenceWarning,\n",
            "/usr/local/lib/python3.7/dist-packages/sklearn/linear_model/_sag.py:354: ConvergenceWarning: The max_iter was reached which means the coef_ did not converge\n",
            "  ConvergenceWarning,\n",
            "/usr/local/lib/python3.7/dist-packages/sklearn/linear_model/_sag.py:354: ConvergenceWarning: The max_iter was reached which means the coef_ did not converge\n",
            "  ConvergenceWarning,\n",
            "/usr/local/lib/python3.7/dist-packages/sklearn/linear_model/_sag.py:354: ConvergenceWarning: The max_iter was reached which means the coef_ did not converge\n",
            "  ConvergenceWarning,\n",
            "/usr/local/lib/python3.7/dist-packages/sklearn/linear_model/_sag.py:354: ConvergenceWarning: The max_iter was reached which means the coef_ did not converge\n",
            "  ConvergenceWarning,\n",
            "/usr/local/lib/python3.7/dist-packages/sklearn/linear_model/_sag.py:354: ConvergenceWarning: The max_iter was reached which means the coef_ did not converge\n",
            "  ConvergenceWarning,\n",
            "/usr/local/lib/python3.7/dist-packages/sklearn/linear_model/_sag.py:354: ConvergenceWarning: The max_iter was reached which means the coef_ did not converge\n",
            "  ConvergenceWarning,\n",
            "/usr/local/lib/python3.7/dist-packages/sklearn/linear_model/_sag.py:354: ConvergenceWarning: The max_iter was reached which means the coef_ did not converge\n",
            "  ConvergenceWarning,\n",
            "/usr/local/lib/python3.7/dist-packages/sklearn/linear_model/_sag.py:354: ConvergenceWarning: The max_iter was reached which means the coef_ did not converge\n",
            "  ConvergenceWarning,\n",
            "/usr/local/lib/python3.7/dist-packages/sklearn/linear_model/_sag.py:354: ConvergenceWarning: The max_iter was reached which means the coef_ did not converge\n",
            "  ConvergenceWarning,\n",
            "/usr/local/lib/python3.7/dist-packages/sklearn/linear_model/_sag.py:354: ConvergenceWarning: The max_iter was reached which means the coef_ did not converge\n",
            "  ConvergenceWarning,\n",
            "/usr/local/lib/python3.7/dist-packages/sklearn/linear_model/_sag.py:354: ConvergenceWarning: The max_iter was reached which means the coef_ did not converge\n",
            "  ConvergenceWarning,\n",
            "/usr/local/lib/python3.7/dist-packages/sklearn/linear_model/_sag.py:354: ConvergenceWarning: The max_iter was reached which means the coef_ did not converge\n",
            "  ConvergenceWarning,\n",
            "/usr/local/lib/python3.7/dist-packages/sklearn/linear_model/_sag.py:354: ConvergenceWarning: The max_iter was reached which means the coef_ did not converge\n",
            "  ConvergenceWarning,\n",
            "/usr/local/lib/python3.7/dist-packages/sklearn/linear_model/_sag.py:354: ConvergenceWarning: The max_iter was reached which means the coef_ did not converge\n",
            "  ConvergenceWarning,\n",
            "/usr/local/lib/python3.7/dist-packages/sklearn/linear_model/_sag.py:354: ConvergenceWarning: The max_iter was reached which means the coef_ did not converge\n",
            "  ConvergenceWarning,\n",
            "/usr/local/lib/python3.7/dist-packages/sklearn/linear_model/_sag.py:354: ConvergenceWarning: The max_iter was reached which means the coef_ did not converge\n",
            "  ConvergenceWarning,\n",
            "/usr/local/lib/python3.7/dist-packages/sklearn/linear_model/_sag.py:354: ConvergenceWarning: The max_iter was reached which means the coef_ did not converge\n",
            "  ConvergenceWarning,\n",
            "/usr/local/lib/python3.7/dist-packages/sklearn/linear_model/_sag.py:354: ConvergenceWarning: The max_iter was reached which means the coef_ did not converge\n",
            "  ConvergenceWarning,\n",
            "/usr/local/lib/python3.7/dist-packages/sklearn/linear_model/_sag.py:354: ConvergenceWarning: The max_iter was reached which means the coef_ did not converge\n",
            "  ConvergenceWarning,\n",
            "/usr/local/lib/python3.7/dist-packages/sklearn/linear_model/_sag.py:354: ConvergenceWarning: The max_iter was reached which means the coef_ did not converge\n",
            "  ConvergenceWarning,\n",
            "/usr/local/lib/python3.7/dist-packages/sklearn/linear_model/_sag.py:354: ConvergenceWarning: The max_iter was reached which means the coef_ did not converge\n",
            "  ConvergenceWarning,\n",
            "/usr/local/lib/python3.7/dist-packages/sklearn/linear_model/_sag.py:354: ConvergenceWarning: The max_iter was reached which means the coef_ did not converge\n",
            "  ConvergenceWarning,\n",
            "/usr/local/lib/python3.7/dist-packages/sklearn/linear_model/_sag.py:354: ConvergenceWarning: The max_iter was reached which means the coef_ did not converge\n",
            "  ConvergenceWarning,\n",
            "/usr/local/lib/python3.7/dist-packages/sklearn/linear_model/_sag.py:354: ConvergenceWarning: The max_iter was reached which means the coef_ did not converge\n",
            "  ConvergenceWarning,\n",
            "/usr/local/lib/python3.7/dist-packages/sklearn/linear_model/_sag.py:354: ConvergenceWarning: The max_iter was reached which means the coef_ did not converge\n",
            "  ConvergenceWarning,\n",
            "/usr/local/lib/python3.7/dist-packages/sklearn/linear_model/_sag.py:354: ConvergenceWarning: The max_iter was reached which means the coef_ did not converge\n",
            "  ConvergenceWarning,\n"
          ]
        },
        {
          "data": {
            "image/png": "[encoded data removed]",
            "text/plain": [
              "<Figure size 432x288 with 1 Axes>"
            ]
          },
          "metadata": {},
          "output_type": "display_data"
        },
        {
          "data": {
            "image/png": "[encoded data removed]",
            "text/plain": [
              "<Figure size 432x288 with 1 Axes>"
            ]
          },
          "metadata": {},
          "output_type": "display_data"
        },
        {
          "data": {
            "image/png": "[encoded data removed]",
            "text/plain": [
              "<Figure size 432x288 with 1 Axes>"
            ]
          },
          "metadata": {},
          "output_type": "display_data"
        },
        {
          "data": {
            "image/png": "[encoded data removed]",
            "text/plain": [
              "<Figure size 432x288 with 1 Axes>"
            ]
          },
          "metadata": {},
          "output_type": "display_data"
        }
      ],
      "source": [
        "get_loss_curves(X_train, y_train, y_test)"
      ]
    },
    {
      "cell_type": "markdown",
      "metadata": {
        "id": "YI0AvOsR-1JV"
      },
      "source": [
        "# Appendix (Grid Search)"
      ]
    },
    {
      "cell_type": "code",
      "execution_count": null,
      "metadata": {
        "id": "laAPvqC0-2bg"
      },
      "outputs": [],
      "source": [
        "\"\"\"Remember this is training a CART tree for every combination of parameters\n",
        "in the list params_to_search... this might take 10 to 20 seconds to run :)\"\"\"\n",
        "\n",
        "# Dictionary of parameters to search\n",
        "params_to_search = {\n",
        "    'criterion': ['gini', 'entropy'],\n",
        "    'min_samples_leaf': [1, 2, 5, 10, 20],\n",
        "    'max_features': ['auto', 'log2', None],\n",
        "    'class_weight': ['balanced', None],\n",
        "}\n",
        "\n",
        "# Initialize a model\n",
        "mdl = DecisionTreeClassifier(random_state=0)\n",
        "# Initialize the grid search\n",
        "optimized_dt = GridSearchCV(mdl, params_to_search, scoring = ['recall', 'precision'], refit=False, cv=5)\n",
        "# Run the grid search\n",
        "optimized_dt.fit(X_train, y_train)\n",
        "\n",
        "cv_result_df = pd.DataFrame(optimized_dt.cv_results_)\n",
        "cv_result_df['mean_test_score'] = (cv_result_df['mean_test_recall'] + cv_result_df['mean_test_precision'])/2\n",
        "highest_mean_score_index = cv_result_df.mean_test_score.argmax()\n",
        "\n",
        "# Get the average precision from the testing sets in cross-validation\n",
        "mean_test_precision = optimized_dt.cv_results_['mean_test_precision']\n",
        "mean_test_recall = optimized_dt.cv_results_['mean_test_recall']\n",
        "\n",
        "print(f'The best model has a score of {cv_result_df.mean_test_score.max():.3f}')\n",
        "print(f'The best model has the parameters {cv_result_df.params.loc[highest_mean_score_index]}')\n",
        "\n",
        "# Find the model with the highest sum of precision and recall\n",
        "params = optimized_dt.cv_results_['params']\n",
        "best_model_params_index = (mean_test_precision + mean_test_recall).argmax()\n",
        "best_model_params = params[best_model_params_index]\n",
        "\n",
        "# Initialize the model \n",
        "best_model = DecisionTreeClassifier(random_state=0, **best_model_params)\n",
        "'''Note, the ** from above allows us to use a dictionary to set \n",
        "the parameters of a function'''\n",
        "\n",
        "# # Fit the model on the ENTIRE training set \n",
        "best_model.fit(X_train, y_train)\n",
        "\n",
        "# Evaluate model precision, recall, and score\n",
        "model_precision = precision_score(y_test, best_model.predict(X_test))  # evaluate precision on test set\n",
        "model_recall = recall_score(y_test, best_model.predict(X_test))  # evaluate recall on test set\n",
        "model_score = (model_precision + model_recall) / 2\n",
        "\n",
        "# Add model scores to all_models data frame\n",
        "all_models.loc['CART', 'Grid Search'] = (model_precision, model_recall, model_score, best_model)\n",
        "all_models\n",
        "\n",
        "\n",
        "\"\"\"Remember this is training a CART tree for every combination of parameters\n",
        "in the list params_to_search... this might take 10 to 20 seconds to run :)\"\"\"\n",
        "\n",
        "# Dictionary of parameters to search\n",
        "params_to_search = {\n",
        "    'criterion': ['gini', 'entropy'],\n",
        "    'min_samples_leaf': [1, 2, 5, 10, 20],\n",
        "    'max_features': ['auto', 'log2', None],\n",
        "    'class_weight': ['balanced', None],\n",
        "}\n",
        "\n",
        "\n",
        "\n",
        "\n"
      ]
    },
    {
      "cell_type": "code",
      "execution_count": null,
      "metadata": {
        "id": "XWUS-peoTSag"
      },
      "outputs": [],
      "source": [
        "from sklearn.preprocessing import StandardScaler\n",
        "# Initialize data frame for scaled data\n",
        "X_train_standardized = X_train.copy()\n",
        "X_out_of_sample_standardized = X_test.copy()\n",
        "\n",
        "# Define scaling function\n",
        "scaler = StandardScaler()\n",
        "\n",
        "'''Use scaler to standardize your data. You'll need to fit scaler with your\n",
        "training data (use the fit method) and standardize your training and \n",
        "out-of-sample data (use the transform method)'''\n",
        "# -------------------------------------------------------------------------\n",
        "\n",
        "# Scale the X features      \n",
        "scaler.fit(X_train)\n",
        "X_train_standardized.loc[:]  = scaler.transform(X_train)\n",
        "X_out_of_sample_standardized.loc[:] = scaler.transform(X_test)\n",
        "\n",
        "params_to_search = {\n",
        "    'C' : np.logspace(-4, 4, 20),\n",
        "    'solver' : ['liblinear', 'saga'],\n",
        "    'max_iter' : [1, 10, 100, 1000, 250, 2500, 5000]\n",
        "    }\n",
        "\n",
        "# Initialize a model\n",
        "mdl = LogisticRegression(penalty=\"l1\")\n",
        "# Initialize the grid search\n",
        "optimized_dt = GridSearchCV(mdl, params_to_search, refit=False, cv=5, verbose=0)\n",
        "# Run the grid search\n",
        "optimized_dt.fit(X_train_standardized, y_train)\n",
        "\n",
        "print(optimized_dt.best_params_)"
      ]
    }
  ],
  "metadata": {
    "colab": {
      "provenance": [],
      "include_colab_link": true
    },
    "kernelspec": {
      "display_name": "Python 3",
      "name": "python3"
    },
    "language_info": {
      "name": "python"
    }
  },
  "nbformat": 4,
  "nbformat_minor": 0
}