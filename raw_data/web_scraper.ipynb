{
  "cells": [
    {
      "attachments": {},
      "cell_type": "markdown",
      "metadata": {
        "id": "eIDD8TtqAUay"
      },
      "source": [
        "# Scraping data from Transfermarkt\n",
        "The following section outlines the steps taken to scrape all necessary data from the Transfermarkt website."
      ]
    },
    {
      "attachments": {},
      "cell_type": "markdown",
      "metadata": {
        "id": "O9V0qu7e_RBl"
      },
      "source": [
        "### Import all dependencies\n",
        "We must first import the necessary Python packages and libraries needed for the web scraping process."
      ]
    },
    {
      "cell_type": "code",
      "execution_count": 1,
      "metadata": {
        "id": "Kx13pyDt-qVm"
      },
      "outputs": [],
      "source": [
        "import re\n",
        "import requests\n",
        "from bs4 import BeautifulSoup as bs\n",
        "import pandas as pd\n",
        "\n",
        "pd.set_option('notebook_repr_html', True)"
      ]
    },
    {
      "attachments": {},
      "cell_type": "markdown",
      "metadata": {
        "id": "Pq35KviC_Whg"
      },
      "source": [
        "Now let's import the necessary HTTP request parameters for scraping from Transfermarkt. \n",
        "\n",
        "**NOTE: This will work regardless of your computer specifications.**"
      ]
    },
    {
      "cell_type": "code",
      "execution_count": null,
      "metadata": {
        "id": "_nZeQjOcA8tp"
      },
      "outputs": [],
      "source": [
        "headers = {'User-Agent': 'Mozilla/5.0 (Macintosh; Intel Mac OS X 10_11_6) AppleWebKit/537.36 (KHTML, like Gecko) Chrome/61.0.3163.100 Safari/537.36'}\n",
        "league = ['GB1','FR1','L1','IT1','ES1']\n",
        "#league = ['MLS1', 'PO1', 'NL1', 'GB2', 'BRA1', 'MEX1']\n",
        "league_page = \"https://www.transfermarkt.com/jumplist/startseite/wettbewerb/\""
      ]
    },
    {
      "attachments": {},
      "cell_type": "markdown",
      "metadata": {
        "id": "lNHh2Di9NvVm"
      },
      "source": [
        "The 'league' array specifies the unique ID's for the soccer leagues that are used for GET requests on the Transfermarkt website. \n",
        "\n",
        "We have chosen to only include Europe's **top 5 leagues** based on [country coefficient](https://www.uefa.com/nationalassociations/uefarankings/country/#/yr/2023)."
      ]
    },
    {
      "attachments": {},
      "cell_type": "markdown",
      "metadata": {
        "id": "7zfonI_fIciK"
      },
      "source": [
        "### Retrieving club and player information\n",
        "\n",
        "Below you will find two functions to return football clubs and information on individual players within each club."
      ]
    },
    {
      "cell_type": "code",
      "execution_count": null,
      "metadata": {
        "id": "cwi4xTcWIhh5"
      },
      "outputs": [],
      "source": [
        "def get_club_details(tr_tag):\n",
        "    club = tr_tag.find_all('a')[0]\n",
        "    club_link = club['href']\n",
        "    club_name = club['title']\n",
        "    return tuple((club_link, club_name))\n",
        "\n",
        "def get_players_club(player):\n",
        "    player_link = player['href']\n",
        "    player_name = player.get_text()\n",
        "    return tuple((player_link, player_name, club_name))"
      ]
    },
    {
      "attachments": {},
      "cell_type": "markdown",
      "metadata": {
        "id": "Zozr7X4Tnskp"
      },
      "source": [
        "#### Step 1: Retrieve all clubs from specified leagues in 'league' array."
      ]
    },
    {
      "cell_type": "code",
      "execution_count": null,
      "metadata": {
        "colab": {
          "base_uri": "https://localhost:8080/"
        },
        "id": "vBqoHo0AcMbU",
        "outputId": "2f5e8b3f-08c0-4432-93d9-7eba02c0e7b2"
      },
      "outputs": [
        {
          "name": "stdout",
          "output_type": "stream",
          "text": [
            "All the clubs were uploaded\n"
          ]
        }
      ],
      "source": [
        "clubs_list = []\n",
        "for league_id in league:\n",
        "    page = requests.get(league_page + league_id,headers = headers)\n",
        "    soup = bs(page.content, 'html.parser')\n",
        "    tbody_container = soup.find_all('tbody')[1]\n",
        "    tr_container = tbody_container.find_all('tr')\n",
        "    for tr_tag in tr_container :\n",
        "        clubs_list.append(get_club_details(tr_tag))\n",
        "print('All the clubs were uploaded')"
      ]
    },
    {
      "attachments": {},
      "cell_type": "markdown",
      "metadata": {
        "id": "p21EQCxedUzW"
      },
      "source": [
        "#### Step 2: Retrieve all basic player information for each player within the specified clubs."
      ]
    },
    {
      "cell_type": "code",
      "execution_count": null,
      "metadata": {
        "colab": {
          "base_uri": "https://localhost:8080/"
        },
        "id": "yy9KM5IxJPop",
        "outputId": "4ceb9fa1-92b2-4138-f594-187e433675bd"
      },
      "outputs": [
        {
          "name": "stdout",
          "output_type": "stream",
          "text": [
            "All the players were uploaded\n"
          ]
        }
      ],
      "source": [
        "url_site = \"https://www.transfermarkt.com\"\n",
        "player_list = []\n",
        "for club_link,club_name in clubs_list:\n",
        "    page = requests.get(url_site + club_link,headers = headers)\n",
        "    soup = bs(page.content, 'html.parser')\n",
        "    tbody_container = soup.find_all('tbody')[1]\n",
        "    players_td = tbody_container.find_all('td', {\"class\":\"hauptlink\"})\n",
        "    for p in players_td[::2]:\n",
        "        player = p.find_all('a')[0]\n",
        "        player_list.append(get_players_club(player))\n",
        "print('All the players were uploaded')"
      ]
    },
    {
      "attachments": {},
      "cell_type": "markdown",
      "metadata": {
        "id": "79xNqflYdquO"
      },
      "source": [
        "The function below retrieves more in-depth information on each player."
      ]
    },
    {
      "cell_type": "code",
      "execution_count": null,
      "metadata": {
        "id": "YL6sUd-TTxcx"
      },
      "outputs": [],
      "source": [
        "from ast import Pass\n",
        "def get_profil_detail():\n",
        "    return tuple((link.split(\"/\")[4],name,club,link.split(\"/\")[1]))"
      ]
    },
    {
      "attachments": {},
      "cell_type": "markdown",
      "metadata": {
        "id": "7XV42ul9elTe"
      },
      "source": [
        "#### Step 3: Retrieve in-depth information for each player within the specified clubs."
      ]
    },
    {
      "cell_type": "code",
      "execution_count": null,
      "metadata": {
        "id": "sFZGfwFlrV8c"
      },
      "outputs": [],
      "source": [
        "counter = 1\n",
        "total = str(len(player_list))\n",
        "player_details = []\n",
        "for link,name,club in player_list:\n",
        "      player_details.append(get_profil_detail())\n",
        "      count = str(counter)\n",
        "      print(f\"Player {counter} out of {total} uploaded.\")\n",
        "      counter += 1\n",
        "print(\"Basic player details were uploaded\")"
      ]
    },
    {
      "cell_type": "code",
      "execution_count": null,
      "metadata": {
        "colab": {
          "base_uri": "https://localhost:8080/"
        },
        "id": "dFCborNNuGQ3",
        "outputId": "6658ea6f-0603-4fb3-c1c2-0a6e66d631ee"
      },
      "outputs": [
        {
          "data": {
            "text/plain": [
              "('863033', 'Márcio Silva', 'Coritiba Foot Ball Club', 'marcio-silva')"
            ]
          },
          "execution_count": 29,
          "metadata": {},
          "output_type": "execute_result"
        }
      ],
      "source": [
        "player_details[2856]"
      ]
    },
    {
      "attachments": {},
      "cell_type": "markdown",
      "metadata": {
        "id": "Nm44XO-IewTr"
      },
      "source": [
        "The function below retrieves information on past appearance and injury history."
      ]
    },
    {
      "cell_type": "code",
      "execution_count": null,
      "metadata": {
        "id": "vZI__krTrbUi"
      },
      "outputs": [],
      "source": [
        "def get_injuries_details(soup):\n",
        "\n",
        "    inj_his = soup.find_all('span', {\"class\":\"empty\"})\n",
        "    if inj_his:\n",
        "        if (inj_his[0].get_text() == 'No entries available'):\n",
        "            return []\n",
        "    try:\n",
        "      tbody_container = soup.find_all('tbody')[0]\n",
        "    except:\n",
        "      return []\n",
        "      \n",
        "    tr_container = tbody_container.find_all('tr')\n",
        "    injuries_list = []\n",
        "    for tr_tag in tr_container:\n",
        "        season = tr_tag.find_all('td')[0].get_text()\n",
        "        injury = tr_tag.find_all('td')[1].get_text()\n",
        "        start_date = tr_tag.find_all('td')[2].get_text()\n",
        "        end_date = tr_tag.find_all('td')[3].get_text()\n",
        "        time_out = tr_tag.find_all('td')[4]\n",
        "        games_missed = tr_tag.find_all('td')[5].get_text() \n",
        "        games_missed = 0 if games_missed == '-' else games_missed\n",
        "        injuries_list.append(tuple((season,injury,start_date,end_date,time_out.get_text().split()[0],games_missed)))\n",
        "    return injuries_list"
      ]
    },
    {
      "attachments": {},
      "cell_type": "markdown",
      "metadata": {
        "id": "hUKvP5x3fHZ-"
      },
      "source": [
        "#### Step 4: Retrieve past appearance and injury history for each player within the specified clubs."
      ]
    },
    {
      "cell_type": "code",
      "execution_count": null,
      "metadata": {
        "id": "FN05eJOGs-j8"
      },
      "outputs": [],
      "source": [
        "player_list = []\n",
        "total_players = len(player_details)\n",
        "counter = 1\n",
        "removed = 0\n",
        "\n",
        "for Id,name,club,name_link in player_details:\n",
        "    headers = {'User-Agent': 'Mozilla/5.0 (Macintosh; Intel Mac OS X 10_11_6) AppleWebKit/537.36 (KHTML, like Gecko) Chrome/61.0.3163.100 Safari/537.36'}\n",
        "\n",
        "    page1 = requests.get(\"https://www.transfermarkt.com/{}/verletzungen/spieler/{}\".format(name_link,Id),headers=headers)\n",
        "    soup = bs(page1.content, 'html.parser')\n",
        "    injury_details = get_injuries_details(soup)\n",
        "\n",
        "    print(f'Player {counter} out of {total_players} uploaded.')\n",
        "    counter+=1\n",
        "\n",
        "    player_list.append(tuple((Id,name,club,injury_details)))\n",
        "\n",
        "print('Player appearance and injury details were uploaded')\n",
        "df_player = pd.DataFrame(player_list)\n",
        "df_player.to_csv('transfermarkt_data_2022.csv')"
      ]
    },
    {
      "cell_type": "code",
      "execution_count": null,
      "metadata": {
        "colab": {
          "base_uri": "https://localhost:8080/",
          "height": 424
        },
        "id": "M5VUdxTtkHG0",
        "outputId": "301e714a-d7ba-4a60-9889-8ce9154491a5"
      },
      "outputs": [
        {
          "data": {
            "text/html": [
              "\n",
              "  <div id=\"df-abd41a19-92f1-45c5-99da-0a33f75aa325\">\n",
              "    <div class=\"colab-df-container\">\n",
              "      <div>\n",
              "<style scoped>\n",
              "    .dataframe tbody tr th:only-of-type {\n",
              "        vertical-align: middle;\n",
              "    }\n",
              "\n",
              "    .dataframe tbody tr th {\n",
              "        vertical-align: top;\n",
              "    }\n",
              "\n",
              "    .dataframe thead th {\n",
              "        text-align: right;\n",
              "    }\n",
              "</style>\n",
              "<table border=\"1\" class=\"dataframe\">\n",
              "  <thead>\n",
              "    <tr style=\"text-align: right;\">\n",
              "      <th></th>\n",
              "      <th>0</th>\n",
              "      <th>1</th>\n",
              "      <th>2</th>\n",
              "      <th>3</th>\n",
              "    </tr>\n",
              "  </thead>\n",
              "  <tbody>\n",
              "    <tr>\n",
              "      <th>0</th>\n",
              "      <td>126630</td>\n",
              "      <td>Sean Johnson</td>\n",
              "      <td>New York City FC</td>\n",
              "      <td>[(18/19, Shoulder Injury, Aug 1, 2018, Aug 15,...</td>\n",
              "    </tr>\n",
              "    <tr>\n",
              "      <th>1</th>\n",
              "      <td>644782</td>\n",
              "      <td>Luis Barraza</td>\n",
              "      <td>New York City FC</td>\n",
              "      <td>[]</td>\n",
              "    </tr>\n",
              "    <tr>\n",
              "      <th>2</th>\n",
              "      <td>297422</td>\n",
              "      <td>Cody Mizell</td>\n",
              "      <td>New York City FC</td>\n",
              "      <td>[]</td>\n",
              "    </tr>\n",
              "    <tr>\n",
              "      <th>3</th>\n",
              "      <td>277318</td>\n",
              "      <td>Thiago Martins</td>\n",
              "      <td>New York City FC</td>\n",
              "      <td>[(21/22, Bruise, Aug 20, 2021, Aug 29, 2021, 9...</td>\n",
              "    </tr>\n",
              "    <tr>\n",
              "      <th>4</th>\n",
              "      <td>147462</td>\n",
              "      <td>Alexander Callens</td>\n",
              "      <td>New York City FC</td>\n",
              "      <td>[(18/19, Muscle Injury, Apr 1, 2019, Apr 18, 2...</td>\n",
              "    </tr>\n",
              "    <tr>\n",
              "      <th>...</th>\n",
              "      <td>...</td>\n",
              "      <td>...</td>\n",
              "      <td>...</td>\n",
              "      <td>...</td>\n",
              "    </tr>\n",
              "    <tr>\n",
              "      <th>3548</th>\n",
              "      <td>370858</td>\n",
              "      <td>Antonio Figueroa</td>\n",
              "      <td>Querétaro FC</td>\n",
              "      <td>[]</td>\n",
              "    </tr>\n",
              "    <tr>\n",
              "      <th>3549</th>\n",
              "      <td>395164</td>\n",
              "      <td>José Angulo</td>\n",
              "      <td>Querétaro FC</td>\n",
              "      <td>[(21/22, Pubitis, Oct 25, 2021, Nov 18, 2021, ...</td>\n",
              "    </tr>\n",
              "    <tr>\n",
              "      <th>3550</th>\n",
              "      <td>68562</td>\n",
              "      <td>Ariel Nahuelpán</td>\n",
              "      <td>Querétaro FC</td>\n",
              "      <td>[(20/21, Calf Injury, May 20, 2021, Jun 10, 20...</td>\n",
              "    </tr>\n",
              "    <tr>\n",
              "      <th>3551</th>\n",
              "      <td>403747</td>\n",
              "      <td>Jonathan Dos Santos</td>\n",
              "      <td>Querétaro FC</td>\n",
              "      <td>[(20/21, Torn muscle bundle, Oct 16, 2020, Nov...</td>\n",
              "    </tr>\n",
              "    <tr>\n",
              "      <th>3552</th>\n",
              "      <td>945935</td>\n",
              "      <td>Ettson Ayón</td>\n",
              "      <td>Querétaro FC</td>\n",
              "      <td>[]</td>\n",
              "    </tr>\n",
              "  </tbody>\n",
              "</table>\n",
              "<p>3553 rows × 4 columns</p>\n",
              "</div>\n",
              "      <button class=\"colab-df-convert\" onclick=\"convertToInteractive('df-abd41a19-92f1-45c5-99da-0a33f75aa325')\"\n",
              "              title=\"Convert this dataframe to an interactive table.\"\n",
              "              style=\"display:none;\">\n",
              "        \n",
              "  <svg xmlns=\"http://www.w3.org/2000/svg\" height=\"24px\"viewBox=\"0 0 24 24\"\n",
              "       width=\"24px\">\n",
              "    <path d=\"M0 0h24v24H0V0z\" fill=\"none\"/>\n",
              "    <path d=\"M18.56 5.44l.94 2.06.94-2.06 2.06-.94-2.06-.94-.94-2.06-.94 2.06-2.06.94zm-11 1L8.5 8.5l.94-2.06 2.06-.94-2.06-.94L8.5 2.5l-.94 2.06-2.06.94zm10 10l.94 2.06.94-2.06 2.06-.94-2.06-.94-.94-2.06-.94 2.06-2.06.94z\"/><path d=\"M17.41 7.96l-1.37-1.37c-.4-.4-.92-.59-1.43-.59-.52 0-1.04.2-1.43.59L10.3 9.45l-7.72 7.72c-.78.78-.78 2.05 0 2.83L4 21.41c.39.39.9.59 1.41.59.51 0 1.02-.2 1.41-.59l7.78-7.78 2.81-2.81c.8-.78.8-2.07 0-2.86zM5.41 20L4 18.59l7.72-7.72 1.47 1.35L5.41 20z\"/>\n",
              "  </svg>\n",
              "      </button>\n",
              "      \n",
              "  <style>\n",
              "    .colab-df-container {\n",
              "      display:flex;\n",
              "      flex-wrap:wrap;\n",
              "      gap: 12px;\n",
              "    }\n",
              "\n",
              "    .colab-df-convert {\n",
              "      background-color: #E8F0FE;\n",
              "      border: none;\n",
              "      border-radius: 50%;\n",
              "      cursor: pointer;\n",
              "      display: none;\n",
              "      fill: #1967D2;\n",
              "      height: 32px;\n",
              "      padding: 0 0 0 0;\n",
              "      width: 32px;\n",
              "    }\n",
              "\n",
              "    .colab-df-convert:hover {\n",
              "      background-color: #E2EBFA;\n",
              "      box-shadow: 0px 1px 2px rgba(60, 64, 67, 0.3), 0px 1px 3px 1px rgba(60, 64, 67, 0.15);\n",
              "      fill: #174EA6;\n",
              "    }\n",
              "\n",
              "    [theme=dark] .colab-df-convert {\n",
              "      background-color: #3B4455;\n",
              "      fill: #D2E3FC;\n",
              "    }\n",
              "\n",
              "    [theme=dark] .colab-df-convert:hover {\n",
              "      background-color: #434B5C;\n",
              "      box-shadow: 0px 1px 3px 1px rgba(0, 0, 0, 0.15);\n",
              "      filter: drop-shadow(0px 1px 2px rgba(0, 0, 0, 0.3));\n",
              "      fill: #FFFFFF;\n",
              "    }\n",
              "  </style>\n",
              "\n",
              "      <script>\n",
              "        const buttonEl =\n",
              "          document.querySelector('#df-abd41a19-92f1-45c5-99da-0a33f75aa325 button.colab-df-convert');\n",
              "        buttonEl.style.display =\n",
              "          google.colab.kernel.accessAllowed ? 'block' : 'none';\n",
              "\n",
              "        async function convertToInteractive(key) {\n",
              "          const element = document.querySelector('#df-abd41a19-92f1-45c5-99da-0a33f75aa325');\n",
              "          const dataTable =\n",
              "            await google.colab.kernel.invokeFunction('convertToInteractive',\n",
              "                                                     [key], {});\n",
              "          if (!dataTable) return;\n",
              "\n",
              "          const docLinkHtml = 'Like what you see? Visit the ' +\n",
              "            '<a target=\"_blank\" href=https://colab.research.google.com/notebooks/data_table.ipynb>data table notebook</a>'\n",
              "            + ' to learn more about interactive tables.';\n",
              "          element.innerHTML = '';\n",
              "          dataTable['output_type'] = 'display_data';\n",
              "          await google.colab.output.renderOutput(dataTable, element);\n",
              "          const docLink = document.createElement('div');\n",
              "          docLink.innerHTML = docLinkHtml;\n",
              "          element.appendChild(docLink);\n",
              "        }\n",
              "      </script>\n",
              "    </div>\n",
              "  </div>\n",
              "  "
            ],
            "text/plain": [
              "           0                    1                 2  \\\n",
              "0     126630         Sean Johnson  New York City FC   \n",
              "1     644782         Luis Barraza  New York City FC   \n",
              "2     297422          Cody Mizell  New York City FC   \n",
              "3     277318       Thiago Martins  New York City FC   \n",
              "4     147462    Alexander Callens  New York City FC   \n",
              "...      ...                  ...               ...   \n",
              "3548  370858     Antonio Figueroa      Querétaro FC   \n",
              "3549  395164          José Angulo      Querétaro FC   \n",
              "3550   68562      Ariel Nahuelpán      Querétaro FC   \n",
              "3551  403747  Jonathan Dos Santos      Querétaro FC   \n",
              "3552  945935          Ettson Ayón      Querétaro FC   \n",
              "\n",
              "                                                      3  \n",
              "0     [(18/19, Shoulder Injury, Aug 1, 2018, Aug 15,...  \n",
              "1                                                    []  \n",
              "2                                                    []  \n",
              "3     [(21/22, Bruise, Aug 20, 2021, Aug 29, 2021, 9...  \n",
              "4     [(18/19, Muscle Injury, Apr 1, 2019, Apr 18, 2...  \n",
              "...                                                 ...  \n",
              "3548                                                 []  \n",
              "3549  [(21/22, Pubitis, Oct 25, 2021, Nov 18, 2021, ...  \n",
              "3550  [(20/21, Calf Injury, May 20, 2021, Jun 10, 20...  \n",
              "3551  [(20/21, Torn muscle bundle, Oct 16, 2020, Nov...  \n",
              "3552                                                 []  \n",
              "\n",
              "[3553 rows x 4 columns]"
            ]
          },
          "execution_count": 32,
          "metadata": {},
          "output_type": "execute_result"
        }
      ],
      "source": [
        "df_player = pd.DataFrame(player_list)\n",
        "df_player"
      ]
    },
    {
      "attachments": {},
      "cell_type": "markdown",
      "metadata": {
        "id": "c4vzGAns9mTE"
      },
      "source": [
        "# Scraping data from FBRef\n",
        "The following section outlines the steps taken to scrape all necessary data from the FBReference website."
      ]
    },
    {
      "attachments": {},
      "cell_type": "markdown",
      "metadata": {
        "id": "cvAujkFsAT28"
      },
      "source": [
        "#### Step 1: Define all columns that we want to extract from FBReference."
      ]
    },
    {
      "cell_type": "code",
      "execution_count": null,
      "metadata": {
        "id": "qosMWXfjHmqd"
      },
      "outputs": [],
      "source": [
        "#standard(stats)\n",
        "stats = [\"player\",\"nationality\",\"position\",\"team\",\"age\",\"birth_year\",\"games\",\"games_starts\",\"minutes\",\"cards_yellow\",\"cards_red\"]\n",
        "stats3 = [\"players_used\",\"possession\",\"games\",\"games_starts\",\"minutes\",\"goals\",\"assists\",\"cards_yellow\",\"cards_red\"] \n",
        "#goalkeeping(keepers)\n",
        "keepers = [\"player\",\"nationality\",\"position\",\"squad\",\"age\",\"birth_year\"]\n",
        "#shooting(shooting)\n",
        "shooting = [\"player\",\"nationality\",\"position\",\"squad\",\"age\",\"birth_year\",\"minutes_90s\",\"shots_total\",\"shots_total_per90\"]\n",
        "shooting2 = [\"minutes_90s\",\"goals\",\"shots\",\"shots_free_kicks\"]\n",
        "shooting3 = [\"goals\",\"pens_made\",\"pens_att\",\"shots_total\",\"shots_free_kicks\"]\n",
        "#passing(passing)\n",
        "passing = [\"player\",\"nationality\",\"position\",\"squad\",\"age\",\"birth_year\",\"minutes_90s\",\"passes_completed\",\"passes\",\"passes_total_distance\",\"passes_short\",\"passes_medium\",\"passes_long\"]\n",
        "passing2 = [\"passes_completed\",\"passes\",\"passes_total_distance\",\"passes_progressive_distance\",\"passes_short\",\"passes_medium\",\"passes_long\"]\n",
        "#passtypes(passing_types)\n",
        "passing_types = [\"player\",\"nationality\",\"position\",\"squad\",\"age\",\"birth_year\",\"minutes_90s\",\"passes\",\"passes_live\",\"passes_dead\",\"passes_free_kicks\",\"through_balls\",\"passes_switches\",\"crosses\",\"corner_kicks\"]\n",
        "passing_types2 = [\"passes\",\"passes_live\",\"passes_dead\",\"passes_free_kicks\",\"through_balls\",\"passes_switches\",\"crosses\",\"corner_kicks\"]\n",
        "#defensive actions(defense)\n",
        "defense = [\"player\",\"nationality\",\"position\",\"squad\",\"age\",\"birth_year\",\"minutes_90s\",\"tackles\",\"tackles_won\",\"dribble_tackles\",\"dribbled_past\",\"blocks\",\"interceptions\",\"clearances\",\"errors\"]\n",
        "defense2 = [\"tackles\",\"tackles_won\",\"dribble_tackles\",\"dribbled_past\",\"blocks\",\"interceptions\",\"clearances\",\"errors\"]\n",
        "#possession(possession)\n",
        "possession = [\"player\",\"nationality\",\"position\",\"squad\",\"age\",\"birth_year\",\"minutes_90s\",\"touches\",\"touches_live_ball\",\"dribbles\",\"miscontrols\",\"dispossessed\",\"passes_received\"]\n",
        "possession2 = [\"touches\",\"touches_live_ball\",\"dribbles\",\"miscontrols\",\"dispossessed\",\"passes_received\"]\n",
        "#playingtime(playingtime)\n",
        "playingtime = [\"player\",\"nationality\",\"position\",\"squad\",\"age\",\"birth_year\",\"minutes_90s\",\"games\",\"minutes\",\"minutes_per_game\",\"minutes_pct\",\"games_starts\",\"minutes_per_start\",\"games_subs\",\"minutes_per_sub\",\"unused_subs\"]\n",
        "playingtime2 = [\"games\",\"minutes\",\"minutes_per_game\",\"minutes_pct\",\"games_starts\",\"minutes_per_start\",\"games_subs\",\"minutes_per_sub\",\"unused_subs\"]\n",
        "#miscallaneous(misc)\n",
        "misc = [\"player\",\"nationality\",\"position\",\"squad\",\"age\",\"birth_year\",\"minutes_90s\",\"cards_yellow\",\"cards_red\",\"fouls\",\"fouled\",\"ball_recoveries\",\"aerials_won\",\"aerials_lost\"]\n",
        "misc2 = [\"cards_yellow\",\"cards_red\",\"fouls\",\"fouled\",\"ball_recoveries\",\"aerials_won\",\"aerials_lost\"]"
      ]
    },
    {
      "attachments": {},
      "cell_type": "markdown",
      "metadata": {
        "id": "U5--K03bJ-hO"
      },
      "source": [
        "#### Step 2: Define all functions needed for scraping."
      ]
    },
    {
      "cell_type": "code",
      "execution_count": null,
      "metadata": {
        "id": "n9pncpDNQPX0"
      },
      "outputs": [],
      "source": [
        "import time\n",
        "def get_tables(url):\n",
        "    res = requests.get(url)\n",
        "    ## The next two lines get around the issue with comments breaking the parsing.\n",
        "    comm = re.compile(\"<!--|-->\")\n",
        "    soup = bs(comm.sub(\"\",res.text),'lxml')\n",
        "    all_tables = soup.findAll(\"tbody\")\n",
        "    player_table = all_tables[1]\n",
        "    return player_table\n",
        "\n",
        "def get_frame(features, player_table):\n",
        "    pre_df_player = dict()\n",
        "    features_wanted_player = features\n",
        "    rows_player = player_table.find_all('tr')\n",
        "    for row in rows_player:\n",
        "        if(row.find('th',{\"scope\":\"row\"}) != None):\n",
        "    \n",
        "            for f in features_wanted_player:\n",
        "                cell = row.find(\"td\",{\"data-stat\": f})\n",
        "                a = cell.text.strip().encode()\n",
        "                text=a.decode(\"utf-8\")\n",
        "                if(text == ''):\n",
        "                    text = '0'\n",
        "                if((f!='player')&(f!='nationality')&(f!='position')&(f!='team')&(f!='age')&(f!='birth_year')):\n",
        "                    text = float(text.replace(',',''))\n",
        "                if f in pre_df_player:\n",
        "                    pre_df_player[f].append(text)\n",
        "                else:\n",
        "                    pre_df_player[f] = [text]\n",
        "\n",
        "                # # get height and weight\n",
        "                # if (f == 'player'):\n",
        "                #   time.sleep(2.5)\n",
        "                #   cell_href = row.find(\"td\",{\"data-stat\": f})\n",
        "                #   href = cell_href.findAll('a')[0].get('href')\n",
        "                #   player_url = 'https://fbref.com' + href\n",
        "                #   res = requests.get(player_url)\n",
        "                #   comm = re.compile(\"<!--|-->\")\n",
        "                #   soup = BeautifulSoup(comm.sub(\"\",res.text),'lxml')\n",
        "                #   div = soup.find(\"div\", {\"id\": \"info\"})\n",
        "                #   p_hw = div.findAll('p')[2]\n",
        "                #   h_span = p_hw.findAll('span')[0]\n",
        "                #   w_span = p_hw.findAll('span')[1]\n",
        "                #   pre_df_player['height'] = h_span.get_text()\n",
        "                #   pre_df_player['weight'] = w_span.get_text()\n",
        "\n",
        "    df_player = pd.DataFrame.from_dict(pre_df_player)\n",
        "    return df_player\n",
        "\n",
        "def frame_for_category(category,top,end,features):\n",
        "    url = (top + category + end)\n",
        "    player_table = get_tables(url)\n",
        "    df_player = get_frame(features, player_table)\n",
        "    return df_player\n",
        "\n",
        "def get_outfield_data(top, end):\n",
        "    df1 = frame_for_category('stats',top,end,stats)\n",
        "    df2 = frame_for_category('shooting',top,end,shooting2)\n",
        "    df3 = frame_for_category('passing',top,end,passing2)\n",
        "    df4 = frame_for_category('passing_types',top,end,passing_types2)\n",
        "    df6 = frame_for_category('defense',top,end,defense2)\n",
        "    df7 = frame_for_category('possession',top,end,possession2)\n",
        "    df8 = frame_for_category('misc',top,end,misc2)\n",
        "    df = pd.concat([df1, df2, df3, df4, df6, df7, df8], axis=1)\n",
        "    df = df.loc[:,~df.columns.duplicated()]\n",
        "    return df\n"
      ]
    },
    {
      "attachments": {},
      "cell_type": "markdown",
      "metadata": {
        "id": "kNs5O2MSU7Yo"
      },
      "source": [
        "#### Step 3: Run scraper with corresponding URL for up-to-date player data."
      ]
    },
    {
      "cell_type": "code",
      "execution_count": null,
      "metadata": {
        "id": "UGXHbedgScDE"
      },
      "outputs": [],
      "source": [
        "link_arr = [['https://fbref.com/en/comps/22/','/Major-League-Soccer-Stats'],\n",
        "            ['https://fbref.com/en/comps/32/','/Primeira-Liga-Stats'],\n",
        "            ['https://fbref.com/en/comps/23/','/Eredivisie-Stats'],\n",
        "            ['https://fbref.com/en/comps/10/','/Championship-Stats'],\n",
        "            ['https://fbref.com/en/comps/24/','/Serie-A-Stats'],\n",
        "            ['https://fbref.com/en/comps/31/','/Liga-MX-Stats']]\n",
        "\n",
        "\n",
        "for link in link_arr:\n",
        "  df_outfield = get_outfield_data(link[0],link[1])\n",
        "\n",
        "df_outfield.to_csv('fbref_data_2022.csv', sep=';')"
      ]
    }
  ],
  "metadata": {
    "colab": {
      "provenance": [],
      "toc_visible": true
    },
    "kernelspec": {
      "display_name": "Python 3",
      "name": "python3"
    },
    "language_info": {
      "codemirror_mode": {
        "name": "ipython",
        "version": 3
      },
      "file_extension": ".py",
      "mimetype": "text/x-python",
      "name": "python",
      "nbconvert_exporter": "python",
      "pygments_lexer": "ipython3",
      "version": "3.11.3"
    }
  },
  "nbformat": 4,
  "nbformat_minor": 0
}
